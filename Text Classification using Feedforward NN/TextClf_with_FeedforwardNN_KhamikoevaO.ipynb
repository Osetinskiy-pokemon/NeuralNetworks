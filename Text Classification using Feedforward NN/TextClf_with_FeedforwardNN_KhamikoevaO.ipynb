{
  "cells": [
    {
      "cell_type": "markdown",
      "metadata": {
        "id": "b-bPsAMVz-Pq"
      },
      "source": [
        "# 5. Классификация текстов при помощи сетей прямого распространения\n",
        "\n",
        "__Автор__: Никита Владимирович Блохин (NVBlokhin@fa.ru)\n",
        "\n",
        "Финансовый университет, 2020 г. "
      ]
    },
    {
      "cell_type": "code",
      "source": [
        "import re\n",
        "import nltk\n",
        "\n",
        "import torch\n",
        "from torch.utils.data import Dataset, DataLoader, random_split\n",
        "import torch.nn as nn\n",
        "import torch.optim as optim\n",
        "\n",
        "import pandas as pd\n",
        "from sklearn.model_selection import train_test_split\n",
        "from sklearn.metrics import accuracy_score\n",
        "from nltk.tokenize import word_tokenize\n",
        "from sklearn.preprocessing import LabelEncoder\n",
        "from sklearn import preprocessing\n",
        "import matplotlib.pyplot as plt\n",
        "import torch.nn.functional as F"
      ],
      "metadata": {
        "id": "fn3iSGm60fOM"
      },
      "execution_count": 9,
      "outputs": []
    },
    {
      "cell_type": "code",
      "source": [
        "nltk.download('punkt')"
      ],
      "metadata": {
        "colab": {
          "base_uri": "https://localhost:8080/"
        },
        "id": "wuzc730h0ihi",
        "outputId": "7759fe58-3595-4489-e8e3-5b9d42c5f6ed"
      },
      "execution_count": 10,
      "outputs": [
        {
          "output_type": "stream",
          "name": "stderr",
          "text": [
            "[nltk_data] Downloading package punkt to /root/nltk_data...\n",
            "[nltk_data]   Unzipping tokenizers/punkt.zip.\n"
          ]
        },
        {
          "output_type": "execute_result",
          "data": {
            "text/plain": [
              "True"
            ]
          },
          "metadata": {},
          "execution_count": 10
        }
      ]
    },
    {
      "cell_type": "markdown",
      "metadata": {
        "id": "jqDHq_AEjRZ1"
      },
      "source": [
        "## 1. Представление и предобработка текстовых данных "
      ]
    },
    {
      "cell_type": "markdown",
      "metadata": {
        "id": "vaki7efDpmXo"
      },
      "source": [
        "1.1 Операции по предобработке:\n",
        "* токенизация\n",
        "* стемминг / лемматизация\n",
        "* удаление стоп-слов\n",
        "* удаление пунктуации\n",
        "* приведение к нижнему регистру\n",
        "* любые другие операции над текстом"
      ]
    },
    {
      "cell_type": "markdown",
      "source": [
        "**Для начала произведем все вышеперечисленные операции:**"
      ],
      "metadata": {
        "id": "6cOQmOIk6S_J"
      }
    },
    {
      "cell_type": "code",
      "execution_count": 11,
      "metadata": {
        "id": "nHRy4jpYphEr"
      },
      "outputs": [],
      "source": [
        "from nltk.tokenize import word_tokenize, sent_tokenize\n",
        "from nltk.stem.snowball import SnowballStemmer\n",
        "\n",
        "from nltk.stem import WordNetLemmatizer "
      ]
    },
    {
      "cell_type": "code",
      "execution_count": 12,
      "metadata": {
        "id": "lMMzGhq0ikz1"
      },
      "outputs": [],
      "source": [
        "text = 'Select your preferences and run the install command. Stable represents the most currently tested and supported version of PyTorch. Note that LibTorch is only available for C++'"
      ]
    },
    {
      "cell_type": "code",
      "source": [
        "list_text = nltk.word_tokenize(text) # токенизируем по словам\n",
        "list_text"
      ],
      "metadata": {
        "colab": {
          "base_uri": "https://localhost:8080/"
        },
        "id": "fs-ByXHU1ErK",
        "outputId": "892d5189-0aea-4085-edaa-e7f4d21be27e"
      },
      "execution_count": 13,
      "outputs": [
        {
          "output_type": "execute_result",
          "data": {
            "text/plain": [
              "['Select',\n",
              " 'your',\n",
              " 'preferences',\n",
              " 'and',\n",
              " 'run',\n",
              " 'the',\n",
              " 'install',\n",
              " 'command',\n",
              " '.',\n",
              " 'Stable',\n",
              " 'represents',\n",
              " 'the',\n",
              " 'most',\n",
              " 'currently',\n",
              " 'tested',\n",
              " 'and',\n",
              " 'supported',\n",
              " 'version',\n",
              " 'of',\n",
              " 'PyTorch',\n",
              " '.',\n",
              " 'Note',\n",
              " 'that',\n",
              " 'LibTorch',\n",
              " 'is',\n",
              " 'only',\n",
              " 'available',\n",
              " 'for',\n",
              " 'C++']"
            ]
          },
          "metadata": {},
          "execution_count": 13
        }
      ]
    },
    {
      "cell_type": "code",
      "source": [
        "nltk.sent_tokenize(text) # токенизируем по предложениям"
      ],
      "metadata": {
        "colab": {
          "base_uri": "https://localhost:8080/"
        },
        "id": "wyMMk3nN1NfS",
        "outputId": "2cea0c21-c463-4d52-a49e-eed8c3bc7e4e"
      },
      "execution_count": 14,
      "outputs": [
        {
          "output_type": "execute_result",
          "data": {
            "text/plain": [
              "['Select your preferences and run the install command.',\n",
              " 'Stable represents the most currently tested and supported version of PyTorch.',\n",
              " 'Note that LibTorch is only available for C++']"
            ]
          },
          "metadata": {},
          "execution_count": 14
        }
      ]
    },
    {
      "cell_type": "code",
      "source": [
        "stemmer = SnowballStemmer(language = 'english') # приводим слова к единой форме, стемминг опускает окончания слов Snowball Stemmer"
      ],
      "metadata": {
        "id": "2q2TqddE1Nq5"
      },
      "execution_count": 15,
      "outputs": []
    },
    {
      "cell_type": "code",
      "source": [
        "stem_list = []\n",
        "for el in list_text:\n",
        "  stem_list.append(stemmer.stem(el))\n",
        "stem_list"
      ],
      "metadata": {
        "colab": {
          "base_uri": "https://localhost:8080/"
        },
        "id": "fk6kuaBR1N8x",
        "outputId": "724eb6be-9e27-4021-b209-2dadffdc9de3"
      },
      "execution_count": 16,
      "outputs": [
        {
          "output_type": "execute_result",
          "data": {
            "text/plain": [
              "['select',\n",
              " 'your',\n",
              " 'prefer',\n",
              " 'and',\n",
              " 'run',\n",
              " 'the',\n",
              " 'instal',\n",
              " 'command',\n",
              " '.',\n",
              " 'stabl',\n",
              " 'repres',\n",
              " 'the',\n",
              " 'most',\n",
              " 'current',\n",
              " 'test',\n",
              " 'and',\n",
              " 'support',\n",
              " 'version',\n",
              " 'of',\n",
              " 'pytorch',\n",
              " '.',\n",
              " 'note',\n",
              " 'that',\n",
              " 'libtorch',\n",
              " 'is',\n",
              " 'onli',\n",
              " 'avail',\n",
              " 'for',\n",
              " 'c++']"
            ]
          },
          "metadata": {},
          "execution_count": 16
        }
      ]
    },
    {
      "cell_type": "code",
      "source": [
        "nltk.download('wordnet')  # лексическая база данных для английского языка для того, чтобы установить структурированные семантические отношения между словами"
      ],
      "metadata": {
        "colab": {
          "base_uri": "https://localhost:8080/"
        },
        "id": "LWRDGXCh2U5h",
        "outputId": "e93d2901-d694-4c03-e415-e505c11debfc"
      },
      "execution_count": 17,
      "outputs": [
        {
          "output_type": "stream",
          "name": "stderr",
          "text": [
            "[nltk_data] Downloading package wordnet to /root/nltk_data...\n"
          ]
        },
        {
          "output_type": "execute_result",
          "data": {
            "text/plain": [
              "True"
            ]
          },
          "metadata": {},
          "execution_count": 17
        }
      ]
    },
    {
      "cell_type": "code",
      "source": [
        "nltk.download('omw-1.4')"
      ],
      "metadata": {
        "colab": {
          "base_uri": "https://localhost:8080/"
        },
        "id": "c55rX_gY4y_C",
        "outputId": "0d85a4dc-9161-425a-b6c4-b42a07f0be2a"
      },
      "execution_count": 18,
      "outputs": [
        {
          "output_type": "stream",
          "name": "stderr",
          "text": [
            "[nltk_data] Downloading package omw-1.4 to /root/nltk_data...\n"
          ]
        },
        {
          "output_type": "execute_result",
          "data": {
            "text/plain": [
              "True"
            ]
          },
          "metadata": {},
          "execution_count": 18
        }
      ]
    },
    {
      "cell_type": "code",
      "source": [
        "lemmatizer = WordNetLemmatizer() # создаем экземпляр WordNetLemmatizer()"
      ],
      "metadata": {
        "id": "XkTYA0R-41EB"
      },
      "execution_count": 19,
      "outputs": []
    },
    {
      "cell_type": "code",
      "source": [
        "lem_list = []\n",
        "for el in list_text:\n",
        "  lem_list.append(lemmatizer.lemmatize(el)) # вызываем функцию lemmatize() для каждого слова в list_text\n",
        "lem_list"
      ],
      "metadata": {
        "colab": {
          "base_uri": "https://localhost:8080/"
        },
        "id": "aIdzFbVT43nz",
        "outputId": "9cf2d0e2-4aa6-4979-debb-5ec3ced9bad3"
      },
      "execution_count": 20,
      "outputs": [
        {
          "output_type": "execute_result",
          "data": {
            "text/plain": [
              "['Select',\n",
              " 'your',\n",
              " 'preference',\n",
              " 'and',\n",
              " 'run',\n",
              " 'the',\n",
              " 'install',\n",
              " 'command',\n",
              " '.',\n",
              " 'Stable',\n",
              " 'represents',\n",
              " 'the',\n",
              " 'most',\n",
              " 'currently',\n",
              " 'tested',\n",
              " 'and',\n",
              " 'supported',\n",
              " 'version',\n",
              " 'of',\n",
              " 'PyTorch',\n",
              " '.',\n",
              " 'Note',\n",
              " 'that',\n",
              " 'LibTorch',\n",
              " 'is',\n",
              " 'only',\n",
              " 'available',\n",
              " 'for',\n",
              " 'C++']"
            ]
          },
          "metadata": {},
          "execution_count": 20
        }
      ]
    },
    {
      "cell_type": "code",
      "source": [
        "sl = {'stem_word': stem_list, 'norm_word': lem_list} # создаем словарь со словами до и после обработки \n",
        "data = pd.DataFrame(sl, index = list_text)\n",
        "data"
      ],
      "metadata": {
        "colab": {
          "base_uri": "https://localhost:8080/",
          "height": 959
        },
        "id": "Hb5WdJgO43qm",
        "outputId": "511a842d-c251-4111-9360-0faa45a71bb2"
      },
      "execution_count": 21,
      "outputs": [
        {
          "output_type": "execute_result",
          "data": {
            "text/plain": [
              "            stem_word   norm_word\n",
              "Select         select      Select\n",
              "your             your        your\n",
              "preferences    prefer  preference\n",
              "and               and         and\n",
              "run               run         run\n",
              "the               the         the\n",
              "install        instal     install\n",
              "command       command     command\n",
              ".                   .           .\n",
              "Stable          stabl      Stable\n",
              "represents     repres  represents\n",
              "the               the         the\n",
              "most             most        most\n",
              "currently     current   currently\n",
              "tested           test      tested\n",
              "and               and         and\n",
              "supported     support   supported\n",
              "version       version     version\n",
              "of                 of          of\n",
              "PyTorch       pytorch     PyTorch\n",
              ".                   .           .\n",
              "Note             note        Note\n",
              "that             that        that\n",
              "LibTorch     libtorch    LibTorch\n",
              "is                 is          is\n",
              "only             onli        only\n",
              "available       avail   available\n",
              "for               for         for\n",
              "C++               c++         C++"
            ],
            "text/html": [
              "\n",
              "  <div id=\"df-bd4be9a2-0d13-4490-9746-94b3c1f7ed3a\">\n",
              "    <div class=\"colab-df-container\">\n",
              "      <div>\n",
              "<style scoped>\n",
              "    .dataframe tbody tr th:only-of-type {\n",
              "        vertical-align: middle;\n",
              "    }\n",
              "\n",
              "    .dataframe tbody tr th {\n",
              "        vertical-align: top;\n",
              "    }\n",
              "\n",
              "    .dataframe thead th {\n",
              "        text-align: right;\n",
              "    }\n",
              "</style>\n",
              "<table border=\"1\" class=\"dataframe\">\n",
              "  <thead>\n",
              "    <tr style=\"text-align: right;\">\n",
              "      <th></th>\n",
              "      <th>stem_word</th>\n",
              "      <th>norm_word</th>\n",
              "    </tr>\n",
              "  </thead>\n",
              "  <tbody>\n",
              "    <tr>\n",
              "      <th>Select</th>\n",
              "      <td>select</td>\n",
              "      <td>Select</td>\n",
              "    </tr>\n",
              "    <tr>\n",
              "      <th>your</th>\n",
              "      <td>your</td>\n",
              "      <td>your</td>\n",
              "    </tr>\n",
              "    <tr>\n",
              "      <th>preferences</th>\n",
              "      <td>prefer</td>\n",
              "      <td>preference</td>\n",
              "    </tr>\n",
              "    <tr>\n",
              "      <th>and</th>\n",
              "      <td>and</td>\n",
              "      <td>and</td>\n",
              "    </tr>\n",
              "    <tr>\n",
              "      <th>run</th>\n",
              "      <td>run</td>\n",
              "      <td>run</td>\n",
              "    </tr>\n",
              "    <tr>\n",
              "      <th>the</th>\n",
              "      <td>the</td>\n",
              "      <td>the</td>\n",
              "    </tr>\n",
              "    <tr>\n",
              "      <th>install</th>\n",
              "      <td>instal</td>\n",
              "      <td>install</td>\n",
              "    </tr>\n",
              "    <tr>\n",
              "      <th>command</th>\n",
              "      <td>command</td>\n",
              "      <td>command</td>\n",
              "    </tr>\n",
              "    <tr>\n",
              "      <th>.</th>\n",
              "      <td>.</td>\n",
              "      <td>.</td>\n",
              "    </tr>\n",
              "    <tr>\n",
              "      <th>Stable</th>\n",
              "      <td>stabl</td>\n",
              "      <td>Stable</td>\n",
              "    </tr>\n",
              "    <tr>\n",
              "      <th>represents</th>\n",
              "      <td>repres</td>\n",
              "      <td>represents</td>\n",
              "    </tr>\n",
              "    <tr>\n",
              "      <th>the</th>\n",
              "      <td>the</td>\n",
              "      <td>the</td>\n",
              "    </tr>\n",
              "    <tr>\n",
              "      <th>most</th>\n",
              "      <td>most</td>\n",
              "      <td>most</td>\n",
              "    </tr>\n",
              "    <tr>\n",
              "      <th>currently</th>\n",
              "      <td>current</td>\n",
              "      <td>currently</td>\n",
              "    </tr>\n",
              "    <tr>\n",
              "      <th>tested</th>\n",
              "      <td>test</td>\n",
              "      <td>tested</td>\n",
              "    </tr>\n",
              "    <tr>\n",
              "      <th>and</th>\n",
              "      <td>and</td>\n",
              "      <td>and</td>\n",
              "    </tr>\n",
              "    <tr>\n",
              "      <th>supported</th>\n",
              "      <td>support</td>\n",
              "      <td>supported</td>\n",
              "    </tr>\n",
              "    <tr>\n",
              "      <th>version</th>\n",
              "      <td>version</td>\n",
              "      <td>version</td>\n",
              "    </tr>\n",
              "    <tr>\n",
              "      <th>of</th>\n",
              "      <td>of</td>\n",
              "      <td>of</td>\n",
              "    </tr>\n",
              "    <tr>\n",
              "      <th>PyTorch</th>\n",
              "      <td>pytorch</td>\n",
              "      <td>PyTorch</td>\n",
              "    </tr>\n",
              "    <tr>\n",
              "      <th>.</th>\n",
              "      <td>.</td>\n",
              "      <td>.</td>\n",
              "    </tr>\n",
              "    <tr>\n",
              "      <th>Note</th>\n",
              "      <td>note</td>\n",
              "      <td>Note</td>\n",
              "    </tr>\n",
              "    <tr>\n",
              "      <th>that</th>\n",
              "      <td>that</td>\n",
              "      <td>that</td>\n",
              "    </tr>\n",
              "    <tr>\n",
              "      <th>LibTorch</th>\n",
              "      <td>libtorch</td>\n",
              "      <td>LibTorch</td>\n",
              "    </tr>\n",
              "    <tr>\n",
              "      <th>is</th>\n",
              "      <td>is</td>\n",
              "      <td>is</td>\n",
              "    </tr>\n",
              "    <tr>\n",
              "      <th>only</th>\n",
              "      <td>onli</td>\n",
              "      <td>only</td>\n",
              "    </tr>\n",
              "    <tr>\n",
              "      <th>available</th>\n",
              "      <td>avail</td>\n",
              "      <td>available</td>\n",
              "    </tr>\n",
              "    <tr>\n",
              "      <th>for</th>\n",
              "      <td>for</td>\n",
              "      <td>for</td>\n",
              "    </tr>\n",
              "    <tr>\n",
              "      <th>C++</th>\n",
              "      <td>c++</td>\n",
              "      <td>C++</td>\n",
              "    </tr>\n",
              "  </tbody>\n",
              "</table>\n",
              "</div>\n",
              "      <button class=\"colab-df-convert\" onclick=\"convertToInteractive('df-bd4be9a2-0d13-4490-9746-94b3c1f7ed3a')\"\n",
              "              title=\"Convert this dataframe to an interactive table.\"\n",
              "              style=\"display:none;\">\n",
              "        \n",
              "  <svg xmlns=\"http://www.w3.org/2000/svg\" height=\"24px\"viewBox=\"0 0 24 24\"\n",
              "       width=\"24px\">\n",
              "    <path d=\"M0 0h24v24H0V0z\" fill=\"none\"/>\n",
              "    <path d=\"M18.56 5.44l.94 2.06.94-2.06 2.06-.94-2.06-.94-.94-2.06-.94 2.06-2.06.94zm-11 1L8.5 8.5l.94-2.06 2.06-.94-2.06-.94L8.5 2.5l-.94 2.06-2.06.94zm10 10l.94 2.06.94-2.06 2.06-.94-2.06-.94-.94-2.06-.94 2.06-2.06.94z\"/><path d=\"M17.41 7.96l-1.37-1.37c-.4-.4-.92-.59-1.43-.59-.52 0-1.04.2-1.43.59L10.3 9.45l-7.72 7.72c-.78.78-.78 2.05 0 2.83L4 21.41c.39.39.9.59 1.41.59.51 0 1.02-.2 1.41-.59l7.78-7.78 2.81-2.81c.8-.78.8-2.07 0-2.86zM5.41 20L4 18.59l7.72-7.72 1.47 1.35L5.41 20z\"/>\n",
              "  </svg>\n",
              "      </button>\n",
              "      \n",
              "  <style>\n",
              "    .colab-df-container {\n",
              "      display:flex;\n",
              "      flex-wrap:wrap;\n",
              "      gap: 12px;\n",
              "    }\n",
              "\n",
              "    .colab-df-convert {\n",
              "      background-color: #E8F0FE;\n",
              "      border: none;\n",
              "      border-radius: 50%;\n",
              "      cursor: pointer;\n",
              "      display: none;\n",
              "      fill: #1967D2;\n",
              "      height: 32px;\n",
              "      padding: 0 0 0 0;\n",
              "      width: 32px;\n",
              "    }\n",
              "\n",
              "    .colab-df-convert:hover {\n",
              "      background-color: #E2EBFA;\n",
              "      box-shadow: 0px 1px 2px rgba(60, 64, 67, 0.3), 0px 1px 3px 1px rgba(60, 64, 67, 0.15);\n",
              "      fill: #174EA6;\n",
              "    }\n",
              "\n",
              "    [theme=dark] .colab-df-convert {\n",
              "      background-color: #3B4455;\n",
              "      fill: #D2E3FC;\n",
              "    }\n",
              "\n",
              "    [theme=dark] .colab-df-convert:hover {\n",
              "      background-color: #434B5C;\n",
              "      box-shadow: 0px 1px 3px 1px rgba(0, 0, 0, 0.15);\n",
              "      filter: drop-shadow(0px 1px 2px rgba(0, 0, 0, 0.3));\n",
              "      fill: #FFFFFF;\n",
              "    }\n",
              "  </style>\n",
              "\n",
              "      <script>\n",
              "        const buttonEl =\n",
              "          document.querySelector('#df-bd4be9a2-0d13-4490-9746-94b3c1f7ed3a button.colab-df-convert');\n",
              "        buttonEl.style.display =\n",
              "          google.colab.kernel.accessAllowed ? 'block' : 'none';\n",
              "\n",
              "        async function convertToInteractive(key) {\n",
              "          const element = document.querySelector('#df-bd4be9a2-0d13-4490-9746-94b3c1f7ed3a');\n",
              "          const dataTable =\n",
              "            await google.colab.kernel.invokeFunction('convertToInteractive',\n",
              "                                                     [key], {});\n",
              "          if (!dataTable) return;\n",
              "\n",
              "          const docLinkHtml = 'Like what you see? Visit the ' +\n",
              "            '<a target=\"_blank\" href=https://colab.research.google.com/notebooks/data_table.ipynb>data table notebook</a>'\n",
              "            + ' to learn more about interactive tables.';\n",
              "          element.innerHTML = '';\n",
              "          dataTable['output_type'] = 'display_data';\n",
              "          await google.colab.output.renderOutput(dataTable, element);\n",
              "          const docLink = document.createElement('div');\n",
              "          docLink.innerHTML = docLinkHtml;\n",
              "          element.appendChild(docLink);\n",
              "        }\n",
              "      </script>\n",
              "    </div>\n",
              "  </div>\n",
              "  "
            ]
          },
          "metadata": {},
          "execution_count": 21
        }
      ]
    },
    {
      "cell_type": "code",
      "source": [
        "nltk.download(\"stopwords\")"
      ],
      "metadata": {
        "colab": {
          "base_uri": "https://localhost:8080/"
        },
        "id": "iA6LK1JP43tY",
        "outputId": "44c1e334-041d-4526-9ffd-4ad56732e10e"
      },
      "execution_count": 22,
      "outputs": [
        {
          "output_type": "stream",
          "name": "stderr",
          "text": [
            "[nltk_data] Downloading package stopwords to /root/nltk_data...\n",
            "[nltk_data]   Unzipping corpora/stopwords.zip.\n"
          ]
        },
        {
          "output_type": "execute_result",
          "data": {
            "text/plain": [
              "True"
            ]
          },
          "metadata": {},
          "execution_count": 22
        }
      ]
    },
    {
      "cell_type": "code",
      "source": [
        "from nltk.corpus import stopwords"
      ],
      "metadata": {
        "id": "q0QeHZu743y5"
      },
      "execution_count": 23,
      "outputs": []
    },
    {
      "cell_type": "code",
      "source": [
        "stop_words = stopwords.words('english')"
      ],
      "metadata": {
        "id": "rf1q0uFS571Y"
      },
      "execution_count": 24,
      "outputs": []
    },
    {
      "cell_type": "code",
      "source": [
        "stop_words = set(stop_words) # создаем множество с не повторяющимися элементами\n",
        "words_delete_stop = [ws for ws in list_text if ws not in stop_words] # удаляем стоп-слова\n",
        "words_delete_stop"
      ],
      "metadata": {
        "colab": {
          "base_uri": "https://localhost:8080/"
        },
        "id": "WFufUs7G577R",
        "outputId": "bce19a8d-bfd2-4ea8-aba0-f69018746853"
      },
      "execution_count": 25,
      "outputs": [
        {
          "output_type": "execute_result",
          "data": {
            "text/plain": [
              "['Select',\n",
              " 'preferences',\n",
              " 'run',\n",
              " 'install',\n",
              " 'command',\n",
              " '.',\n",
              " 'Stable',\n",
              " 'represents',\n",
              " 'currently',\n",
              " 'tested',\n",
              " 'supported',\n",
              " 'version',\n",
              " 'PyTorch',\n",
              " '.',\n",
              " 'Note',\n",
              " 'LibTorch',\n",
              " 'available',\n",
              " 'C++']"
            ]
          },
          "metadata": {},
          "execution_count": 25
        }
      ]
    },
    {
      "cell_type": "code",
      "source": [
        "# удаляем знаки препинания с помощью регулярного выражения\n",
        "s = re.sub(r'[^\\w\\s]','', text)\n",
        "s"
      ],
      "metadata": {
        "colab": {
          "base_uri": "https://localhost:8080/",
          "height": 35
        },
        "id": "ypwNfPqQ57_f",
        "outputId": "654aebb0-ce4e-4ff4-af22-1edb3bcbbc87"
      },
      "execution_count": 26,
      "outputs": [
        {
          "output_type": "execute_result",
          "data": {
            "text/plain": [
              "'Select your preferences and run the install command Stable represents the most currently tested and supported version of PyTorch Note that LibTorch is only available for C'"
            ],
            "application/vnd.google.colaboratory.intrinsic+json": {
              "type": "string"
            }
          },
          "metadata": {},
          "execution_count": 26
        }
      ]
    },
    {
      "cell_type": "code",
      "source": [
        "# с помощью модуля string \n",
        "import string\n",
        "string_text = text.translate(str.maketrans('', '', string.punctuation))\n",
        "string_text"
      ],
      "metadata": {
        "colab": {
          "base_uri": "https://localhost:8080/",
          "height": 35
        },
        "id": "Tam5AAZo58EA",
        "outputId": "389d3e57-c525-4169-e0c3-2883971e2052"
      },
      "execution_count": 27,
      "outputs": [
        {
          "output_type": "execute_result",
          "data": {
            "text/plain": [
              "'Select your preferences and run the install command Stable represents the most currently tested and supported version of PyTorch Note that LibTorch is only available for C'"
            ],
            "application/vnd.google.colaboratory.intrinsic+json": {
              "type": "string"
            }
          },
          "metadata": {},
          "execution_count": 27
        }
      ]
    },
    {
      "cell_type": "code",
      "source": [
        "# приводим к нижнему регистру\n",
        "text.lower()"
      ],
      "metadata": {
        "colab": {
          "base_uri": "https://localhost:8080/",
          "height": 35
        },
        "id": "DHfEYY6k58Nf",
        "outputId": "38af5e07-0056-45bc-d995-4e3bc0c60bf9"
      },
      "execution_count": 28,
      "outputs": [
        {
          "output_type": "execute_result",
          "data": {
            "text/plain": [
              "'select your preferences and run the install command. stable represents the most currently tested and supported version of pytorch. note that libtorch is only available for c++'"
            ],
            "application/vnd.google.colaboratory.intrinsic+json": {
              "type": "string"
            }
          },
          "metadata": {},
          "execution_count": 28
        }
      ]
    },
    {
      "cell_type": "markdown",
      "metadata": {
        "id": "bUhfertRtXE5"
      },
      "source": [
        "Реализовать функцию `preprocess_text(text: str) -> str`, которая:\n",
        "* приводит строку к нижнему регистру\n",
        "* заменяет все символы, кроме a-z, A-Z и знаков .,!? на пробел\n"
      ]
    },
    {
      "cell_type": "code",
      "source": [
        "from nltk.tokenize import RegexpTokenizer # Токенизатор, разбивающий строку на подстроки с помощью регулярного выражения"
      ],
      "metadata": {
        "id": "kR-ZQFJk6cvb"
      },
      "execution_count": 29,
      "outputs": []
    },
    {
      "cell_type": "code",
      "source": [
        "tokenizer = RegexpTokenizer(r'[a-zA-Z]+[\\.,!\\?]*')\n",
        "\n",
        "def preprocess_text(text: str) -> str:\n",
        "  text = text.lower()\n",
        "  tokens = tokenizer.tokenize(text)\n",
        "  text = ' '.join(tokens)\n",
        "  return text"
      ],
      "metadata": {
        "id": "uchCEuBJ6m4k"
      },
      "execution_count": 30,
      "outputs": []
    },
    {
      "cell_type": "markdown",
      "source": [
        "**Проверка**:"
      ],
      "metadata": {
        "id": "m5cjoVCH6-1i"
      }
    },
    {
      "cell_type": "code",
      "source": [
        "print(f'Исходный текст: \\n\\n{text}')"
      ],
      "metadata": {
        "colab": {
          "base_uri": "https://localhost:8080/"
        },
        "id": "OUYNwbBE6wAD",
        "outputId": "ac880640-640b-44a8-a079-a004dab93f5b"
      },
      "execution_count": 31,
      "outputs": [
        {
          "output_type": "stream",
          "name": "stdout",
          "text": [
            "Исходный текст: \n",
            "\n",
            "Select your preferences and run the install command. Stable represents the most currently tested and supported version of PyTorch. Note that LibTorch is only available for C++\n"
          ]
        }
      ]
    },
    {
      "cell_type": "code",
      "source": [
        "print(f'Обработанный текст (замена всех символов, кроме a-z, A-Z и знаков .,!? на пробел): \\n\\n{preprocess_text(text)}')"
      ],
      "metadata": {
        "colab": {
          "base_uri": "https://localhost:8080/"
        },
        "id": "SHgwt8nG6rcG",
        "outputId": "9596022d-990d-44e1-df7f-14385b8cb582"
      },
      "execution_count": 32,
      "outputs": [
        {
          "output_type": "stream",
          "name": "stdout",
          "text": [
            "Обработанный текст (замена всех символов, кроме a-z, A-Z и знаков .,!? на пробел): \n",
            "\n",
            "select your preferences and run the install command. stable represents the most currently tested and supported version of pytorch. note that libtorch is only available for c\n"
          ]
        }
      ]
    },
    {
      "cell_type": "markdown",
      "metadata": {
        "id": "Z2Dt1ssIqckC"
      },
      "source": [
        "1.2 Представление текстовых данных при помощи бинарного кодирования\n",
        "\n",
        "\n",
        "Представить первое предложение из `text` в виде тензора `sentence_t`: `sentence_t[i] == 1`, если __слово__ с индексом `i` присуствует в предложении."
      ]
    },
    {
      "cell_type": "code",
      "source": [
        "def process_text(text):\n",
        "  text = text.lower()\n",
        "  tokens = word_tokenize(text)\n",
        "  tokens = [word for word in tokens if word.isalpha()] # isalpha() проверка, что строка состоит только из букв\n",
        "  tokens = [word for word in tokens if not word in stopwords.words()] # не уверена, что надо без стоп-слов, но на всякий случай удалим\n",
        "  lemmas = [lemmatizer.lemmatize(word) for word in tokens] # приводим слова к базовой форме\n",
        "  return lemmas"
      ],
      "metadata": {
        "id": "M-507oo78N22"
      },
      "execution_count": 33,
      "outputs": []
    },
    {
      "cell_type": "code",
      "source": [
        "text = 'Select your preferences and run the install command. Stable represents the most currently tested and supported version of PyTorch. Note that LibTorch is only available for C++'"
      ],
      "metadata": {
        "id": "wz5bsas68OKP"
      },
      "execution_count": 34,
      "outputs": []
    },
    {
      "cell_type": "code",
      "source": [
        "lemmas = process_text(text)\n",
        "vocab = dict(zip(set(lemmas), range(len(lemmas)))) # словарь из списка\n",
        "vocab"
      ],
      "metadata": {
        "colab": {
          "base_uri": "https://localhost:8080/"
        },
        "id": "8pjc7llv8ONv",
        "outputId": "151449f7-a736-4cec-d3a6-3fa82ac98c09"
      },
      "execution_count": 35,
      "outputs": [
        {
          "output_type": "execute_result",
          "data": {
            "text/plain": [
              "{'run': 0,\n",
              " 'available': 1,\n",
              " 'note': 2,\n",
              " 'libtorch': 3,\n",
              " 'command': 4,\n",
              " 'tested': 5,\n",
              " 'represents': 6,\n",
              " 'currently': 7,\n",
              " 'stable': 8,\n",
              " 'preference': 9,\n",
              " 'select': 10,\n",
              " 'install': 11,\n",
              " 'supported': 12,\n",
              " 'pytorch': 13,\n",
              " 'version': 14}"
            ]
          },
          "metadata": {},
          "execution_count": 35
        }
      ]
    },
    {
      "cell_type": "code",
      "source": [
        "text = sent_tokenize(text)[0]\n",
        "sentence_t = torch.zeros(len(vocab))\n",
        "for word in process_text(text):\n",
        "  if word.isalpha() and word.lower() in vocab:\n",
        "    sentence_t[vocab[lemmatizer.lemmatize(word.lower())]] = 1\n",
        "sentence_t"
      ],
      "metadata": {
        "colab": {
          "base_uri": "https://localhost:8080/"
        },
        "id": "SlKanRMv8bFx",
        "outputId": "527f3fdd-f3f9-46fe-f9bb-17b572dcf766"
      },
      "execution_count": 36,
      "outputs": [
        {
          "output_type": "execute_result",
          "data": {
            "text/plain": [
              "tensor([1., 0., 0., 0., 1., 0., 0., 0., 0., 1., 1., 1., 0., 0., 0.])"
            ]
          },
          "metadata": {},
          "execution_count": 36
        }
      ]
    },
    {
      "cell_type": "markdown",
      "source": [
        "Посмотрим, какие слова сюда вошли:"
      ],
      "metadata": {
        "id": "XY8w4IB0Ewq9"
      }
    },
    {
      "cell_type": "code",
      "source": [
        "text"
      ],
      "metadata": {
        "colab": {
          "base_uri": "https://localhost:8080/",
          "height": 35
        },
        "id": "4emK-yQIExmX",
        "outputId": "831670f1-3e22-4f6e-b6ea-23b6164c563f"
      },
      "execution_count": 37,
      "outputs": [
        {
          "output_type": "execute_result",
          "data": {
            "text/plain": [
              "'Select your preferences and run the install command.'"
            ],
            "application/vnd.google.colaboratory.intrinsic+json": {
              "type": "string"
            }
          },
          "metadata": {},
          "execution_count": 37
        }
      ]
    },
    {
      "cell_type": "code",
      "source": [
        "process_text(text)"
      ],
      "metadata": {
        "colab": {
          "base_uri": "https://localhost:8080/"
        },
        "id": "SMb5A8GrE5pO",
        "outputId": "a5fdbe8f-e4d9-4860-f536-8499f2561447"
      },
      "execution_count": 38,
      "outputs": [
        {
          "output_type": "execute_result",
          "data": {
            "text/plain": [
              "['select', 'preference', 'run', 'install', 'command']"
            ]
          },
          "metadata": {},
          "execution_count": 38
        }
      ]
    },
    {
      "cell_type": "markdown",
      "metadata": {
        "id": "P2Nz_zcgw3N4"
      },
      "source": [
        "## 2. Классификация фамилий по национальности\n",
        "\n",
        "Датасет: https://disk.yandex.ru/d/owHew8hzPc7X9Q?w=1\n",
        "\n",
        "2.1 Считать файл `surnames/surnames.csv`. \n",
        "\n",
        "2.2 Закодировать национальности числами, начиная с 0.\n",
        "\n",
        "2.3 Разбить датасет на обучающую и тестовую выборку\n",
        "\n",
        "2.4 Реализовать класс `Vocab` (токен = __символ__)\n",
        "\n",
        "2.5 Реализовать класс `SurnamesDataset`\n",
        "\n",
        "2.6. Обучить классификатор.\n",
        "\n",
        "2.7 Измерить точность на тестовой выборке. Проверить работоспособность модели: прогнать несколько фамилий студентов группы через модели и проверить результат. Для каждой фамилии выводить 3 наиболее вероятных предсказания."
      ]
    },
    {
      "cell_type": "markdown",
      "source": [
        "2.1 Считать файл surnames/surnames.csv."
      ],
      "metadata": {
        "id": "g_9fDkgJJX9d"
      }
    },
    {
      "cell_type": "code",
      "source": [
        "from google.colab import drive\n",
        "drive.mount('/content/drive')"
      ],
      "metadata": {
        "colab": {
          "base_uri": "https://localhost:8080/"
        },
        "id": "XRbiXHhXFQA-",
        "outputId": "9eb2ce7e-8770-4b93-e54e-3a64380d4763"
      },
      "execution_count": 39,
      "outputs": [
        {
          "output_type": "stream",
          "name": "stdout",
          "text": [
            "Drive already mounted at /content/drive; to attempt to forcibly remount, call drive.mount(\"/content/drive\", force_remount=True).\n"
          ]
        }
      ]
    },
    {
      "cell_type": "code",
      "source": [
        "surname_df = pd.read_csv('/content/drive/MyDrive/ML_FU/Lab_5_NLP_intro/data/surnames.csv')\n",
        "surname_df.head()"
      ],
      "metadata": {
        "colab": {
          "base_uri": "https://localhost:8080/",
          "height": 206
        },
        "id": "N0TRxOjmFQSi",
        "outputId": "a9bcd4f2-ca42-4c0e-cfde-a14ca8a6afe9"
      },
      "execution_count": 40,
      "outputs": [
        {
          "output_type": "execute_result",
          "data": {
            "text/plain": [
              "    surname nationality\n",
              "0  Woodford     English\n",
              "1      Coté      French\n",
              "2      Kore     English\n",
              "3     Koury      Arabic\n",
              "4    Lebzak     Russian"
            ],
            "text/html": [
              "\n",
              "  <div id=\"df-9bf5135c-1674-4451-9fa3-803db935bb79\">\n",
              "    <div class=\"colab-df-container\">\n",
              "      <div>\n",
              "<style scoped>\n",
              "    .dataframe tbody tr th:only-of-type {\n",
              "        vertical-align: middle;\n",
              "    }\n",
              "\n",
              "    .dataframe tbody tr th {\n",
              "        vertical-align: top;\n",
              "    }\n",
              "\n",
              "    .dataframe thead th {\n",
              "        text-align: right;\n",
              "    }\n",
              "</style>\n",
              "<table border=\"1\" class=\"dataframe\">\n",
              "  <thead>\n",
              "    <tr style=\"text-align: right;\">\n",
              "      <th></th>\n",
              "      <th>surname</th>\n",
              "      <th>nationality</th>\n",
              "    </tr>\n",
              "  </thead>\n",
              "  <tbody>\n",
              "    <tr>\n",
              "      <th>0</th>\n",
              "      <td>Woodford</td>\n",
              "      <td>English</td>\n",
              "    </tr>\n",
              "    <tr>\n",
              "      <th>1</th>\n",
              "      <td>Coté</td>\n",
              "      <td>French</td>\n",
              "    </tr>\n",
              "    <tr>\n",
              "      <th>2</th>\n",
              "      <td>Kore</td>\n",
              "      <td>English</td>\n",
              "    </tr>\n",
              "    <tr>\n",
              "      <th>3</th>\n",
              "      <td>Koury</td>\n",
              "      <td>Arabic</td>\n",
              "    </tr>\n",
              "    <tr>\n",
              "      <th>4</th>\n",
              "      <td>Lebzak</td>\n",
              "      <td>Russian</td>\n",
              "    </tr>\n",
              "  </tbody>\n",
              "</table>\n",
              "</div>\n",
              "      <button class=\"colab-df-convert\" onclick=\"convertToInteractive('df-9bf5135c-1674-4451-9fa3-803db935bb79')\"\n",
              "              title=\"Convert this dataframe to an interactive table.\"\n",
              "              style=\"display:none;\">\n",
              "        \n",
              "  <svg xmlns=\"http://www.w3.org/2000/svg\" height=\"24px\"viewBox=\"0 0 24 24\"\n",
              "       width=\"24px\">\n",
              "    <path d=\"M0 0h24v24H0V0z\" fill=\"none\"/>\n",
              "    <path d=\"M18.56 5.44l.94 2.06.94-2.06 2.06-.94-2.06-.94-.94-2.06-.94 2.06-2.06.94zm-11 1L8.5 8.5l.94-2.06 2.06-.94-2.06-.94L8.5 2.5l-.94 2.06-2.06.94zm10 10l.94 2.06.94-2.06 2.06-.94-2.06-.94-.94-2.06-.94 2.06-2.06.94z\"/><path d=\"M17.41 7.96l-1.37-1.37c-.4-.4-.92-.59-1.43-.59-.52 0-1.04.2-1.43.59L10.3 9.45l-7.72 7.72c-.78.78-.78 2.05 0 2.83L4 21.41c.39.39.9.59 1.41.59.51 0 1.02-.2 1.41-.59l7.78-7.78 2.81-2.81c.8-.78.8-2.07 0-2.86zM5.41 20L4 18.59l7.72-7.72 1.47 1.35L5.41 20z\"/>\n",
              "  </svg>\n",
              "      </button>\n",
              "      \n",
              "  <style>\n",
              "    .colab-df-container {\n",
              "      display:flex;\n",
              "      flex-wrap:wrap;\n",
              "      gap: 12px;\n",
              "    }\n",
              "\n",
              "    .colab-df-convert {\n",
              "      background-color: #E8F0FE;\n",
              "      border: none;\n",
              "      border-radius: 50%;\n",
              "      cursor: pointer;\n",
              "      display: none;\n",
              "      fill: #1967D2;\n",
              "      height: 32px;\n",
              "      padding: 0 0 0 0;\n",
              "      width: 32px;\n",
              "    }\n",
              "\n",
              "    .colab-df-convert:hover {\n",
              "      background-color: #E2EBFA;\n",
              "      box-shadow: 0px 1px 2px rgba(60, 64, 67, 0.3), 0px 1px 3px 1px rgba(60, 64, 67, 0.15);\n",
              "      fill: #174EA6;\n",
              "    }\n",
              "\n",
              "    [theme=dark] .colab-df-convert {\n",
              "      background-color: #3B4455;\n",
              "      fill: #D2E3FC;\n",
              "    }\n",
              "\n",
              "    [theme=dark] .colab-df-convert:hover {\n",
              "      background-color: #434B5C;\n",
              "      box-shadow: 0px 1px 3px 1px rgba(0, 0, 0, 0.15);\n",
              "      filter: drop-shadow(0px 1px 2px rgba(0, 0, 0, 0.3));\n",
              "      fill: #FFFFFF;\n",
              "    }\n",
              "  </style>\n",
              "\n",
              "      <script>\n",
              "        const buttonEl =\n",
              "          document.querySelector('#df-9bf5135c-1674-4451-9fa3-803db935bb79 button.colab-df-convert');\n",
              "        buttonEl.style.display =\n",
              "          google.colab.kernel.accessAllowed ? 'block' : 'none';\n",
              "\n",
              "        async function convertToInteractive(key) {\n",
              "          const element = document.querySelector('#df-9bf5135c-1674-4451-9fa3-803db935bb79');\n",
              "          const dataTable =\n",
              "            await google.colab.kernel.invokeFunction('convertToInteractive',\n",
              "                                                     [key], {});\n",
              "          if (!dataTable) return;\n",
              "\n",
              "          const docLinkHtml = 'Like what you see? Visit the ' +\n",
              "            '<a target=\"_blank\" href=https://colab.research.google.com/notebooks/data_table.ipynb>data table notebook</a>'\n",
              "            + ' to learn more about interactive tables.';\n",
              "          element.innerHTML = '';\n",
              "          dataTable['output_type'] = 'display_data';\n",
              "          await google.colab.output.renderOutput(dataTable, element);\n",
              "          const docLink = document.createElement('div');\n",
              "          docLink.innerHTML = docLinkHtml;\n",
              "          element.appendChild(docLink);\n",
              "        }\n",
              "      </script>\n",
              "    </div>\n",
              "  </div>\n",
              "  "
            ]
          },
          "metadata": {},
          "execution_count": 40
        }
      ]
    },
    {
      "cell_type": "markdown",
      "source": [
        "2.2 Закодировать национальности числами, начиная с 0."
      ],
      "metadata": {
        "id": "bZgFqMzwJpIZ"
      }
    },
    {
      "cell_type": "code",
      "source": [
        "label = LabelEncoder()\n",
        "surname_df[\"target\"] = label.fit_transform(surname_df[\"nationality\"])\n",
        "print(f\"Сlasses: {len(label.classes_)}\")\n",
        "surname_df.head()"
      ],
      "metadata": {
        "colab": {
          "base_uri": "https://localhost:8080/",
          "height": 224
        },
        "id": "STgMLJYSIBFj",
        "outputId": "019bc391-5e92-4ae8-eaba-9a63b7c0cc57"
      },
      "execution_count": 41,
      "outputs": [
        {
          "output_type": "stream",
          "name": "stdout",
          "text": [
            "Сlasses: 18\n"
          ]
        },
        {
          "output_type": "execute_result",
          "data": {
            "text/plain": [
              "    surname nationality  target\n",
              "0  Woodford     English       4\n",
              "1      Coté      French       5\n",
              "2      Kore     English       4\n",
              "3     Koury      Arabic       0\n",
              "4    Lebzak     Russian      14"
            ],
            "text/html": [
              "\n",
              "  <div id=\"df-477c978c-f1ce-400d-8904-90bd00ca68f1\">\n",
              "    <div class=\"colab-df-container\">\n",
              "      <div>\n",
              "<style scoped>\n",
              "    .dataframe tbody tr th:only-of-type {\n",
              "        vertical-align: middle;\n",
              "    }\n",
              "\n",
              "    .dataframe tbody tr th {\n",
              "        vertical-align: top;\n",
              "    }\n",
              "\n",
              "    .dataframe thead th {\n",
              "        text-align: right;\n",
              "    }\n",
              "</style>\n",
              "<table border=\"1\" class=\"dataframe\">\n",
              "  <thead>\n",
              "    <tr style=\"text-align: right;\">\n",
              "      <th></th>\n",
              "      <th>surname</th>\n",
              "      <th>nationality</th>\n",
              "      <th>target</th>\n",
              "    </tr>\n",
              "  </thead>\n",
              "  <tbody>\n",
              "    <tr>\n",
              "      <th>0</th>\n",
              "      <td>Woodford</td>\n",
              "      <td>English</td>\n",
              "      <td>4</td>\n",
              "    </tr>\n",
              "    <tr>\n",
              "      <th>1</th>\n",
              "      <td>Coté</td>\n",
              "      <td>French</td>\n",
              "      <td>5</td>\n",
              "    </tr>\n",
              "    <tr>\n",
              "      <th>2</th>\n",
              "      <td>Kore</td>\n",
              "      <td>English</td>\n",
              "      <td>4</td>\n",
              "    </tr>\n",
              "    <tr>\n",
              "      <th>3</th>\n",
              "      <td>Koury</td>\n",
              "      <td>Arabic</td>\n",
              "      <td>0</td>\n",
              "    </tr>\n",
              "    <tr>\n",
              "      <th>4</th>\n",
              "      <td>Lebzak</td>\n",
              "      <td>Russian</td>\n",
              "      <td>14</td>\n",
              "    </tr>\n",
              "  </tbody>\n",
              "</table>\n",
              "</div>\n",
              "      <button class=\"colab-df-convert\" onclick=\"convertToInteractive('df-477c978c-f1ce-400d-8904-90bd00ca68f1')\"\n",
              "              title=\"Convert this dataframe to an interactive table.\"\n",
              "              style=\"display:none;\">\n",
              "        \n",
              "  <svg xmlns=\"http://www.w3.org/2000/svg\" height=\"24px\"viewBox=\"0 0 24 24\"\n",
              "       width=\"24px\">\n",
              "    <path d=\"M0 0h24v24H0V0z\" fill=\"none\"/>\n",
              "    <path d=\"M18.56 5.44l.94 2.06.94-2.06 2.06-.94-2.06-.94-.94-2.06-.94 2.06-2.06.94zm-11 1L8.5 8.5l.94-2.06 2.06-.94-2.06-.94L8.5 2.5l-.94 2.06-2.06.94zm10 10l.94 2.06.94-2.06 2.06-.94-2.06-.94-.94-2.06-.94 2.06-2.06.94z\"/><path d=\"M17.41 7.96l-1.37-1.37c-.4-.4-.92-.59-1.43-.59-.52 0-1.04.2-1.43.59L10.3 9.45l-7.72 7.72c-.78.78-.78 2.05 0 2.83L4 21.41c.39.39.9.59 1.41.59.51 0 1.02-.2 1.41-.59l7.78-7.78 2.81-2.81c.8-.78.8-2.07 0-2.86zM5.41 20L4 18.59l7.72-7.72 1.47 1.35L5.41 20z\"/>\n",
              "  </svg>\n",
              "      </button>\n",
              "      \n",
              "  <style>\n",
              "    .colab-df-container {\n",
              "      display:flex;\n",
              "      flex-wrap:wrap;\n",
              "      gap: 12px;\n",
              "    }\n",
              "\n",
              "    .colab-df-convert {\n",
              "      background-color: #E8F0FE;\n",
              "      border: none;\n",
              "      border-radius: 50%;\n",
              "      cursor: pointer;\n",
              "      display: none;\n",
              "      fill: #1967D2;\n",
              "      height: 32px;\n",
              "      padding: 0 0 0 0;\n",
              "      width: 32px;\n",
              "    }\n",
              "\n",
              "    .colab-df-convert:hover {\n",
              "      background-color: #E2EBFA;\n",
              "      box-shadow: 0px 1px 2px rgba(60, 64, 67, 0.3), 0px 1px 3px 1px rgba(60, 64, 67, 0.15);\n",
              "      fill: #174EA6;\n",
              "    }\n",
              "\n",
              "    [theme=dark] .colab-df-convert {\n",
              "      background-color: #3B4455;\n",
              "      fill: #D2E3FC;\n",
              "    }\n",
              "\n",
              "    [theme=dark] .colab-df-convert:hover {\n",
              "      background-color: #434B5C;\n",
              "      box-shadow: 0px 1px 3px 1px rgba(0, 0, 0, 0.15);\n",
              "      filter: drop-shadow(0px 1px 2px rgba(0, 0, 0, 0.3));\n",
              "      fill: #FFFFFF;\n",
              "    }\n",
              "  </style>\n",
              "\n",
              "      <script>\n",
              "        const buttonEl =\n",
              "          document.querySelector('#df-477c978c-f1ce-400d-8904-90bd00ca68f1 button.colab-df-convert');\n",
              "        buttonEl.style.display =\n",
              "          google.colab.kernel.accessAllowed ? 'block' : 'none';\n",
              "\n",
              "        async function convertToInteractive(key) {\n",
              "          const element = document.querySelector('#df-477c978c-f1ce-400d-8904-90bd00ca68f1');\n",
              "          const dataTable =\n",
              "            await google.colab.kernel.invokeFunction('convertToInteractive',\n",
              "                                                     [key], {});\n",
              "          if (!dataTable) return;\n",
              "\n",
              "          const docLinkHtml = 'Like what you see? Visit the ' +\n",
              "            '<a target=\"_blank\" href=https://colab.research.google.com/notebooks/data_table.ipynb>data table notebook</a>'\n",
              "            + ' to learn more about interactive tables.';\n",
              "          element.innerHTML = '';\n",
              "          dataTable['output_type'] = 'display_data';\n",
              "          await google.colab.output.renderOutput(dataTable, element);\n",
              "          const docLink = document.createElement('div');\n",
              "          docLink.innerHTML = docLinkHtml;\n",
              "          element.appendChild(docLink);\n",
              "        }\n",
              "      </script>\n",
              "    </div>\n",
              "  </div>\n",
              "  "
            ]
          },
          "metadata": {},
          "execution_count": 41
        }
      ]
    },
    {
      "cell_type": "markdown",
      "source": [
        "2.4 Реализовать класс Vocab (токен = символ)"
      ],
      "metadata": {
        "id": "zwyktcSQJ09N"
      }
    },
    {
      "cell_type": "code",
      "source": [
        "class Vocab:\n",
        "  def __init__(self, data):\n",
        "    self.idx_to_token = list({el for word in data for el in word.lower()})\n",
        "    self.token_to_idx = {j: i for i, j in enumerate(self.idx_to_token)}\n",
        "    self.vocab_len = len(self.idx_to_token)"
      ],
      "metadata": {
        "id": "5NzVaLVEIhHU"
      },
      "execution_count": 42,
      "outputs": []
    },
    {
      "cell_type": "code",
      "source": [
        "vocab = Vocab(surname_df[\"surname\"])\n",
        "vocab.vocab_len"
      ],
      "metadata": {
        "colab": {
          "base_uri": "https://localhost:8080/"
        },
        "id": "SdSGC5bAJKxZ",
        "outputId": "e84836bf-433d-493f-a525-0ca51e32ebf5"
      },
      "execution_count": 43,
      "outputs": [
        {
          "output_type": "execute_result",
          "data": {
            "text/plain": [
              "55"
            ]
          },
          "metadata": {},
          "execution_count": 43
        }
      ]
    },
    {
      "cell_type": "markdown",
      "source": [
        "2.5 Реализовать класс SurnamesDataset"
      ],
      "metadata": {
        "id": "10o7Ql6dJ52j"
      }
    },
    {
      "cell_type": "code",
      "execution_count": 44,
      "metadata": {
        "id": "WCaRK1QHxe0A",
        "scrolled": true
      },
      "outputs": [],
      "source": [
        "class SurnamesDataset(Dataset):\n",
        "  def __init__(self, data, targets, vocab):\n",
        "    self.data = data\n",
        "    self.targets = targets\n",
        "    self.vocab = vocab\n",
        "\n",
        "  def vectorize(self, surname):\n",
        "  #Генерирует представление фамилии surname в при помощи бинарного кодирования (см. 1.2)\n",
        "    vec = torch.zeros(self.vocab.vocab_len)\n",
        "    indices = [self.vocab.token_to_idx[el] for el in surname.lower()]\n",
        "    vec[indices] = 1\n",
        "    return vec\n",
        "\n",
        "  def __len__(self):\n",
        "    return len(self.data)\n",
        "\n",
        "  def __getitem__(self, idx):\n",
        "    return self.vectorize(self.data[idx]), self.targets[idx]"
      ]
    },
    {
      "cell_type": "code",
      "source": [
        "surname_dataset = SurnamesDataset(\n",
        "    data=surname_df[\"surname\"].tolist(),\n",
        "    targets=torch.tensor(surname_df[\"target\"], dtype=torch.long),\n",
        "    vocab=vocab,\n",
        ")"
      ],
      "metadata": {
        "id": "rbH4oCNXLPFq"
      },
      "execution_count": 45,
      "outputs": []
    },
    {
      "cell_type": "markdown",
      "source": [
        "2.3 Разбить датасет на обучающую и тестовую выборку"
      ],
      "metadata": {
        "id": "qDcuwbbhLcV5"
      }
    },
    {
      "cell_type": "code",
      "source": [
        "train_size = round(0.8 * len(surname_dataset))\n",
        "test_size = len(surname_dataset) - train_size\n",
        "train_df, test_df = random_split(surname_dataset, lengths=(train_size, test_size))\n",
        "len(train_df), len(test_df)"
      ],
      "metadata": {
        "colab": {
          "base_uri": "https://localhost:8080/"
        },
        "id": "61zxI1poLb0o",
        "outputId": "3dc30b8f-76ce-4440-dda7-c86223ad57ef"
      },
      "execution_count": 46,
      "outputs": [
        {
          "output_type": "execute_result",
          "data": {
            "text/plain": [
              "(8784, 2196)"
            ]
          },
          "metadata": {},
          "execution_count": 46
        }
      ]
    },
    {
      "cell_type": "markdown",
      "source": [
        "2.6. Обучить классификатор."
      ],
      "metadata": {
        "id": "sqeo1tpLL3kQ"
      }
    },
    {
      "cell_type": "code",
      "source": [
        "class SurnamesClassifier(nn.Module):\n",
        "\n",
        "  def __init__(self, in_features, out_features):\n",
        "    super(SurnamesClassifier, self).__init__()\n",
        "    self.seq = nn.Sequential(\n",
        "      nn.Linear(in_features, 256),\n",
        "      nn.ReLU(),\n",
        "      nn.Linear(256, out_features),\n",
        "      nn.LogSoftmax(dim=1),\n",
        "    )\n",
        "\n",
        "  def forward(self, inputs):\n",
        "    return self.seq(inputs)"
      ],
      "metadata": {
        "id": "cWLRhK8LL4yD"
      },
      "execution_count": 47,
      "outputs": []
    },
    {
      "cell_type": "code",
      "source": [
        "torch.manual_seed(0)\n",
        "\n",
        "net = SurnamesClassifier(vocab.vocab_len, vocab.vocab_len)\n",
        "loss_fn = nn.NLLLoss()\n",
        "optimizer = optim.Adam(net.parameters(), lr=0.001)\n",
        "\n",
        "train_dataloader = DataLoader(train_df, batch_size=8, shuffle=True)\n",
        "test_dataloader = DataLoader(test_df, batch_size=512)"
      ],
      "metadata": {
        "id": "BGOozWDHMY9v"
      },
      "execution_count": 48,
      "outputs": []
    },
    {
      "cell_type": "code",
      "source": [
        "if torch.cuda.is_available():\n",
        "  DEVICE = \"cuda\"\n",
        "else:\n",
        "  DEVICE = \"cpu\""
      ],
      "metadata": {
        "id": "stY_yC4kaMSJ"
      },
      "execution_count": 49,
      "outputs": []
    },
    {
      "cell_type": "code",
      "source": [
        "def train_func(dataloader, model, loss_fn, optimizer, verbose, device):\n",
        "  \n",
        "  model.train()\n",
        "  size = len(dataloader.dataset)\n",
        "  num_batches = len(dataloader)\n",
        "  avg_loss = 0\n",
        "\n",
        "  for batch, (x, y) in enumerate(dataloader):\n",
        "    x, y = x.to(device), y.to(device)\n",
        "\n",
        "    pred = model(x)\n",
        "    loss = loss_fn(pred, y)\n",
        "\n",
        "    optimizer.zero_grad()\n",
        "    loss.backward()\n",
        "    optimizer.step()\n",
        "\n",
        "    avg_loss += loss\n",
        "    if batch % verbose == 0:\n",
        "      print(f'loss: {loss:>7f}  [{batch * len(x):>5d} / {size:>5d}]')\n",
        "\n",
        "    del x, y, pred, loss\n",
        "    torch.cuda.empty_cache()\n",
        "\n",
        "  return avg_loss / num_batches\n",
        "\n",
        "def test_func(dataloader, model, loss_fn, device):\n",
        "    \n",
        "  model.eval()\n",
        "  size = len(dataloader.dataset)\n",
        "  num_batches = len(dataloader)\n",
        "  avg_loss, correct = 0, 0\n",
        "\n",
        "  for x, y in dataloader:\n",
        "    x, y = x.to(device), y.to(device)\n",
        "    pred = model(x)\n",
        "    avg_loss += loss_fn(pred, y)\n",
        "    correct += (pred.argmax(1) == y).type(torch.float).sum().item()\n",
        "\n",
        "    del x, y, pred\n",
        "    torch.cuda.empty_cache()\n",
        "\n",
        "  avg_loss /= num_batches\n",
        "  accuracy = correct / size\n",
        "  print(f'Accuracy: {accuracy}, Avg loss: {avg_loss} \\n')\n",
        "\n",
        "  return avg_loss, accuracy\n",
        "\n",
        "def common(model, loss_fn, optimizer, train_dataloader, epochs, verbose, test_dataloader, device):\n",
        "    \n",
        "  train_losses = []\n",
        "  for epoch in range(epochs):\n",
        "    print(f\"Epoch {epoch + 1}\\n\" + \"_\" * 40)\n",
        "    train_loss = train_func(train_dataloader, model, loss_fn, optimizer, verbose=verbose, device=device)\n",
        "    train_losses.append(train_loss.item())\n",
        "    if test_dataloader:\n",
        "      test_func(test_dataloader, model, loss_fn, device=device)\n",
        "    torch.cuda.empty_cache()\n",
        "  return train_losses"
      ],
      "metadata": {
        "id": "tvCZ0lWyWUiR"
      },
      "execution_count": 50,
      "outputs": []
    },
    {
      "cell_type": "code",
      "source": [
        "train_losses = common(epochs=20, model=net, loss_fn=loss_fn, optimizer=optimizer, train_dataloader=train_dataloader, test_dataloader=test_dataloader, verbose=300, device=DEVICE)"
      ],
      "metadata": {
        "colab": {
          "base_uri": "https://localhost:8080/"
        },
        "id": "Tr-b6H-UdYIH",
        "outputId": "32a0833c-7ff8-4be4-85f3-65dfa9e13404"
      },
      "execution_count": 51,
      "outputs": [
        {
          "output_type": "stream",
          "name": "stdout",
          "text": [
            "Epoch 1\n",
            "________________________________________\n",
            "loss: 4.060528  [    0 /  8784]\n",
            "loss: 1.958446  [ 2400 /  8784]\n",
            "loss: 2.260303  [ 4800 /  8784]\n",
            "loss: 1.455770  [ 7200 /  8784]\n",
            "Accuracy: 0.5327868852459017, Avg loss: 1.4695241451263428 \n",
            "\n",
            "Epoch 2\n",
            "________________________________________\n",
            "loss: 1.267261  [    0 /  8784]\n",
            "loss: 1.814942  [ 2400 /  8784]\n",
            "loss: 0.914185  [ 4800 /  8784]\n",
            "loss: 0.861599  [ 7200 /  8784]\n",
            "Accuracy: 0.5560109289617486, Avg loss: 1.4065418243408203 \n",
            "\n",
            "Epoch 3\n",
            "________________________________________\n",
            "loss: 0.960744  [    0 /  8784]\n",
            "loss: 1.439323  [ 2400 /  8784]\n",
            "loss: 1.478016  [ 4800 /  8784]\n",
            "loss: 1.476469  [ 7200 /  8784]\n",
            "Accuracy: 0.5819672131147541, Avg loss: 1.3270466327667236 \n",
            "\n",
            "Epoch 4\n",
            "________________________________________\n",
            "loss: 1.314360  [    0 /  8784]\n",
            "loss: 1.821632  [ 2400 /  8784]\n",
            "loss: 1.023812  [ 4800 /  8784]\n",
            "loss: 1.224635  [ 7200 /  8784]\n",
            "Accuracy: 0.5910746812386156, Avg loss: 1.3021494150161743 \n",
            "\n",
            "Epoch 5\n",
            "________________________________________\n",
            "loss: 0.956210  [    0 /  8784]\n",
            "loss: 0.895461  [ 2400 /  8784]\n",
            "loss: 1.468999  [ 4800 /  8784]\n",
            "loss: 1.230120  [ 7200 /  8784]\n",
            "Accuracy: 0.6038251366120219, Avg loss: 1.2648556232452393 \n",
            "\n",
            "Epoch 6\n",
            "________________________________________\n",
            "loss: 1.739889  [    0 /  8784]\n",
            "loss: 1.341518  [ 2400 /  8784]\n",
            "loss: 1.071892  [ 4800 /  8784]\n",
            "loss: 0.724024  [ 7200 /  8784]\n",
            "Accuracy: 0.6193078324225865, Avg loss: 1.2209117412567139 \n",
            "\n",
            "Epoch 7\n",
            "________________________________________\n",
            "loss: 1.649434  [    0 /  8784]\n",
            "loss: 0.941582  [ 2400 /  8784]\n",
            "loss: 1.320950  [ 4800 /  8784]\n",
            "loss: 1.036377  [ 7200 /  8784]\n",
            "Accuracy: 0.6297814207650273, Avg loss: 1.196108102798462 \n",
            "\n",
            "Epoch 8\n",
            "________________________________________\n",
            "loss: 0.544391  [    0 /  8784]\n",
            "loss: 0.637215  [ 2400 /  8784]\n",
            "loss: 1.356297  [ 4800 /  8784]\n",
            "loss: 0.771574  [ 7200 /  8784]\n",
            "Accuracy: 0.6261384335154827, Avg loss: 1.1960886716842651 \n",
            "\n",
            "Epoch 9\n",
            "________________________________________\n",
            "loss: 1.236206  [    0 /  8784]\n",
            "loss: 1.817831  [ 2400 /  8784]\n",
            "loss: 0.932116  [ 4800 /  8784]\n",
            "loss: 1.004717  [ 7200 /  8784]\n",
            "Accuracy: 0.6215846994535519, Avg loss: 1.1799081563949585 \n",
            "\n",
            "Epoch 10\n",
            "________________________________________\n",
            "loss: 1.490301  [    0 /  8784]\n",
            "loss: 1.014940  [ 2400 /  8784]\n",
            "loss: 1.041056  [ 4800 /  8784]\n",
            "loss: 1.844818  [ 7200 /  8784]\n",
            "Accuracy: 0.6302367941712204, Avg loss: 1.169819712638855 \n",
            "\n",
            "Epoch 11\n",
            "________________________________________\n",
            "loss: 0.862132  [    0 /  8784]\n",
            "loss: 0.523705  [ 2400 /  8784]\n",
            "loss: 1.331520  [ 4800 /  8784]\n",
            "loss: 2.012444  [ 7200 /  8784]\n",
            "Accuracy: 0.6215846994535519, Avg loss: 1.168918490409851 \n",
            "\n",
            "Epoch 12\n",
            "________________________________________\n",
            "loss: 0.667919  [    0 /  8784]\n",
            "loss: 1.710459  [ 2400 /  8784]\n",
            "loss: 1.150542  [ 4800 /  8784]\n",
            "loss: 0.771498  [ 7200 /  8784]\n",
            "Accuracy: 0.6366120218579235, Avg loss: 1.1440131664276123 \n",
            "\n",
            "Epoch 13\n",
            "________________________________________\n",
            "loss: 0.801949  [    0 /  8784]\n",
            "loss: 0.922705  [ 2400 /  8784]\n",
            "loss: 0.385407  [ 4800 /  8784]\n",
            "loss: 1.172092  [ 7200 /  8784]\n",
            "Accuracy: 0.6370673952641166, Avg loss: 1.1520017385482788 \n",
            "\n",
            "Epoch 14\n",
            "________________________________________\n",
            "loss: 1.051694  [    0 /  8784]\n",
            "loss: 0.916653  [ 2400 /  8784]\n",
            "loss: 1.331397  [ 4800 /  8784]\n",
            "loss: 0.779087  [ 7200 /  8784]\n",
            "Accuracy: 0.6425318761384335, Avg loss: 1.1318211555480957 \n",
            "\n",
            "Epoch 15\n",
            "________________________________________\n",
            "loss: 1.113895  [    0 /  8784]\n",
            "loss: 0.779111  [ 2400 /  8784]\n",
            "loss: 0.892576  [ 4800 /  8784]\n",
            "loss: 0.842813  [ 7200 /  8784]\n",
            "Accuracy: 0.644808743169399, Avg loss: 1.1384273767471313 \n",
            "\n",
            "Epoch 16\n",
            "________________________________________\n",
            "loss: 1.243148  [    0 /  8784]\n",
            "loss: 0.770229  [ 2400 /  8784]\n",
            "loss: 1.018175  [ 4800 /  8784]\n",
            "loss: 0.978706  [ 7200 /  8784]\n",
            "Accuracy: 0.6438979963570127, Avg loss: 1.137671709060669 \n",
            "\n",
            "Epoch 17\n",
            "________________________________________\n",
            "loss: 0.370838  [    0 /  8784]\n",
            "loss: 1.887315  [ 2400 /  8784]\n",
            "loss: 1.220537  [ 4800 /  8784]\n",
            "loss: 1.333295  [ 7200 /  8784]\n",
            "Accuracy: 0.6443533697632058, Avg loss: 1.134061574935913 \n",
            "\n",
            "Epoch 18\n",
            "________________________________________\n",
            "loss: 0.647786  [    0 /  8784]\n",
            "loss: 0.800129  [ 2400 /  8784]\n",
            "loss: 0.738576  [ 4800 /  8784]\n",
            "loss: 0.525378  [ 7200 /  8784]\n",
            "Accuracy: 0.645264116575592, Avg loss: 1.1281837224960327 \n",
            "\n",
            "Epoch 19\n",
            "________________________________________\n",
            "loss: 0.401161  [    0 /  8784]\n",
            "loss: 0.814892  [ 2400 /  8784]\n",
            "loss: 0.769995  [ 4800 /  8784]\n",
            "loss: 0.598901  [ 7200 /  8784]\n",
            "Accuracy: 0.6407103825136612, Avg loss: 1.1450088024139404 \n",
            "\n",
            "Epoch 20\n",
            "________________________________________\n",
            "loss: 0.906187  [    0 /  8784]\n",
            "loss: 1.377588  [ 2400 /  8784]\n",
            "loss: 0.871614  [ 4800 /  8784]\n",
            "loss: 1.708634  [ 7200 /  8784]\n",
            "Accuracy: 0.6434426229508197, Avg loss: 1.1414778232574463 \n",
            "\n"
          ]
        }
      ]
    },
    {
      "cell_type": "code",
      "source": [
        "plt.rcParams[\"figure.figsize\"] = (8, 6)\n",
        "_ = plt.plot(torch.arange(len(train_losses)), train_losses)"
      ],
      "metadata": {
        "colab": {
          "base_uri": "https://localhost:8080/",
          "height": 374
        },
        "id": "-r4haRmYZnBk",
        "outputId": "3c970cf5-6ae4-4597-93a7-49c56e6511fe"
      },
      "execution_count": 52,
      "outputs": [
        {
          "output_type": "display_data",
          "data": {
            "text/plain": [
              "<Figure size 576x432 with 1 Axes>"
            ],
            "image/png": "[encoded data removed]"
          },
          "metadata": {
            "needs_background": "light"
          }
        }
      ]
    },
    {
      "cell_type": "markdown",
      "source": [
        "2.7 Измерить точность на тестовой выборке. Проверить работоспособность модели: прогнать несколько фамилий студентов группы через модели и проверить результат. Для каждой фамилии выводить 3 наиболее вероятных предсказания."
      ],
      "metadata": {
        "id": "_DNN4URpZMgy"
      }
    },
    {
      "cell_type": "code",
      "source": [
        "test_func(dataloader=test_dataloader, model=net, loss_fn=loss_fn, device=DEVICE);"
      ],
      "metadata": {
        "colab": {
          "base_uri": "https://localhost:8080/"
        },
        "id": "MY2nEaRuh10t",
        "outputId": "b7b83ef1-c95a-4760-ce4a-0f8bba5c87b8"
      },
      "execution_count": 53,
      "outputs": [
        {
          "output_type": "stream",
          "name": "stdout",
          "text": [
            "Accuracy: 0.6434426229508197, Avg loss: 1.1414778232574463 \n",
            "\n"
          ]
        }
      ]
    },
    {
      "cell_type": "code",
      "source": [
        "def total_conclusion(target, surname, model, data, label, n, device):\n",
        "  x = data.vectorize(surname)\n",
        "  x = x.to(device)\n",
        "\n",
        "  pred = model(x.unsqueeze(0))\n",
        "  pred_prob, pred_label_indices = F.softmax(pred, 1).topk(n, dim=1)\n",
        "  pred_label = label.inverse_transform(pred_label_indices.squeeze().cpu())\n",
        "\n",
        "  predict = \", \".join([f'{label} ({prob*100:.1f}%)' for (label, prob) in zip(pred_label, pred_prob.squeeze())])\n",
        "  print(f'Surname.....{surname}')\n",
        "  print(f'True........{target}')\n",
        "  print(f'Predicts....{predict}\\n')"
      ],
      "metadata": {
        "id": "mlUQvhdsh_Dh"
      },
      "execution_count": 54,
      "outputs": []
    },
    {
      "cell_type": "code",
      "source": [
        "students_PI19_3 = [\n",
        "  \"Alexandrova\",\n",
        "  \"Baranov\",\n",
        "  \"Brusova\",\n",
        "  \"Volkova\",\n",
        "  \"Gasanova\",\n",
        "  \"Danilin\",\n",
        "  \"Demenchuk\",\n",
        "  \"Egorov\",\n",
        "  \"Popova\",\n",
        "  \"Polikarpova\",\n",
        "  \"Khamikoeva\",\n",
        "]\n",
        "for surname in students_PI19_3:\n",
        "    total_conclusion(target=\"Russian\", surname=surname, model=net, data=surname_dataset, label=label, n = 3, device=DEVICE)"
      ],
      "metadata": {
        "colab": {
          "base_uri": "https://localhost:8080/"
        },
        "id": "eWI4zAwcjWmZ",
        "outputId": "7151d7af-9b85-4f7e-d506-c8499fdc1899"
      },
      "execution_count": 55,
      "outputs": [
        {
          "output_type": "stream",
          "name": "stdout",
          "text": [
            "Surname.....Alexandrova\n",
            "True........Russian\n",
            "Predicts....English (92.8%), French (3.0%), Scottish (1.8%)\n",
            "\n",
            "Surname.....Baranov\n",
            "True........Russian\n",
            "Predicts....Russian (52.9%), Italian (24.0%), Czech (10.9%)\n",
            "\n",
            "Surname.....Brusova\n",
            "True........Russian\n",
            "Predicts....Russian (81.0%), Arabic (6.5%), French (4.2%)\n",
            "\n",
            "Surname.....Volkova\n",
            "True........Russian\n",
            "Predicts....Russian (54.1%), Czech (43.5%), English (1.2%)\n",
            "\n",
            "Surname.....Gasanova\n",
            "True........Russian\n",
            "Predicts....Russian (52.4%), English (23.1%), Italian (9.7%)\n",
            "\n",
            "Surname.....Danilin\n",
            "True........Russian\n",
            "Predicts....English (47.0%), Italian (38.4%), Irish (7.4%)\n",
            "\n",
            "Surname.....Demenchuk\n",
            "True........Russian\n",
            "Predicts....Russian (60.7%), English (11.8%), German (10.9%)\n",
            "\n",
            "Surname.....Egorov\n",
            "True........Russian\n",
            "Predicts....Russian (47.5%), English (24.4%), German (18.2%)\n",
            "\n",
            "Surname.....Popova\n",
            "True........Russian\n",
            "Predicts....Italian (34.0%), Russian (30.8%), Czech (20.3%)\n",
            "\n",
            "Surname.....Polikarpova\n",
            "True........Russian\n",
            "Predicts....Russian (72.4%), Czech (24.5%), Greek (1.6%)\n",
            "\n",
            "Surname.....Khamikoeva\n",
            "True........Russian\n",
            "Predicts....Russian (99.8%), Czech (0.2%), Japanese (0.0%)\n",
            "\n"
          ]
        }
      ]
    },
    {
      "cell_type": "markdown",
      "metadata": {
        "id": "PLmDB3fJtVox"
      },
      "source": [
        "## 3. Классификация обзоров ресторанов\n",
        "\n",
        "Датасет: https://disk.yandex.ru/d/nY1o70JtAuYa8g\n",
        "\n",
        "3.1 Считать файл `yelp/raw_train.csv`. Оставить от исходного датасета 10% строчек.\n",
        "\n",
        "3.2 Воспользоваться функцией `preprocess_text` из 1.1 для обработки текста отзыва. Закодировать рейтинг числами, начиная с 0.\n",
        "\n",
        "3.3 Разбить датасет на обучающую и тестовую выборку\n",
        "\n",
        "3.4 Реализовать класс `Vocab` (токен = слово)\n",
        "\n",
        "3.5 Реализовать класс `ReviewDataset`\n",
        "\n",
        "3.6 Обучить классификатор\n",
        "\n",
        "3.7 Измерить точность на тестовой выборке. Проверить работоспособность модели: придумать небольшой отзыв, прогнать его через модель и вывести номер предсказанного класса (сделать это для явно позитивного и явно негативного отзыва)\n"
      ]
    },
    {
      "cell_type": "markdown",
      "source": [
        "3.1 Считать файл yelp/raw_train.csv. Оставить от исходного датасета 10% строчек."
      ],
      "metadata": {
        "id": "0lL9xu04M2SA"
      }
    },
    {
      "cell_type": "code",
      "source": [
        "reviews = pd.read_csv(\"/content/drive/MyDrive/ML_FU/Lab_5_NLP_intro/data/raw_train.csv\", header=None)\n",
        "print(len(reviews))\n",
        "reviews.head(7)"
      ],
      "metadata": {
        "colab": {
          "base_uri": "https://localhost:8080/",
          "height": 286
        },
        "id": "cUoykbSqM2dC",
        "outputId": "b2f11ccf-3985-422b-eaf6-91757ea6705f"
      },
      "execution_count": 61,
      "outputs": [
        {
          "output_type": "stream",
          "name": "stdout",
          "text": [
            "560000\n"
          ]
        },
        {
          "output_type": "execute_result",
          "data": {
            "text/plain": [
              "   0                                                  1\n",
              "0  1  Unfortunately, the frustration of being Dr. Go...\n",
              "1  2  Been going to Dr. Goldberg for over 10 years. ...\n",
              "2  1  I don't know what Dr. Goldberg was like before...\n",
              "3  1  I'm writing this review to give you a heads up...\n",
              "4  2  All the food is great here. But the best thing...\n",
              "5  1  Wing sauce is like water. Pretty much a lot of...\n",
              "6  1  Owning a driving range inside the city limits ..."
            ],
            "text/html": [
              "\n",
              "  <div id=\"df-302f2ebd-298f-4dd2-b8c3-f85e2c4164b6\">\n",
              "    <div class=\"colab-df-container\">\n",
              "      <div>\n",
              "<style scoped>\n",
              "    .dataframe tbody tr th:only-of-type {\n",
              "        vertical-align: middle;\n",
              "    }\n",
              "\n",
              "    .dataframe tbody tr th {\n",
              "        vertical-align: top;\n",
              "    }\n",
              "\n",
              "    .dataframe thead th {\n",
              "        text-align: right;\n",
              "    }\n",
              "</style>\n",
              "<table border=\"1\" class=\"dataframe\">\n",
              "  <thead>\n",
              "    <tr style=\"text-align: right;\">\n",
              "      <th></th>\n",
              "      <th>0</th>\n",
              "      <th>1</th>\n",
              "    </tr>\n",
              "  </thead>\n",
              "  <tbody>\n",
              "    <tr>\n",
              "      <th>0</th>\n",
              "      <td>1</td>\n",
              "      <td>Unfortunately, the frustration of being Dr. Go...</td>\n",
              "    </tr>\n",
              "    <tr>\n",
              "      <th>1</th>\n",
              "      <td>2</td>\n",
              "      <td>Been going to Dr. Goldberg for over 10 years. ...</td>\n",
              "    </tr>\n",
              "    <tr>\n",
              "      <th>2</th>\n",
              "      <td>1</td>\n",
              "      <td>I don't know what Dr. Goldberg was like before...</td>\n",
              "    </tr>\n",
              "    <tr>\n",
              "      <th>3</th>\n",
              "      <td>1</td>\n",
              "      <td>I'm writing this review to give you a heads up...</td>\n",
              "    </tr>\n",
              "    <tr>\n",
              "      <th>4</th>\n",
              "      <td>2</td>\n",
              "      <td>All the food is great here. But the best thing...</td>\n",
              "    </tr>\n",
              "    <tr>\n",
              "      <th>5</th>\n",
              "      <td>1</td>\n",
              "      <td>Wing sauce is like water. Pretty much a lot of...</td>\n",
              "    </tr>\n",
              "    <tr>\n",
              "      <th>6</th>\n",
              "      <td>1</td>\n",
              "      <td>Owning a driving range inside the city limits ...</td>\n",
              "    </tr>\n",
              "  </tbody>\n",
              "</table>\n",
              "</div>\n",
              "      <button class=\"colab-df-convert\" onclick=\"convertToInteractive('df-302f2ebd-298f-4dd2-b8c3-f85e2c4164b6')\"\n",
              "              title=\"Convert this dataframe to an interactive table.\"\n",
              "              style=\"display:none;\">\n",
              "        \n",
              "  <svg xmlns=\"http://www.w3.org/2000/svg\" height=\"24px\"viewBox=\"0 0 24 24\"\n",
              "       width=\"24px\">\n",
              "    <path d=\"M0 0h24v24H0V0z\" fill=\"none\"/>\n",
              "    <path d=\"M18.56 5.44l.94 2.06.94-2.06 2.06-.94-2.06-.94-.94-2.06-.94 2.06-2.06.94zm-11 1L8.5 8.5l.94-2.06 2.06-.94-2.06-.94L8.5 2.5l-.94 2.06-2.06.94zm10 10l.94 2.06.94-2.06 2.06-.94-2.06-.94-.94-2.06-.94 2.06-2.06.94z\"/><path d=\"M17.41 7.96l-1.37-1.37c-.4-.4-.92-.59-1.43-.59-.52 0-1.04.2-1.43.59L10.3 9.45l-7.72 7.72c-.78.78-.78 2.05 0 2.83L4 21.41c.39.39.9.59 1.41.59.51 0 1.02-.2 1.41-.59l7.78-7.78 2.81-2.81c.8-.78.8-2.07 0-2.86zM5.41 20L4 18.59l7.72-7.72 1.47 1.35L5.41 20z\"/>\n",
              "  </svg>\n",
              "      </button>\n",
              "      \n",
              "  <style>\n",
              "    .colab-df-container {\n",
              "      display:flex;\n",
              "      flex-wrap:wrap;\n",
              "      gap: 12px;\n",
              "    }\n",
              "\n",
              "    .colab-df-convert {\n",
              "      background-color: #E8F0FE;\n",
              "      border: none;\n",
              "      border-radius: 50%;\n",
              "      cursor: pointer;\n",
              "      display: none;\n",
              "      fill: #1967D2;\n",
              "      height: 32px;\n",
              "      padding: 0 0 0 0;\n",
              "      width: 32px;\n",
              "    }\n",
              "\n",
              "    .colab-df-convert:hover {\n",
              "      background-color: #E2EBFA;\n",
              "      box-shadow: 0px 1px 2px rgba(60, 64, 67, 0.3), 0px 1px 3px 1px rgba(60, 64, 67, 0.15);\n",
              "      fill: #174EA6;\n",
              "    }\n",
              "\n",
              "    [theme=dark] .colab-df-convert {\n",
              "      background-color: #3B4455;\n",
              "      fill: #D2E3FC;\n",
              "    }\n",
              "\n",
              "    [theme=dark] .colab-df-convert:hover {\n",
              "      background-color: #434B5C;\n",
              "      box-shadow: 0px 1px 3px 1px rgba(0, 0, 0, 0.15);\n",
              "      filter: drop-shadow(0px 1px 2px rgba(0, 0, 0, 0.3));\n",
              "      fill: #FFFFFF;\n",
              "    }\n",
              "  </style>\n",
              "\n",
              "      <script>\n",
              "        const buttonEl =\n",
              "          document.querySelector('#df-302f2ebd-298f-4dd2-b8c3-f85e2c4164b6 button.colab-df-convert');\n",
              "        buttonEl.style.display =\n",
              "          google.colab.kernel.accessAllowed ? 'block' : 'none';\n",
              "\n",
              "        async function convertToInteractive(key) {\n",
              "          const element = document.querySelector('#df-302f2ebd-298f-4dd2-b8c3-f85e2c4164b6');\n",
              "          const dataTable =\n",
              "            await google.colab.kernel.invokeFunction('convertToInteractive',\n",
              "                                                     [key], {});\n",
              "          if (!dataTable) return;\n",
              "\n",
              "          const docLinkHtml = 'Like what you see? Visit the ' +\n",
              "            '<a target=\"_blank\" href=https://colab.research.google.com/notebooks/data_table.ipynb>data table notebook</a>'\n",
              "            + ' to learn more about interactive tables.';\n",
              "          element.innerHTML = '';\n",
              "          dataTable['output_type'] = 'display_data';\n",
              "          await google.colab.output.renderOutput(dataTable, element);\n",
              "          const docLink = document.createElement('div');\n",
              "          docLink.innerHTML = docLinkHtml;\n",
              "          element.appendChild(docLink);\n",
              "        }\n",
              "      </script>\n",
              "    </div>\n",
              "  </div>\n",
              "  "
            ]
          },
          "metadata": {},
          "execution_count": 61
        }
      ]
    },
    {
      "cell_type": "code",
      "source": [
        "reviews = reviews.sample(frac=0.1, ignore_index=True, random_state=0)\n",
        "print(len(reviews))\n",
        "reviews.head(3)"
      ],
      "metadata": {
        "colab": {
          "base_uri": "https://localhost:8080/",
          "height": 161
        },
        "id": "142UdqrxONpe",
        "outputId": "9679bb1a-9252-4eca-f67a-6d83e5fc52b5"
      },
      "execution_count": 62,
      "outputs": [
        {
          "output_type": "stream",
          "name": "stdout",
          "text": [
            "56000\n"
          ]
        },
        {
          "output_type": "execute_result",
          "data": {
            "text/plain": [
              "   0                                                  1\n",
              "0  2  Call me crazy, but I really enjoyed this place...\n",
              "1  1  HORRIBLE, HORRIBLE, HORRIBLE ONLINE CUSTOMER S...\n",
              "2  2  The staff were extremely helpful in answering ..."
            ],
            "text/html": [
              "\n",
              "  <div id=\"df-7c263c95-eda7-4113-a930-a982db6dff51\">\n",
              "    <div class=\"colab-df-container\">\n",
              "      <div>\n",
              "<style scoped>\n",
              "    .dataframe tbody tr th:only-of-type {\n",
              "        vertical-align: middle;\n",
              "    }\n",
              "\n",
              "    .dataframe tbody tr th {\n",
              "        vertical-align: top;\n",
              "    }\n",
              "\n",
              "    .dataframe thead th {\n",
              "        text-align: right;\n",
              "    }\n",
              "</style>\n",
              "<table border=\"1\" class=\"dataframe\">\n",
              "  <thead>\n",
              "    <tr style=\"text-align: right;\">\n",
              "      <th></th>\n",
              "      <th>0</th>\n",
              "      <th>1</th>\n",
              "    </tr>\n",
              "  </thead>\n",
              "  <tbody>\n",
              "    <tr>\n",
              "      <th>0</th>\n",
              "      <td>2</td>\n",
              "      <td>Call me crazy, but I really enjoyed this place...</td>\n",
              "    </tr>\n",
              "    <tr>\n",
              "      <th>1</th>\n",
              "      <td>1</td>\n",
              "      <td>HORRIBLE, HORRIBLE, HORRIBLE ONLINE CUSTOMER S...</td>\n",
              "    </tr>\n",
              "    <tr>\n",
              "      <th>2</th>\n",
              "      <td>2</td>\n",
              "      <td>The staff were extremely helpful in answering ...</td>\n",
              "    </tr>\n",
              "  </tbody>\n",
              "</table>\n",
              "</div>\n",
              "      <button class=\"colab-df-convert\" onclick=\"convertToInteractive('df-7c263c95-eda7-4113-a930-a982db6dff51')\"\n",
              "              title=\"Convert this dataframe to an interactive table.\"\n",
              "              style=\"display:none;\">\n",
              "        \n",
              "  <svg xmlns=\"http://www.w3.org/2000/svg\" height=\"24px\"viewBox=\"0 0 24 24\"\n",
              "       width=\"24px\">\n",
              "    <path d=\"M0 0h24v24H0V0z\" fill=\"none\"/>\n",
              "    <path d=\"M18.56 5.44l.94 2.06.94-2.06 2.06-.94-2.06-.94-.94-2.06-.94 2.06-2.06.94zm-11 1L8.5 8.5l.94-2.06 2.06-.94-2.06-.94L8.5 2.5l-.94 2.06-2.06.94zm10 10l.94 2.06.94-2.06 2.06-.94-2.06-.94-.94-2.06-.94 2.06-2.06.94z\"/><path d=\"M17.41 7.96l-1.37-1.37c-.4-.4-.92-.59-1.43-.59-.52 0-1.04.2-1.43.59L10.3 9.45l-7.72 7.72c-.78.78-.78 2.05 0 2.83L4 21.41c.39.39.9.59 1.41.59.51 0 1.02-.2 1.41-.59l7.78-7.78 2.81-2.81c.8-.78.8-2.07 0-2.86zM5.41 20L4 18.59l7.72-7.72 1.47 1.35L5.41 20z\"/>\n",
              "  </svg>\n",
              "      </button>\n",
              "      \n",
              "  <style>\n",
              "    .colab-df-container {\n",
              "      display:flex;\n",
              "      flex-wrap:wrap;\n",
              "      gap: 12px;\n",
              "    }\n",
              "\n",
              "    .colab-df-convert {\n",
              "      background-color: #E8F0FE;\n",
              "      border: none;\n",
              "      border-radius: 50%;\n",
              "      cursor: pointer;\n",
              "      display: none;\n",
              "      fill: #1967D2;\n",
              "      height: 32px;\n",
              "      padding: 0 0 0 0;\n",
              "      width: 32px;\n",
              "    }\n",
              "\n",
              "    .colab-df-convert:hover {\n",
              "      background-color: #E2EBFA;\n",
              "      box-shadow: 0px 1px 2px rgba(60, 64, 67, 0.3), 0px 1px 3px 1px rgba(60, 64, 67, 0.15);\n",
              "      fill: #174EA6;\n",
              "    }\n",
              "\n",
              "    [theme=dark] .colab-df-convert {\n",
              "      background-color: #3B4455;\n",
              "      fill: #D2E3FC;\n",
              "    }\n",
              "\n",
              "    [theme=dark] .colab-df-convert:hover {\n",
              "      background-color: #434B5C;\n",
              "      box-shadow: 0px 1px 3px 1px rgba(0, 0, 0, 0.15);\n",
              "      filter: drop-shadow(0px 1px 2px rgba(0, 0, 0, 0.3));\n",
              "      fill: #FFFFFF;\n",
              "    }\n",
              "  </style>\n",
              "\n",
              "      <script>\n",
              "        const buttonEl =\n",
              "          document.querySelector('#df-7c263c95-eda7-4113-a930-a982db6dff51 button.colab-df-convert');\n",
              "        buttonEl.style.display =\n",
              "          google.colab.kernel.accessAllowed ? 'block' : 'none';\n",
              "\n",
              "        async function convertToInteractive(key) {\n",
              "          const element = document.querySelector('#df-7c263c95-eda7-4113-a930-a982db6dff51');\n",
              "          const dataTable =\n",
              "            await google.colab.kernel.invokeFunction('convertToInteractive',\n",
              "                                                     [key], {});\n",
              "          if (!dataTable) return;\n",
              "\n",
              "          const docLinkHtml = 'Like what you see? Visit the ' +\n",
              "            '<a target=\"_blank\" href=https://colab.research.google.com/notebooks/data_table.ipynb>data table notebook</a>'\n",
              "            + ' to learn more about interactive tables.';\n",
              "          element.innerHTML = '';\n",
              "          dataTable['output_type'] = 'display_data';\n",
              "          await google.colab.output.renderOutput(dataTable, element);\n",
              "          const docLink = document.createElement('div');\n",
              "          docLink.innerHTML = docLinkHtml;\n",
              "          element.appendChild(docLink);\n",
              "        }\n",
              "      </script>\n",
              "    </div>\n",
              "  </div>\n",
              "  "
            ]
          },
          "metadata": {},
          "execution_count": 62
        }
      ]
    },
    {
      "cell_type": "markdown",
      "source": [
        "3.2 Воспользоваться функцией preprocess_text из 1.1 для обработки текста отзыва. Закодировать рейтинг числами, начиная с 0."
      ],
      "metadata": {
        "id": "1uiAOHwWOT1l"
      }
    },
    {
      "cell_type": "code",
      "source": [
        "label = LabelEncoder()\n",
        "\n",
        "reviews[0] = label.fit_transform(reviews[0])\n",
        "reviews[1] = reviews[1].apply(lambda x: preprocess_text(x).replace(\".\", \"\"))\n",
        "print(f\"classes: {len(label.classes_)}\")\n",
        "reviews.head()"
      ],
      "metadata": {
        "colab": {
          "base_uri": "https://localhost:8080/",
          "height": 224
        },
        "id": "SHddi4hMOULQ",
        "outputId": "2130c95c-2dc5-4885-a83f-90eca0f1c931"
      },
      "execution_count": 63,
      "outputs": [
        {
          "output_type": "stream",
          "name": "stdout",
          "text": [
            "classes: 2\n"
          ]
        },
        {
          "output_type": "execute_result",
          "data": {
            "text/plain": [
              "   0                                                  1\n",
              "0  1  call me crazy, but i really enjoyed this place...\n",
              "1  0  horrible, horrible, horrible online customer s...\n",
              "2  1  the staff were extremely helpful in answering ...\n",
              "3  1  the steak tartare is fantastic! i d come back ...\n",
              "4  1                        everything i could want for"
            ],
            "text/html": [
              "\n",
              "  <div id=\"df-d42a5130-89f6-4ec9-bc23-321d10cb1fb3\">\n",
              "    <div class=\"colab-df-container\">\n",
              "      <div>\n",
              "<style scoped>\n",
              "    .dataframe tbody tr th:only-of-type {\n",
              "        vertical-align: middle;\n",
              "    }\n",
              "\n",
              "    .dataframe tbody tr th {\n",
              "        vertical-align: top;\n",
              "    }\n",
              "\n",
              "    .dataframe thead th {\n",
              "        text-align: right;\n",
              "    }\n",
              "</style>\n",
              "<table border=\"1\" class=\"dataframe\">\n",
              "  <thead>\n",
              "    <tr style=\"text-align: right;\">\n",
              "      <th></th>\n",
              "      <th>0</th>\n",
              "      <th>1</th>\n",
              "    </tr>\n",
              "  </thead>\n",
              "  <tbody>\n",
              "    <tr>\n",
              "      <th>0</th>\n",
              "      <td>1</td>\n",
              "      <td>call me crazy, but i really enjoyed this place...</td>\n",
              "    </tr>\n",
              "    <tr>\n",
              "      <th>1</th>\n",
              "      <td>0</td>\n",
              "      <td>horrible, horrible, horrible online customer s...</td>\n",
              "    </tr>\n",
              "    <tr>\n",
              "      <th>2</th>\n",
              "      <td>1</td>\n",
              "      <td>the staff were extremely helpful in answering ...</td>\n",
              "    </tr>\n",
              "    <tr>\n",
              "      <th>3</th>\n",
              "      <td>1</td>\n",
              "      <td>the steak tartare is fantastic! i d come back ...</td>\n",
              "    </tr>\n",
              "    <tr>\n",
              "      <th>4</th>\n",
              "      <td>1</td>\n",
              "      <td>everything i could want for</td>\n",
              "    </tr>\n",
              "  </tbody>\n",
              "</table>\n",
              "</div>\n",
              "      <button class=\"colab-df-convert\" onclick=\"convertToInteractive('df-d42a5130-89f6-4ec9-bc23-321d10cb1fb3')\"\n",
              "              title=\"Convert this dataframe to an interactive table.\"\n",
              "              style=\"display:none;\">\n",
              "        \n",
              "  <svg xmlns=\"http://www.w3.org/2000/svg\" height=\"24px\"viewBox=\"0 0 24 24\"\n",
              "       width=\"24px\">\n",
              "    <path d=\"M0 0h24v24H0V0z\" fill=\"none\"/>\n",
              "    <path d=\"M18.56 5.44l.94 2.06.94-2.06 2.06-.94-2.06-.94-.94-2.06-.94 2.06-2.06.94zm-11 1L8.5 8.5l.94-2.06 2.06-.94-2.06-.94L8.5 2.5l-.94 2.06-2.06.94zm10 10l.94 2.06.94-2.06 2.06-.94-2.06-.94-.94-2.06-.94 2.06-2.06.94z\"/><path d=\"M17.41 7.96l-1.37-1.37c-.4-.4-.92-.59-1.43-.59-.52 0-1.04.2-1.43.59L10.3 9.45l-7.72 7.72c-.78.78-.78 2.05 0 2.83L4 21.41c.39.39.9.59 1.41.59.51 0 1.02-.2 1.41-.59l7.78-7.78 2.81-2.81c.8-.78.8-2.07 0-2.86zM5.41 20L4 18.59l7.72-7.72 1.47 1.35L5.41 20z\"/>\n",
              "  </svg>\n",
              "      </button>\n",
              "      \n",
              "  <style>\n",
              "    .colab-df-container {\n",
              "      display:flex;\n",
              "      flex-wrap:wrap;\n",
              "      gap: 12px;\n",
              "    }\n",
              "\n",
              "    .colab-df-convert {\n",
              "      background-color: #E8F0FE;\n",
              "      border: none;\n",
              "      border-radius: 50%;\n",
              "      cursor: pointer;\n",
              "      display: none;\n",
              "      fill: #1967D2;\n",
              "      height: 32px;\n",
              "      padding: 0 0 0 0;\n",
              "      width: 32px;\n",
              "    }\n",
              "\n",
              "    .colab-df-convert:hover {\n",
              "      background-color: #E2EBFA;\n",
              "      box-shadow: 0px 1px 2px rgba(60, 64, 67, 0.3), 0px 1px 3px 1px rgba(60, 64, 67, 0.15);\n",
              "      fill: #174EA6;\n",
              "    }\n",
              "\n",
              "    [theme=dark] .colab-df-convert {\n",
              "      background-color: #3B4455;\n",
              "      fill: #D2E3FC;\n",
              "    }\n",
              "\n",
              "    [theme=dark] .colab-df-convert:hover {\n",
              "      background-color: #434B5C;\n",
              "      box-shadow: 0px 1px 3px 1px rgba(0, 0, 0, 0.15);\n",
              "      filter: drop-shadow(0px 1px 2px rgba(0, 0, 0, 0.3));\n",
              "      fill: #FFFFFF;\n",
              "    }\n",
              "  </style>\n",
              "\n",
              "      <script>\n",
              "        const buttonEl =\n",
              "          document.querySelector('#df-d42a5130-89f6-4ec9-bc23-321d10cb1fb3 button.colab-df-convert');\n",
              "        buttonEl.style.display =\n",
              "          google.colab.kernel.accessAllowed ? 'block' : 'none';\n",
              "\n",
              "        async function convertToInteractive(key) {\n",
              "          const element = document.querySelector('#df-d42a5130-89f6-4ec9-bc23-321d10cb1fb3');\n",
              "          const dataTable =\n",
              "            await google.colab.kernel.invokeFunction('convertToInteractive',\n",
              "                                                     [key], {});\n",
              "          if (!dataTable) return;\n",
              "\n",
              "          const docLinkHtml = 'Like what you see? Visit the ' +\n",
              "            '<a target=\"_blank\" href=https://colab.research.google.com/notebooks/data_table.ipynb>data table notebook</a>'\n",
              "            + ' to learn more about interactive tables.';\n",
              "          element.innerHTML = '';\n",
              "          dataTable['output_type'] = 'display_data';\n",
              "          await google.colab.output.renderOutput(dataTable, element);\n",
              "          const docLink = document.createElement('div');\n",
              "          docLink.innerHTML = docLinkHtml;\n",
              "          element.appendChild(docLink);\n",
              "        }\n",
              "      </script>\n",
              "    </div>\n",
              "  </div>\n",
              "  "
            ]
          },
          "metadata": {},
          "execution_count": 63
        }
      ]
    },
    {
      "cell_type": "markdown",
      "source": [
        "3.4 Реализовать класс `Vocab` (токен = слово)"
      ],
      "metadata": {
        "id": "UXz3JKjORyEh"
      }
    },
    {
      "cell_type": "code",
      "execution_count": 64,
      "metadata": {
        "id": "_lCTSKZgu68K"
      },
      "outputs": [],
      "source": [
        "class Vocab:\n",
        "  def __init__(self, data):\n",
        "    self.idx_to_token = list({word for text in data for word in nltk.word_tokenize(text)} - {\".\"})\n",
        "    self.token_to_idx = {j: i for i, j in enumerate(self.idx_to_token)}\n",
        "    self.vocab_len = len(self.idx_to_token)"
      ]
    },
    {
      "cell_type": "code",
      "source": [
        "vocab = Vocab(reviews[1])\n",
        "vocab.vocab_len"
      ],
      "metadata": {
        "colab": {
          "base_uri": "https://localhost:8080/"
        },
        "id": "Hj0dpt3XSGE5",
        "outputId": "a1a98368-2861-4be6-8d17-2da5ff18dd79"
      },
      "execution_count": 65,
      "outputs": [
        {
          "output_type": "execute_result",
          "data": {
            "text/plain": [
              "70409"
            ]
          },
          "metadata": {},
          "execution_count": 65
        }
      ]
    },
    {
      "cell_type": "markdown",
      "source": [
        "3.5 Реализовать класс ReviewDataset"
      ],
      "metadata": {
        "id": "67rhnkyhSmVr"
      }
    },
    {
      "cell_type": "code",
      "execution_count": 66,
      "metadata": {
        "id": "WXLmCDvcvRmb"
      },
      "outputs": [],
      "source": [
        "class ReviewDataset(Dataset):\n",
        "  def __init__(self, data, targets, vocab):\n",
        "    self.data = data\n",
        "    self.targets = targets\n",
        "    self.vocab = vocab\n",
        "\n",
        "  def vectorize(self, review):\n",
        "    #Генерирует представление отзыва review при помощи бинарного кодирования (см. 1.2)\n",
        "    vec = torch.zeros(self.vocab.vocab_len)\n",
        "    indices = [self.vocab.token_to_idx[word] for word in nltk.word_tokenize(review)]\n",
        "    vec[indices] = 1\n",
        "    return vec\n",
        "\n",
        "  def __len__(self):\n",
        "    return len(self.data)\n",
        "\n",
        "  def __getitem__(self, idx):\n",
        "    return self.vectorize(self.data[idx]), self.targets[idx]"
      ]
    },
    {
      "cell_type": "code",
      "source": [
        "reviews_dataset = ReviewDataset(data=reviews[1].tolist(), targets=torch.tensor(reviews[0], dtype=torch.long), vocab=vocab)"
      ],
      "metadata": {
        "id": "nRIhJkiyTWJj"
      },
      "execution_count": 67,
      "outputs": []
    },
    {
      "cell_type": "markdown",
      "source": [
        "3.3 Разбить датасет на обучающую и тестовую выборку"
      ],
      "metadata": {
        "id": "le8GXsIvTgtm"
      }
    },
    {
      "cell_type": "code",
      "source": [
        "train_size = round(0.8 * len(reviews_dataset))\n",
        "test_size = len(reviews_dataset) - train_size\n",
        "train, test = random_split(reviews_dataset, lengths=(train_size, test_size))\n",
        "len(train), len(test)"
      ],
      "metadata": {
        "colab": {
          "base_uri": "https://localhost:8080/"
        },
        "id": "u29hTQLaTfEF",
        "outputId": "bc333987-6980-483c-be1e-69a38725164f"
      },
      "execution_count": 68,
      "outputs": [
        {
          "output_type": "execute_result",
          "data": {
            "text/plain": [
              "(44800, 11200)"
            ]
          },
          "metadata": {},
          "execution_count": 68
        }
      ]
    },
    {
      "cell_type": "markdown",
      "source": [
        "3.6 Обучить классификатор"
      ],
      "metadata": {
        "id": "w1veUnf0U8-j"
      }
    },
    {
      "cell_type": "code",
      "source": [
        "class ReviewsClassifier(nn.Module):\n",
        "\n",
        "    def __init__(self, in_features, out_features):\n",
        "        super(ReviewsClassifier, self).__init__()\n",
        "        self.seq = nn.Sequential(\n",
        "            nn.Linear(in_features, 256),\n",
        "            nn.ReLU(),\n",
        "            nn.Dropout(),\n",
        "            nn.Linear(256, out_features),\n",
        "            nn.LogSoftmax(dim=1),\n",
        "        )\n",
        "\n",
        "    def forward(self, inputs):\n",
        "        return self.seq(inputs)"
      ],
      "metadata": {
        "id": "tMZTsYDRTs8W"
      },
      "execution_count": 69,
      "outputs": []
    },
    {
      "cell_type": "code",
      "source": [
        "torch.manual_seed(0)\n",
        "\n",
        "net = ReviewsClassifier(vocab.vocab_len, vocab.vocab_len).to(DEVICE)\n",
        "loss_fn = nn.NLLLoss()\n",
        "optimizer = optim.Adam(net.parameters(), lr=0.0005)\n",
        "\n",
        "train_dataloader = DataLoader(train, batch_size=64, shuffle=True)\n",
        "test_dataloader = DataLoader(test, batch_size=1024)"
      ],
      "metadata": {
        "id": "RVtNM_8vVGSx"
      },
      "execution_count": 70,
      "outputs": []
    },
    {
      "cell_type": "code",
      "source": [
        "train_losses = common(epochs=5, model=net, loss_fn=loss_fn, optimizer=optimizer, train_dataloader=train_dataloader, test_dataloader=test_dataloader, verbose=200, device=DEVICE)"
      ],
      "metadata": {
        "colab": {
          "base_uri": "https://localhost:8080/"
        },
        "id": "y-NXJStLVKyc",
        "outputId": "92448cda-1471-4c31-8ba4-7934f36e9178"
      },
      "execution_count": 71,
      "outputs": [
        {
          "output_type": "stream",
          "name": "stdout",
          "text": [
            "Epoch 1\n",
            "________________________________________\n",
            "loss: 11.152913  [    0 / 44800]\n",
            "loss: 0.464431  [12800 / 44800]\n",
            "loss: 0.482351  [25600 / 44800]\n",
            "loss: 0.240322  [38400 / 44800]\n",
            "Accuracy: 0.92125, Avg loss: 0.23961347341537476 \n",
            "\n",
            "Epoch 2\n",
            "________________________________________\n",
            "loss: 0.188663  [    0 / 44800]\n",
            "loss: 0.124716  [12800 / 44800]\n",
            "loss: 0.196517  [25600 / 44800]\n",
            "loss: 0.240620  [38400 / 44800]\n",
            "Accuracy: 0.9260714285714285, Avg loss: 0.19717006385326385 \n",
            "\n",
            "Epoch 3\n",
            "________________________________________\n",
            "loss: 0.133093  [    0 / 44800]\n",
            "loss: 0.072733  [12800 / 44800]\n",
            "loss: 0.118846  [25600 / 44800]\n",
            "loss: 0.143924  [38400 / 44800]\n",
            "Accuracy: 0.92625, Avg loss: 0.1961348056793213 \n",
            "\n",
            "Epoch 4\n",
            "________________________________________\n",
            "loss: 0.050833  [    0 / 44800]\n",
            "loss: 0.092571  [12800 / 44800]\n",
            "loss: 0.073238  [25600 / 44800]\n",
            "loss: 0.121696  [38400 / 44800]\n",
            "Accuracy: 0.9249107142857143, Avg loss: 0.2089570164680481 \n",
            "\n",
            "Epoch 5\n",
            "________________________________________\n",
            "loss: 0.026199  [    0 / 44800]\n",
            "loss: 0.048534  [12800 / 44800]\n",
            "loss: 0.072099  [25600 / 44800]\n",
            "loss: 0.183631  [38400 / 44800]\n",
            "Accuracy: 0.9241964285714286, Avg loss: 0.22675271332263947 \n",
            "\n"
          ]
        }
      ]
    },
    {
      "cell_type": "code",
      "source": [
        "plt.rcParams[\"figure.figsize\"] = (8, 6)\n",
        "_ = plt.plot(torch.arange(len(train_losses)), train_losses)"
      ],
      "metadata": {
        "colab": {
          "base_uri": "https://localhost:8080/",
          "height": 374
        },
        "id": "jpGpm6m3VY5o",
        "outputId": "5d8229cf-e65e-45db-8af3-5ebd3b2c33d1"
      },
      "execution_count": 72,
      "outputs": [
        {
          "output_type": "display_data",
          "data": {
            "text/plain": [
              "<Figure size 576x432 with 1 Axes>"
            ],
            "image/png": "[encoded data removed]"
          },
          "metadata": {
            "needs_background": "light"
          }
        }
      ]
    },
    {
      "cell_type": "code",
      "source": [
        "test_func(dataloader=test_dataloader, model=net, loss_fn=loss_fn, device=DEVICE)"
      ],
      "metadata": {
        "colab": {
          "base_uri": "https://localhost:8080/"
        },
        "id": "77hJm0_N2Tzw",
        "outputId": "8fe724a6-6fe4-41ea-ab5f-b13ac7965979"
      },
      "execution_count": 73,
      "outputs": [
        {
          "output_type": "stream",
          "name": "stdout",
          "text": [
            "Accuracy: 0.9241964285714286, Avg loss: 0.22675271332263947 \n",
            "\n"
          ]
        },
        {
          "output_type": "execute_result",
          "data": {
            "text/plain": [
              "(tensor(0.2268, grad_fn=<DivBackward0>), 0.9241964285714286)"
            ]
          },
          "metadata": {},
          "execution_count": 73
        }
      ]
    },
    {
      "cell_type": "code",
      "source": [
        "def total_conclusion(target, review, model, data, label, device):\n",
        "  x = data.vectorize(review)\n",
        "  x = x.to(device)\n",
        "\n",
        "  pred = model(x.unsqueeze(0))\n",
        "  pred_prob, pred_label_idx = F.softmax(pred, 1).max(dim=1)\n",
        "  pred_label = label.inverse_transform([pred_label_idx.cpu()])\n",
        "\n",
        "  print(f'Review.....{review}')\n",
        "  print(f'True........{target}')\n",
        "  print(f'Predicts....{pred_label.item()} ({pred_prob.item():.2f}%)\\n')"
      ],
      "metadata": {
        "id": "I3cnls_i3Yir"
      },
      "execution_count": 74,
      "outputs": []
    },
    {
      "cell_type": "code",
      "source": [
        "reviews = [\n",
        "  (\"Horrible, horrible, horrible online customer service.\", 1),\n",
        "  (\"You can really enjoy this place.\", 2),\n",
        "]\n",
        "for review, target in reviews:\n",
        "  total_conclusion(target=target, review=preprocess_text(review).replace(\".\", \"\"), model=net, data=reviews_dataset, label=label, device=DEVICE)"
      ],
      "metadata": {
        "colab": {
          "base_uri": "https://localhost:8080/"
        },
        "id": "pRmyPyFX3Yqx",
        "outputId": "e316cf28-04b1-4432-9e39-1d9037fb47a3"
      },
      "execution_count": 77,
      "outputs": [
        {
          "output_type": "stream",
          "name": "stdout",
          "text": [
            "Review.....horrible, horrible, horrible online customer service\n",
            "True........1\n",
            "Predicts....1 (0.99%)\n",
            "\n",
            "Review.....you can really enjoy this place\n",
            "True........2\n",
            "Predicts....2 (0.55%)\n",
            "\n"
          ]
        },
        {
          "output_type": "stream",
          "name": "stderr",
          "text": [
            "/usr/local/lib/python3.7/dist-packages/sklearn/utils/validation.py:1023: FutureWarning: The input object of type 'Tensor' is an array-like implementing one of the corresponding protocols (`__array__`, `__array_interface__` or `__array_struct__`); but not a sequence (or 0-D). In the future, this object will be coerced as if it was first converted using `np.array(obj)`. To retain the old behaviour, you have to either modify the type 'Tensor', or assign to an empty array created with `np.empty(correct_shape, dtype=object)`.\n",
            "  y = np.asarray(y)\n"
          ]
        }
      ]
    }
  ],
  "metadata": {
    "colab": {
      "provenance": [],
      "toc_visible": true
    },
    "kernelspec": {
      "display_name": "Python 3 (ipykernel)",
      "language": "python",
      "name": "python3"
    },
    "language_info": {
      "codemirror_mode": {
        "name": "ipython",
        "version": 3
      },
      "file_extension": ".py",
      "mimetype": "text/x-python",
      "name": "python",
      "nbconvert_exporter": "python",
      "pygments_lexer": "ipython3",
      "version": "3.9.7"
    }
  },
  "nbformat": 4,
  "nbformat_minor": 0
}