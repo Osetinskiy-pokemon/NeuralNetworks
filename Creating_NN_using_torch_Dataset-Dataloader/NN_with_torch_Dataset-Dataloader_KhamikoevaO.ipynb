{
 "cells": [
  {
   "cell_type": "markdown",
   "metadata": {},
   "source": [
    "# 3. Создание нейронной сети при помощи пакета `torch`. Dataset и Dataloader.\n",
    "\n",
    "__Автор__: Никита Владимирович Блохин (NVBlokhin@fa.ru)\n",
    "\n",
    "Финансовый университет, 2020 г. "
   ]
  },
  {
   "cell_type": "code",
   "execution_count": 1,
   "metadata": {
    "id": "6ktSXdQVb9Li"
   },
   "outputs": [],
   "source": [
    "import torch\n",
    "import numpy as np\n",
    "import matplotlib.pyplot as plt"
   ]
  },
  {
   "cell_type": "markdown",
   "metadata": {
    "id": "4L7Inb1JbiDy"
   },
   "source": [
    "## 1. Автоматическое дифференцирование в `torch`"
   ]
  },
  {
   "cell_type": "markdown",
   "metadata": {
    "id": "HsZ69HZ0EsI7"
   },
   "source": [
    "1.1 Воспользовавшись классами `Neuron` и `MSELoss` из задачи 2.4.1 и автоматическим дифференцированием, которое предоставляет `torch`, решить задачу регрессии. Для оптимизации использовать стохастический градиетный спуск."
   ]
  },
  {
   "cell_type": "code",
   "execution_count": 2,
   "metadata": {
    "id": "zynPAaOrRKTm"
   },
   "outputs": [],
   "source": [
    "from sklearn.datasets import make_regression\n",
    "\n",
    "X, y, coef = make_regression(n_features=4, n_informative=4, coef=True, bias=0.5)\n",
    "X = torch.from_numpy(X).to(dtype=torch.float32)\n",
    "y = torch.from_numpy(y).to(dtype=torch.float32)"
   ]
  },
  {
   "cell_type": "code",
   "execution_count": 3,
   "metadata": {},
   "outputs": [],
   "source": [
    "class MSE_Loss:\n",
    "\n",
    "    def forward(self, y_pred: torch.Tensor, y_true: torch.Tensor):\n",
    "        return (y_pred - y_true) ** 2\n",
    "\n",
    "    def backward(self, y_pred: torch.Tensor, y_true: torch.Tensor):\n",
    "        self.dinput = 2 * (y_pred - y_true)"
   ]
  },
  {
   "cell_type": "code",
   "execution_count": 4,
   "metadata": {},
   "outputs": [],
   "source": [
    "class Neuron:\n",
    "    def __init__(self, n_inputs: int):\n",
    "        self.n_inputs = n_inputs\n",
    "        \n",
    "        self.weights = torch.randn(n_inputs, requires_grad=True)\n",
    "        self.bias = torch.randn(1, requires_grad=True)\n",
    "  \n",
    "    def forward(self, inputs: torch.Tensor) -> torch.Tensor:\n",
    "        self.inputs = inputs\n",
    "        return torch.sum(self.weights * inputs) + self.bias"
   ]
  },
  {
   "cell_type": "code",
   "execution_count": 5,
   "metadata": {},
   "outputs": [
    {
     "data": {
      "text/plain": [
       "(tensor([14.3517,  4.1976, 65.4796, 18.1618], requires_grad=True),\n",
       " array([14.3516751 ,  4.19760743, 65.47955167, 18.1618242 ]))"
      ]
     },
     "execution_count": 5,
     "metadata": {},
     "output_type": "execute_result"
    }
   ],
   "source": [
    "torch.manual_seed(0)\n",
    "\n",
    "neuron = Neuron(X.size(1))\n",
    "mse_l = MSE_Loss()\n",
    "\n",
    "lr = 0.1\n",
    "epochs = 100\n",
    "for epoch in range(epochs):\n",
    "    for i, (x, y_true) in enumerate(zip(X, y)):\n",
    "        y_pred = neuron.forward(x)\n",
    "\n",
    "        loss = mse_l.forward(y_pred, y_true)\n",
    "        loss.backward()\n",
    "\n",
    "        with torch.no_grad():\n",
    "            neuron.weights -= lr * neuron.weights.grad\n",
    "            neuron.bias -= lr * neuron.bias.grad\n",
    "\n",
    "        neuron.weights.grad.zero_()\n",
    "        neuron.bias.grad.zero_()\n",
    "\n",
    "neuron.weights, coef"
   ]
  },
  {
   "cell_type": "markdown",
   "metadata": {
    "id": "wxWeyJw5lAqU"
   },
   "source": [
    "1.2 Воспользовавшись классами `Linear` и `MSELoss` из задачи 2.1.4 и 2.3.1, `ReLU` из 2.2.1 и автоматическим дифференцированием, которое предоставляет `torch`, решить задачу регрессии. Для оптимизации использовать пакетный градиентный спуск. Вывести график функции потерь в зависимости от номера эпохи. Вывести на одном графике исходные данные и предсказанные значения."
   ]
  },
  {
   "cell_type": "code",
   "execution_count": 6,
   "metadata": {
    "id": "bnlAt1NEQoat"
   },
   "outputs": [],
   "source": [
    "X = torch.linspace(0, 1, 100).view(-1, 1)\n",
    "y = torch.sin(2 * np.pi * X) + 0.1 * torch.rand(X.size()) "
   ]
  },
  {
   "cell_type": "code",
   "execution_count": 7,
   "metadata": {},
   "outputs": [],
   "source": [
    "class Linear:\n",
    "\n",
    "    def __init__(self, n_features: int, n_neurons: int):\n",
    "        self.n_features = n_features\n",
    "        self.n_neurons = n_neurons\n",
    "\n",
    "        self.weights = torch.randn(n_neurons, n_features, requires_grad=True)\n",
    "        self.biases = torch.randn(n_neurons, requires_grad=True)\n",
    "\n",
    "    def forward(self, inputs: torch.Tensor):\n",
    "        self.inputs = inputs\n",
    "        return torch.matmul(inputs, self.weights.T) + self.biases"
   ]
  },
  {
   "cell_type": "code",
   "execution_count": 8,
   "metadata": {},
   "outputs": [],
   "source": [
    "class MSELoss:\n",
    "\n",
    "    def forward(self, y_pred: torch.Tensor, y_true: torch.Tensor) -> torch.Tensor:\n",
    "        return torch.mean((y_pred - y_true) ** 2)\n",
    "\n",
    "\n",
    "class ReLU:\n",
    "\n",
    "    def forward(self, inputs: torch.Tensor):\n",
    "        return torch.maximum(inputs, torch.tensor(0))"
   ]
  },
  {
   "cell_type": "code",
   "execution_count": 9,
   "metadata": {},
   "outputs": [
    {
     "data": {
      "text/plain": [
       "<torch._C.Generator at 0x1b3a5e1f1f0>"
      ]
     },
     "execution_count": 9,
     "metadata": {},
     "output_type": "execute_result"
    }
   ],
   "source": [
    "torch.manual_seed(0)"
   ]
  },
  {
   "cell_type": "code",
   "execution_count": 10,
   "metadata": {},
   "outputs": [],
   "source": [
    "fc1 = Linear(X.size(1), 100)\n",
    "relu = ReLU()\n",
    "fc2 = Linear(100, y.size(1))\n",
    "mse = MSELoss()\n",
    "\n",
    "lr = 0.01\n",
    "epochs = 1000\n",
    "\n",
    "losses = torch.empty(epochs)\n",
    "\n",
    "for epoch in range(epochs):\n",
    "    y_pred = fc2.forward(relu.forward(fc1.forward(X)))\n",
    "\n",
    "    loss = mse.forward(y_pred, y)\n",
    "    loss.backward()\n",
    "    losses[epoch] = loss\n",
    "\n",
    "    with torch.no_grad():\n",
    "        fc1.weights -= lr * fc1.weights.grad\n",
    "        fc1.biases -= lr * fc1.biases.grad\n",
    "        fc2.weights -= lr * fc2.weights.grad\n",
    "        fc2.biases -= lr * fc2.biases.grad\n",
    "\n",
    "    fc1.weights.grad.zero_()\n",
    "    fc1.biases.grad.zero_()\n",
    "    fc2.weights.grad.zero_()\n",
    "    fc2.biases.grad.zero_()\n",
    "\n",
    "predicts = fc2.forward(relu.forward(fc1.forward(X)))"
   ]
  },
  {
   "cell_type": "code",
   "execution_count": 11,
   "metadata": {},
   "outputs": [
    {
     "data": {
      "image/png": "[encoded data removed]",
      "text/plain": [
       "<Figure size 432x288 with 1 Axes>"
      ]
     },
     "metadata": {
      "needs_background": "light"
     },
     "output_type": "display_data"
    }
   ],
   "source": [
    "plt.plot(torch.arange(losses.size(0)), losses.detach().numpy());"
   ]
  },
  {
   "cell_type": "code",
   "execution_count": 12,
   "metadata": {},
   "outputs": [
    {
     "data": {
      "image/png": "[encoded data removed]",
      "text/plain": [
       "<Figure size 432x288 with 1 Axes>"
      ]
     },
     "metadata": {
      "needs_background": "light"
     },
     "output_type": "display_data"
    }
   ],
   "source": [
    "_, ax = plt.subplots(1)\n",
    "\n",
    "ax.scatter(X, y, s=10)\n",
    "ax.plot(X, predicts.detach(), color='r', lw=2);"
   ]
  },
  {
   "cell_type": "markdown",
   "metadata": {
    "id": "nifm0FVB2y5N"
   },
   "source": [
    "## 2. Алгоритмы оптимизации в `torch.optim`"
   ]
  },
  {
   "cell_type": "code",
   "execution_count": 13,
   "metadata": {
    "id": "u5PTTYou3xx8"
   },
   "outputs": [],
   "source": [
    "import torch.optim as optim"
   ]
  },
  {
   "cell_type": "markdown",
   "metadata": {
    "id": "0oBFfJpmcwfn"
   },
   "source": [
    "2.1 Решить задачу 1.1, воспользовавшись оптимизатором `optim.SDG` для применения стохастического градиентого спуска"
   ]
  },
  {
   "cell_type": "code",
   "execution_count": 14,
   "metadata": {},
   "outputs": [],
   "source": [
    "X, y, coef = make_regression(n_features=4, n_informative=4, coef=True, bias=0.5)\n",
    "X = torch.from_numpy(X).to(dtype=torch.float32)\n",
    "y = torch.from_numpy(y).to(dtype=torch.float32)"
   ]
  },
  {
   "cell_type": "code",
   "execution_count": 15,
   "metadata": {},
   "outputs": [
    {
     "data": {
      "text/plain": [
       "(tensor([61.8860,  0.2905, 73.4126, 77.4154], requires_grad=True),\n",
       " array([61.88595909,  0.29044994, 73.41256623, 77.41538837]))"
      ]
     },
     "execution_count": 15,
     "metadata": {},
     "output_type": "execute_result"
    }
   ],
   "source": [
    "torch.manual_seed(0)\n",
    "\n",
    "neuron = Neuron(X.size(1))\n",
    "mse_l = MSE_Loss()\n",
    "\n",
    "lr = 0.1\n",
    "optimizer = optim.SGD([neuron.weights, neuron.bias], lr=lr)\n",
    "\n",
    "epochs = 10\n",
    "for epoch in range(epochs):\n",
    "    for i, (x, y_true) in enumerate(zip(X, y)):\n",
    "        optimizer.zero_grad()\n",
    "\n",
    "        y_pred = neuron.forward(x)\n",
    "        loss = mse_l.forward(y_pred, y_true)\n",
    "        loss.backward()\n",
    "\n",
    "        optimizer.step()\n",
    "\n",
    "neuron.weights, coef"
   ]
  },
  {
   "cell_type": "markdown",
   "metadata": {
    "id": "1LFAacdy46bX"
   },
   "source": [
    "2.2 Решить задачу 1.2, воспользовавшись оптимизатором `optim.Adam` для применения пакетного градиентого спуска. Вывести график функции потерь в зависимости от номера эпохи. Вывести на одном графике исходные данные и предсказанные значения."
   ]
  },
  {
   "cell_type": "code",
   "execution_count": 16,
   "metadata": {},
   "outputs": [],
   "source": [
    "X = torch.linspace(0, 1, 100).view(-1, 1)\n",
    "y = torch.sin(2 * np.pi * X) + 0.1 * torch.rand(X.size())"
   ]
  },
  {
   "cell_type": "code",
   "execution_count": 17,
   "metadata": {},
   "outputs": [],
   "source": [
    "torch.manual_seed(0)\n",
    "\n",
    "fc1 = Linear(X.size(1), 100)\n",
    "relu = ReLU()\n",
    "fc2 = Linear(100, y.size(1))\n",
    "mse = MSELoss()\n",
    "\n",
    "lr = 0.01\n",
    "optimizer = optim.Adam([fc1.weights, fc1.biases, fc2.weights, fc2.biases], lr=lr)\n",
    "\n",
    "epochs = 1000\n",
    "\n",
    "losses = torch.empty(epochs)\n",
    "\n",
    "for epoch in range(1000):\n",
    "    optimizer.zero_grad()\n",
    "\n",
    "    y_pred = fc2.forward(relu.forward(fc1.forward(X)))\n",
    "    loss = mse.forward(y_pred, y)\n",
    "    loss.backward()\n",
    "    losses[epoch] = loss\n",
    "\n",
    "    optimizer.step()\n",
    "\n",
    "predicts = fc2.forward(relu.forward(fc1.forward(X)))"
   ]
  },
  {
   "cell_type": "code",
   "execution_count": 18,
   "metadata": {},
   "outputs": [
    {
     "data": {
      "image/png": "[encoded data removed]",
      "text/plain": [
       "<Figure size 432x288 with 1 Axes>"
      ]
     },
     "metadata": {
      "needs_background": "light"
     },
     "output_type": "display_data"
    }
   ],
   "source": [
    "plt.plot(torch.arange(losses.size(0)), losses.detach().numpy());"
   ]
  },
  {
   "cell_type": "code",
   "execution_count": 19,
   "metadata": {},
   "outputs": [
    {
     "data": {
      "image/png": "[encoded data removed]",
      "text/plain": [
       "<Figure size 432x288 with 1 Axes>"
      ]
     },
     "metadata": {
      "needs_background": "light"
     },
     "output_type": "display_data"
    }
   ],
   "source": [
    "_, ax = plt.subplots(1)\n",
    "\n",
    "ax.scatter(X, y, s=10)\n",
    "ax.plot(X, predicts.detach(), color='r', lw=2);"
   ]
  },
  {
   "cell_type": "markdown",
   "metadata": {
    "id": "n-qUqdALiN-G"
   },
   "source": [
    "## 3. Построение сетей при помощи `torch.nn`"
   ]
  },
  {
   "cell_type": "code",
   "execution_count": 20,
   "metadata": {
    "id": "Vxsck-1M6TAV"
   },
   "outputs": [],
   "source": [
    "import torch.nn as nn"
   ]
  },
  {
   "cell_type": "markdown",
   "metadata": {
    "id": "M0ICJtarif3_"
   },
   "source": [
    "3.1 Решить задачу регрессии, соблюдая следующие условия:\n",
    "\n",
    "1. Оформить нейронную сеть в виде класса - наследника `nn.Module`\n",
    "2. При создании сети использовать готовые блоки из `torch.nn`: слои, функции активации, функции потерь и т.д.\n",
    "3. Для оптимизации использовать любой алгоритм оптимизации из `torch.optim` "
   ]
  },
  {
   "cell_type": "code",
   "execution_count": 40,
   "metadata": {
    "id": "L1bvXHhO7aWs"
   },
   "outputs": [],
   "source": [
    "X = torch.linspace(0, 1, 100).view(-1, 1)\n",
    "y = torch.sin(2 * np.pi * X) + 0.1 * torch.rand(X.size()) "
   ]
  },
  {
   "cell_type": "code",
   "execution_count": 41,
   "metadata": {},
   "outputs": [],
   "source": [
    "class NHeir(nn.Module):\n",
    "\n",
    "    def __init__(self, n_features: int, n_neurons: int):\n",
    "        super(NHeir, self).__init__()\n",
    "        self.n_features = n_features\n",
    "        self.n_neurons = n_neurons\n",
    "\n",
    "        self.fc1 = nn.Linear(self.n_features, 100)\n",
    "        self.relu = nn.ReLU()\n",
    "        self.fc2 = nn.Linear(100, self.n_neurons)\n",
    "\n",
    "    def forward(self, inputs: torch.Tensor) -> torch.Tensor:\n",
    "        return self.fc2(self.relu(self.fc1(inputs)))"
   ]
  },
  {
   "cell_type": "code",
   "execution_count": 42,
   "metadata": {},
   "outputs": [],
   "source": [
    "torch.manual_seed(0)\n",
    "\n",
    "nh = NHeir(X.size(1), y.size(1))\n",
    "optimize = optim.Adam(nh.parameters(), lr=0.01)\n",
    "criterion = nn.MSELoss()"
   ]
  },
  {
   "cell_type": "code",
   "execution_count": 43,
   "metadata": {},
   "outputs": [],
   "source": [
    "for epoch in range(800):\n",
    "    optimize.zero_grad()\n",
    "\n",
    "    y_pred = nh(X)\n",
    "    loss = criterion(y_pred, y)\n",
    "    loss.backward()\n",
    "\n",
    "    optimize.step()\n",
    "\n",
    "predicts = nh(X)"
   ]
  },
  {
   "cell_type": "code",
   "execution_count": 44,
   "metadata": {},
   "outputs": [
    {
     "data": {
      "image/png": "[encoded data removed]",
      "text/plain": [
       "<Figure size 432x288 with 1 Axes>"
      ]
     },
     "metadata": {
      "needs_background": "light"
     },
     "output_type": "display_data"
    }
   ],
   "source": [
    "_, ax = plt.subplots(1)\n",
    "\n",
    "ax.scatter(X, y, s=10)\n",
    "ax.plot(X, predicts.detach(), color='r', lw=2);"
   ]
  },
  {
   "cell_type": "markdown",
   "metadata": {
    "id": "UPUW6fm5jbQd"
   },
   "source": [
    "3.2 Решить задачу регрессии, соблюдая следующие условия:\n",
    "\n",
    "1. Оформить нейронную сеть в виде объекта `nn.Sequential`\n",
    "2. При создании сети использовать готовые блоки из `torch.nn`: слои, функции активации, функции потерь и т.д.\n",
    "3. Для оптимизации использовать любой алгоритм оптимизации из `torch.optim` "
   ]
  },
  {
   "cell_type": "code",
   "execution_count": 87,
   "metadata": {
    "id": "BBwbAEd57a2r"
   },
   "outputs": [],
   "source": [
    "X = torch.linspace(0, 1, 100).view(-1, 1)\n",
    "y = torch.sin(2 * np.pi * X) + 0.1 * torch.rand(X.size()) "
   ]
  },
  {
   "cell_type": "code",
   "execution_count": 88,
   "metadata": {},
   "outputs": [
    {
     "data": {
      "text/plain": [
       "<torch._C.Generator at 0x1b3a5e1f1f0>"
      ]
     },
     "execution_count": 88,
     "metadata": {},
     "output_type": "execute_result"
    }
   ],
   "source": [
    "torch.manual_seed(0)"
   ]
  },
  {
   "cell_type": "code",
   "execution_count": 89,
   "metadata": {},
   "outputs": [],
   "source": [
    "n_features = X.size(1)\n",
    "n_neurons = y.size(1)"
   ]
  },
  {
   "cell_type": "code",
   "execution_count": 90,
   "metadata": {},
   "outputs": [],
   "source": [
    "nh = nn.Sequential(\n",
    "    nn.Linear(n_features, 30),\n",
    "    nn.ReLU(),\n",
    "    nn.Linear(30, 100),\n",
    "    nn.ReLU(),\n",
    "    nn.Linear(100, n_neurons),\n",
    ")\n",
    "criterion = nn.L1Loss()\n",
    "optimize = optim.Adagrad(nh.parameters(), lr=0.05)"
   ]
  },
  {
   "cell_type": "code",
   "execution_count": 91,
   "metadata": {},
   "outputs": [],
   "source": [
    "for epoch in range(1500):\n",
    "    optimize.zero_grad()\n",
    "\n",
    "    y_pred = nh(X)\n",
    "    loss = criterion(y_pred, y)\n",
    "    loss.backward()\n",
    "\n",
    "    optimize.step()\n",
    "\n",
    "predicts = nh(X)"
   ]
  },
  {
   "cell_type": "code",
   "execution_count": 92,
   "metadata": {},
   "outputs": [
    {
     "data": {
      "image/png": "[encoded data removed]",
      "text/plain": [
       "<Figure size 432x288 with 1 Axes>"
      ]
     },
     "metadata": {
      "needs_background": "light"
     },
     "output_type": "display_data"
    }
   ],
   "source": [
    "_, ax = plt.subplots(1)\n",
    "\n",
    "ax.scatter(X, y, s=10)\n",
    "ax.plot(X, predicts.detach(), color='r', lw=2);"
   ]
  },
  {
   "cell_type": "markdown",
   "metadata": {},
   "source": [
    "3.3 Решить задачу классификации. Датасет: Breast Cancer Wisconsin\n",
    "1. Оформить нейронную сеть в виде объекта `nn.Sequential`\n",
    "2. При создании сети использовать готовые блоки из `torch.nn`: слои, функции активации, функции потерь и т.д.\n",
    "3. Для оптимизации использовать любой алгоритм оптимизации из `torch.optim` "
   ]
  },
  {
   "cell_type": "code",
   "execution_count": 106,
   "metadata": {},
   "outputs": [],
   "source": [
    "from sklearn import datasets, metrics\n",
    "\n",
    "data = datasets.load_breast_cancer()\n",
    "X = torch.from_numpy(data.data).to(torch.float32)\n",
    "y = torch.from_numpy(data.target).to(torch.float32).view(-1, 1)"
   ]
  },
  {
   "cell_type": "code",
   "execution_count": 107,
   "metadata": {},
   "outputs": [
    {
     "data": {
      "text/plain": [
       "<torch._C.Generator at 0x1b3a5e1f1f0>"
      ]
     },
     "execution_count": 107,
     "metadata": {},
     "output_type": "execute_result"
    }
   ],
   "source": [
    "torch.manual_seed(0)"
   ]
  },
  {
   "cell_type": "code",
   "execution_count": 108,
   "metadata": {},
   "outputs": [],
   "source": [
    "nh = nn.Sequential(\n",
    "    nn.Linear(X.size(1), 50),\n",
    "    nn.ReLU(),\n",
    "    nn.Linear(50, y.size(1)),\n",
    "    nn.Sigmoid(),\n",
    ")\n",
    "\n",
    "optimize = optim.SGD(nh.parameters(), lr=0.01, momentum=0.9)\n",
    "criterion = nn.BCELoss()"
   ]
  },
  {
   "cell_type": "code",
   "execution_count": 109,
   "metadata": {},
   "outputs": [
    {
     "name": "stdout",
     "output_type": "stream",
     "text": [
      "Epoch №0 -> loss = 10.102731704711914, accuracy = 0.37258347978910367\n",
      "Epoch №100 -> loss = 37.25834655761719, accuracy = 0.6274165202108963\n",
      "Epoch №200 -> loss = 37.25834655761719, accuracy = 0.6274165202108963\n",
      "Epoch №300 -> loss = 37.25834655761719, accuracy = 0.6274165202108963\n",
      "Epoch №400 -> loss = 37.25834655761719, accuracy = 0.6274165202108963\n",
      "Epoch №500 -> loss = 37.25834655761719, accuracy = 0.6274165202108963\n",
      "Epoch №600 -> loss = 37.25834655761719, accuracy = 0.6274165202108963\n",
      "Epoch №700 -> loss = 37.25834655761719, accuracy = 0.6274165202108963\n",
      "Epoch №800 -> loss = 37.25834655761719, accuracy = 0.6274165202108963\n"
     ]
    }
   ],
   "source": [
    "epochs = 800\n",
    "for epoch in range(epochs + 1):\n",
    "    optimize.zero_grad()\n",
    "\n",
    "    y_pred = nh(X)\n",
    "    loss = criterion(y_pred, y)\n",
    "    loss.backward()\n",
    "\n",
    "    optimize.step()\n",
    "\n",
    "    if epoch % 100 == 0:\n",
    "        acc = metrics.accuracy_score(y, y_pred.round().detach().numpy())\n",
    "        print(f\"Epoch №{epoch} -> loss = {loss}, accuracy = {acc}\")"
   ]
  },
  {
   "cell_type": "code",
   "execution_count": 110,
   "metadata": {},
   "outputs": [
    {
     "data": {
      "text/plain": [
       "<torch._C.Generator at 0x1b3a5e1f1f0>"
      ]
     },
     "execution_count": 110,
     "metadata": {},
     "output_type": "execute_result"
    }
   ],
   "source": [
    "torch.manual_seed(0)"
   ]
  },
  {
   "cell_type": "code",
   "execution_count": 111,
   "metadata": {},
   "outputs": [],
   "source": [
    "#хочу попробовать с другой оптимизацией\n",
    "data = datasets.load_breast_cancer()\n",
    "X = torch.from_numpy(data.data).to(torch.float32)\n",
    "y = torch.from_numpy(data.target).to(torch.float32).view(-1, 1)\n",
    "nh = nn.Sequential(\n",
    "    nn.Linear(X.size(1), 50),\n",
    "    nn.ReLU(),\n",
    "    nn.Linear(50, y.size(1)),\n",
    "    nn.Sigmoid(),\n",
    ")\n",
    "criterion = nn.BCELoss()"
   ]
  },
  {
   "cell_type": "code",
   "execution_count": 112,
   "metadata": {},
   "outputs": [],
   "source": [
    "optimize_2 = optim.Adam(nh.parameters(), lr=0.005)"
   ]
  },
  {
   "cell_type": "code",
   "execution_count": 113,
   "metadata": {},
   "outputs": [
    {
     "name": "stdout",
     "output_type": "stream",
     "text": [
      "Epoch №0 -> loss = 10.102731704711914, accuracy = 0.37258347978910367\n",
      "Epoch №100 -> loss = 0.20632903277873993, accuracy = 0.9191564147627417\n",
      "Epoch №200 -> loss = 0.17000000178813934, accuracy = 0.929701230228471\n",
      "Epoch №300 -> loss = 0.14355461299419403, accuracy = 0.945518453427065\n",
      "Epoch №400 -> loss = 0.12416836619377136, accuracy = 0.9507908611599297\n",
      "Epoch №500 -> loss = 0.10899636894464493, accuracy = 0.9578207381370826\n",
      "Epoch №600 -> loss = 0.09693359583616257, accuracy = 0.9578207381370826\n",
      "Epoch №700 -> loss = 0.08754619210958481, accuracy = 0.961335676625659\n",
      "Epoch №800 -> loss = 0.08034734427928925, accuracy = 0.961335676625659\n"
     ]
    }
   ],
   "source": [
    "epochs = 800\n",
    "for epoch in range(epochs + 1):\n",
    "    optimize_2.zero_grad()\n",
    "\n",
    "    y_pred = nh(X)\n",
    "    loss = criterion(y_pred, y)\n",
    "    loss.backward()\n",
    "\n",
    "    optimize_2.step()\n",
    "\n",
    "    if epoch % 100 == 0:\n",
    "        acc = metrics.accuracy_score(y, y_pred.round().detach().numpy())\n",
    "        print(f\"Epoch №{epoch} -> loss = {loss}, accuracy = {acc}\")"
   ]
  },
  {
   "cell_type": "markdown",
   "metadata": {
    "id": "jQj0oVeLj2A1"
   },
   "source": [
    "## 4. Datasets and dataloaders"
   ]
  },
  {
   "cell_type": "code",
   "execution_count": 114,
   "metadata": {
    "id": "c82tAkXMjajm"
   },
   "outputs": [],
   "source": [
    "from torch.utils.data import Dataset, DataLoader, random_split, Subset"
   ]
  },
  {
   "cell_type": "markdown",
   "metadata": {
    "id": "hoFPckkp8yhz"
   },
   "source": [
    "4.1 Создать датасет, поставляющий данные из задачи 1.2. \n",
    "\n",
    "Создать `DataLoader` на основе этого датасета и проверить работоспособность.\n",
    "\n",
    "Воспользовавшись результатами 3.1 (или 3.2) обучите модель, пользуясь мини-пакетным градиентным спуском с размером пакета (`batch_size`) = 10"
   ]
  },
  {
   "cell_type": "code",
   "execution_count": 115,
   "metadata": {
    "id": "tlcwQzCFRvFc"
   },
   "outputs": [],
   "source": [
    "class SinDataset(Dataset):\n",
    "\n",
    "    def __init__(self):\n",
    "        self.data = torch.linspace(0, 1, 100).view(-1, 1)\n",
    "        self.target = torch.sin(2 * np.pi * self.data) + 0.1 * torch.rand(self.data.size())\n",
    "\n",
    "    def __len__(self):\n",
    "        return len(self.target)\n",
    "\n",
    "    def __getitem__(self, idx):\n",
    "        return self.data[idx], self.target[idx]"
   ]
  },
  {
   "cell_type": "code",
   "execution_count": 116,
   "metadata": {},
   "outputs": [],
   "source": [
    "sinDataset = SinDataset()\n",
    "dataloader = DataLoader(sinDataset, batch_size=10)\n",
    "\n",
    "X = sinDataset.data\n",
    "y = sinDataset.target"
   ]
  },
  {
   "cell_type": "code",
   "execution_count": 117,
   "metadata": {},
   "outputs": [],
   "source": [
    "nh = nn.Sequential(\n",
    "    nn.Linear(X.size(1), 30),\n",
    "    nn.ReLU(),\n",
    "    nn.Linear(30, 100),\n",
    "    nn.ReLU(),\n",
    "    nn.Linear(100, y.size(1)),\n",
    ")\n",
    "criterion = nn.MSELoss()\n",
    "optimize = optim.Adam(nh.parameters(), lr=0.005)"
   ]
  },
  {
   "cell_type": "code",
   "execution_count": 118,
   "metadata": {},
   "outputs": [
    {
     "name": "stdout",
     "output_type": "stream",
     "text": [
      "Epoch № 0, step № 0] loss = 0.16218958795070648, batch_size = 10\n",
      "Epoch № 0, step № 5] loss = 0.6840108036994934, batch_size = 10\n",
      "Epoch № 100, step № 0] loss = 0.020698469132184982, batch_size = 10\n",
      "Epoch № 100, step № 5] loss = 0.17505747079849243, batch_size = 10\n",
      "Epoch № 200, step № 0] loss = 0.011225285939872265, batch_size = 10\n",
      "Epoch № 200, step № 5] loss = 0.01657615229487419, batch_size = 10\n",
      "Epoch № 300, step № 0] loss = 0.011090116575360298, batch_size = 10\n",
      "Epoch № 300, step № 5] loss = 0.012961896136403084, batch_size = 10\n",
      "Epoch № 400, step № 0] loss = 0.01328627485781908, batch_size = 10\n",
      "Epoch № 400, step № 5] loss = 0.012617702595889568, batch_size = 10\n",
      "Epoch № 500, step № 0] loss = 0.012603839859366417, batch_size = 10\n",
      "Epoch № 500, step № 5] loss = 0.00950542464852333, batch_size = 10\n",
      "Epoch № 600, step № 0] loss = 0.010833422653377056, batch_size = 10\n",
      "Epoch № 600, step № 5] loss = 0.008811882697045803, batch_size = 10\n",
      "Epoch № 700, step № 0] loss = 0.0062590716406702995, batch_size = 10\n",
      "Epoch № 700, step № 5] loss = 0.007352466229349375, batch_size = 10\n",
      "Epoch № 800, step № 0] loss = 0.0076328665018081665, batch_size = 10\n",
      "Epoch № 800, step № 5] loss = 0.006437328644096851, batch_size = 10\n"
     ]
    }
   ],
   "source": [
    "steps = len(dataloader)\n",
    "epochs = 800\n",
    "for epoch in range(epochs + 1):\n",
    "    for i, (x_, y_) in enumerate(dataloader):\n",
    "        optimize.zero_grad()\n",
    "\n",
    "        y_pred = nh(x_)\n",
    "        loss = criterion(y_pred, y_)\n",
    "        loss.backward()\n",
    "\n",
    "        optimize.step()\n",
    "\n",
    "        if epoch % 100 == 0 and i % 5 == 0:\n",
    "            print(f\"Epoch № {epoch}, step № {i}]\"\n",
    "                  f\" loss = {loss}, batch_size = {x_.size(0)}\")"
   ]
  },
  {
   "cell_type": "code",
   "execution_count": 119,
   "metadata": {},
   "outputs": [
    {
     "data": {
      "image/png": "[encoded data removed]",
      "text/plain": [
       "<Figure size 432x288 with 1 Axes>"
      ]
     },
     "metadata": {
      "needs_background": "light"
     },
     "output_type": "display_data"
    }
   ],
   "source": [
    "predicts = nh(X)\n",
    "\n",
    "_, ax = plt.subplots(1)\n",
    "ax.scatter(X, y, s=10)\n",
    "ax.plot(X, predicts.detach(), color='r', lw=2);"
   ]
  },
  {
   "cell_type": "markdown",
   "metadata": {
    "id": "bxz02a3k_VQL"
   },
   "source": [
    "4.2 Предсказание цен алмазов\n",
    "\n",
    "4.2.1 Создайте датасет на основе файла diamonds.csv. \n",
    "\n",
    "1. Удалите все нечисловые столбцы\n",
    "2. Целевой столбец (`y`) - `price`\n",
    "3. Преобразуйте данные в тензоры корректных размеров"
   ]
  },
  {
   "cell_type": "code",
   "execution_count": 120,
   "metadata": {},
   "outputs": [],
   "source": [
    "import pandas as pd\n",
    "import seaborn as sns"
   ]
  },
  {
   "cell_type": "code",
   "execution_count": 130,
   "metadata": {
    "id": "fEfTNJQI8emD"
   },
   "outputs": [],
   "source": [
    "class DiamondsDataset(Dataset):\n",
    "    def __init__(self, data: pd.DataFrame):\n",
    "        data = data.select_dtypes(np.number)\n",
    "        features = data[data.columns.drop(\"price\")]\n",
    "        labels = data[[\"price\"]]\n",
    "\n",
    "        self.features = torch.from_numpy(features.to_numpy(dtype=np.float32))\n",
    "        self.labels = torch.from_numpy(labels.to_numpy(dtype=np.float32))\n",
    "\n",
    "    def __len__(self):\n",
    "        return len(self.labels)\n",
    "\n",
    "    def __getitem__(self, idx):\n",
    "        return self.features[idx], self.labels[idx]"
   ]
  },
  {
   "cell_type": "code",
   "execution_count": 131,
   "metadata": {},
   "outputs": [
    {
     "data": {
      "text/html": [
       "<div>\n",
       "<style scoped>\n",
       "    .dataframe tbody tr th:only-of-type {\n",
       "        vertical-align: middle;\n",
       "    }\n",
       "\n",
       "    .dataframe tbody tr th {\n",
       "        vertical-align: top;\n",
       "    }\n",
       "\n",
       "    .dataframe thead th {\n",
       "        text-align: right;\n",
       "    }\n",
       "</style>\n",
       "<table border=\"1\" class=\"dataframe\">\n",
       "  <thead>\n",
       "    <tr style=\"text-align: right;\">\n",
       "      <th></th>\n",
       "      <th>carat</th>\n",
       "      <th>cut</th>\n",
       "      <th>color</th>\n",
       "      <th>clarity</th>\n",
       "      <th>depth</th>\n",
       "      <th>table</th>\n",
       "      <th>price</th>\n",
       "      <th>x</th>\n",
       "      <th>y</th>\n",
       "      <th>z</th>\n",
       "    </tr>\n",
       "  </thead>\n",
       "  <tbody>\n",
       "    <tr>\n",
       "      <th>0</th>\n",
       "      <td>0.23</td>\n",
       "      <td>Ideal</td>\n",
       "      <td>E</td>\n",
       "      <td>SI2</td>\n",
       "      <td>61.5</td>\n",
       "      <td>55.0</td>\n",
       "      <td>326</td>\n",
       "      <td>3.95</td>\n",
       "      <td>3.98</td>\n",
       "      <td>2.43</td>\n",
       "    </tr>\n",
       "    <tr>\n",
       "      <th>1</th>\n",
       "      <td>0.21</td>\n",
       "      <td>Premium</td>\n",
       "      <td>E</td>\n",
       "      <td>SI1</td>\n",
       "      <td>59.8</td>\n",
       "      <td>61.0</td>\n",
       "      <td>326</td>\n",
       "      <td>3.89</td>\n",
       "      <td>3.84</td>\n",
       "      <td>2.31</td>\n",
       "    </tr>\n",
       "  </tbody>\n",
       "</table>\n",
       "</div>"
      ],
      "text/plain": [
       "   carat      cut color clarity  depth  table  price     x     y     z\n",
       "0   0.23    Ideal     E     SI2   61.5   55.0    326  3.95  3.98  2.43\n",
       "1   0.21  Premium     E     SI1   59.8   61.0    326  3.89  3.84  2.31"
      ]
     },
     "execution_count": 131,
     "metadata": {},
     "output_type": "execute_result"
    }
   ],
   "source": [
    "diamonds = sns.load_dataset(\"diamonds\", data_home=\"data/\")\n",
    "diamonds.head(2)"
   ]
  },
  {
   "cell_type": "code",
   "execution_count": 132,
   "metadata": {},
   "outputs": [
    {
     "data": {
      "text/plain": [
       "(torch.Size([53940, 6]), torch.Size([53940, 1]))"
      ]
     },
     "execution_count": 132,
     "metadata": {},
     "output_type": "execute_result"
    }
   ],
   "source": [
    "dataset = DiamondsDataset(diamonds)\n",
    "dataset.features.size(), dataset.labels.size()"
   ]
  },
  {
   "cell_type": "markdown",
   "metadata": {},
   "source": [
    "4.2.2 Разбейте датасет на обучающий и тестовый датасет при помощи `torch.utils.data.random_split`."
   ]
  },
  {
   "cell_type": "code",
   "execution_count": 133,
   "metadata": {},
   "outputs": [],
   "source": [
    "size = round(0.8 * len(dataset))\n",
    "train_dataset, test_dataset = random_split(dataset, lengths=(size, len(dataset) - size))"
   ]
  },
  {
   "cell_type": "markdown",
   "metadata": {},
   "source": [
    "4.2.3 Обучите модель для предсказания цен при помощи мини-пакетного градиентного спуска (`batch_size = 256`). "
   ]
  },
  {
   "cell_type": "code",
   "execution_count": 134,
   "metadata": {},
   "outputs": [],
   "source": [
    "n = nn.Sequential(\n",
    "    nn.Linear(dataset.features.size(1), 32),\n",
    "    nn.Dropout(0.25),\n",
    "    nn.ReLU(),\n",
    "    nn.Linear(32, 96),\n",
    "    nn.Dropout(0.5),\n",
    "    nn.ReLU(),\n",
    "    nn.Linear(96, 32),\n",
    "    nn.Dropout(0.25),\n",
    "    nn.ReLU(),\n",
    "    nn.Linear(32, dataset.labels.size(1)),\n",
    "    nn.ReLU(),\n",
    ")\n",
    "\n",
    "optimize = optim.Adam(n.parameters(), lr=0.001)\n",
    "criterion = nn.MSELoss()"
   ]
  },
  {
   "cell_type": "code",
   "execution_count": 135,
   "metadata": {},
   "outputs": [],
   "source": [
    "n.train()\n",
    "train_loader = DataLoader(train_dataset, batch_size=256)\n",
    "\n",
    "steps = len(train_loader)\n",
    "epochs = 50\n",
    "losses = torch.empty(epochs + 1)"
   ]
  },
  {
   "cell_type": "code",
   "execution_count": 136,
   "metadata": {},
   "outputs": [
    {
     "name": "stdout",
     "output_type": "stream",
     "text": [
      "Epoch № 0, step № 0 loss = 29779392.0, R2 = -0.9585733876919347\n",
      "Epoch № 0, step № 50 loss = 33302816.0, R2 = -0.7585388244658997\n",
      "Epoch № 0, step № 100 loss = 16725600.0, R2 = -0.04628186839727233\n",
      "Epoch № 0, step № 150 loss = 18599836.0, R2 = -0.023743671520028764\n",
      "Epoch № 10, step № 0 loss = 3073477.75, R2 = 0.7978591401861913\n",
      "Epoch № 10, step № 50 loss = 4013773.75, R2 = 0.7880546294305567\n",
      "Epoch № 10, step № 100 loss = 4434497.0, R2 = 0.72259684039111\n",
      "Epoch № 10, step № 150 loss = 3672005.5, R2 = 0.7978910832734017\n",
      "Epoch № 20, step № 0 loss = 2717868.75, R2 = 0.8212473497137817\n",
      "Epoch № 20, step № 50 loss = 3594673.75, R2 = 0.8101850177340841\n",
      "Epoch № 20, step № 100 loss = 4150153.0, R2 = 0.7403841937170346\n",
      "Epoch № 20, step № 150 loss = 4679929.5, R2 = 0.742414504219194\n",
      "Epoch № 30, step № 0 loss = 3079245.25, R2 = 0.7974798071002869\n",
      "Epoch № 30, step № 50 loss = 3260934.5, R2 = 0.8278079566231115\n",
      "Epoch № 30, step № 100 loss = 4253025.5, R2 = 0.7339489588513277\n",
      "Epoch № 30, step № 150 loss = 4932886.5, R2 = 0.7284915964628587\n",
      "Epoch № 40, step № 0 loss = 2853058.75, R2 = 0.8123559557114677\n",
      "Epoch № 40, step № 50 loss = 3660354.5, R2 = 0.8067167737979638\n",
      "Epoch № 40, step № 100 loss = 4160753.0, R2 = 0.7397210951872157\n",
      "Epoch № 40, step № 150 loss = 4918345.0, R2 = 0.7292919776382782\n",
      "Epoch № 50, step № 0 loss = 3097617.5, R2 = 0.7962714678614619\n",
      "Epoch № 50, step № 50 loss = 3291871.0, R2 = 0.8261743518996902\n",
      "Epoch № 50, step № 100 loss = 4329091.5, R2 = 0.7291905883495331\n",
      "Epoch № 50, step № 150 loss = 4579212.0, R2 = 0.7479580266293053\n"
     ]
    }
   ],
   "source": [
    "for epoch in range(epochs + 1):\n",
    "    total_loss = 0\n",
    "    for i, (x_, y_) in enumerate(train_loader):\n",
    "        optimize.zero_grad()\n",
    "        y_pred = n(x_)\n",
    "        loss = criterion(y_pred, y_)\n",
    "        loss.backward()\n",
    "        optimize.step()\n",
    "\n",
    "        total_loss += loss\n",
    "        if epoch % 10 == 0 and i % 50 == 0:\n",
    "            print(f\"Epoch № {epoch}, step № {i}\"\n",
    "                  f\" loss = {loss}, R2 = {metrics.r2_score(y_, y_pred.detach().numpy())}\")\n",
    "\n",
    "    losses[epoch] = total_loss / steps"
   ]
  },
  {
   "cell_type": "markdown",
   "metadata": {},
   "source": [
    "4.2.4 Выведите график функции потерь в зависимости от номера эпохи (значение потерь для эпохи рассчитывайте как среднее значение ошибок на каждом батче). Проверьте качество модели на тестовой выборке. "
   ]
  },
  {
   "cell_type": "code",
   "execution_count": 137,
   "metadata": {},
   "outputs": [
    {
     "data": {
      "image/png": "[encoded data removed]",
      "text/plain": [
       "<Figure size 432x288 with 1 Axes>"
      ]
     },
     "metadata": {
      "needs_background": "light"
     },
     "output_type": "display_data"
    }
   ],
   "source": [
    "_ = plt.plot(torch.arange(losses.size(0)), losses.detach().numpy());"
   ]
  },
  {
   "cell_type": "code",
   "execution_count": 138,
   "metadata": {},
   "outputs": [
    {
     "name": "stdout",
     "output_type": "stream",
     "text": [
      "R2 train: 0.8644149134224091\n",
      "R2 test: 0.8667677234338438\n"
     ]
    }
   ],
   "source": [
    "n.eval()\n",
    "\n",
    "(X_train, y_train), (X_test, y_test) = train_dataset[:], test_dataset[:]\n",
    "print(f\"R2 train: {metrics.r2_score(y_train, n(X_train).detach().numpy())}\")\n",
    "print(f\"R2 test: {metrics.r2_score(y_test, n(X_test).detach().numpy())}\")"
   ]
  },
  {
   "cell_type": "markdown",
   "metadata": {
    "id": "qE81cgQdGM7I"
   },
   "source": [
    "4.3 Модифицируйте метод `__init__` датасета из 4.2 таким образом, чтобы он мог принимать параметр `transform: callable`. Реализуйте класс `DropColsTransform` для удаления нечисловых данных из массива. Реализуйте класс `ToTensorTransorm` для трансформации массива в тензор."
   ]
  },
  {
   "cell_type": "code",
   "execution_count": 139,
   "metadata": {
    "id": "J02LNj_F8qxK"
   },
   "outputs": [],
   "source": [
    "class DiamondsDataset(Dataset):\n",
    "    def __init__(self, data, transform):\n",
    "        self.features = data[data.columns.drop(\"price\")]\n",
    "        self.labels = data[[\"price\"]]\n",
    "        self.transform = transform\n",
    "\n",
    "    def __len__(self):\n",
    "        return len(self.labels)\n",
    "\n",
    "    def __getitem__(self, idx):\n",
    "        sample = self.features[idx], self.labels[idx]\n",
    "        \n",
    "        if self.transform:\n",
    "            return self.transform(sample)\n",
    "        return sample"
   ]
  },
  {
   "cell_type": "code",
   "execution_count": 140,
   "metadata": {
    "id": "tJii-22pHIlU"
   },
   "outputs": [],
   "source": [
    "class DropColsTransform:\n",
    "    def __init__(self, drop):\n",
    "        self.drop = drop\n",
    "\n",
    "    def __call__(self, sample):\n",
    "        features, labels = sample\n",
    "        return features.drop(columns=features.columns[self.drop]), labels"
   ]
  },
  {
   "cell_type": "code",
   "execution_count": 141,
   "metadata": {
    "id": "dZZ-OKrVHnY5"
   },
   "outputs": [],
   "source": [
    "class ToTensorTransform:\n",
    "    def __call__(self, sample):\n",
    "        features, labels = sample\n",
    "        features = torch.from_numpy(features.to_numpy(dtype=np.float32))\n",
    "        labels = torch.from_numpy(labels.to_numpy(dtype=np.float32))\n",
    "        return features, labels"
   ]
  },
  {
   "cell_type": "code",
   "execution_count": 142,
   "metadata": {
    "id": "GssBjT9JHt5g"
   },
   "outputs": [],
   "source": [
    "from torchvision import transforms"
   ]
  },
  {
   "cell_type": "code",
   "execution_count": 143,
   "metadata": {},
   "outputs": [],
   "source": [
    "transform = transforms.Compose([\n",
    "    DropColsTransform(drop=[1, 2, 3]),\n",
    "    ToTensorTransform(),\n",
    "])\n",
    "\n",
    "dataset = DiamondsDataset(diamonds, transform)"
   ]
  },
  {
   "cell_type": "code",
   "execution_count": 144,
   "metadata": {},
   "outputs": [
    {
     "data": {
      "text/plain": [
       "(torch.Size([53940, 6]), torch.Size([53940, 1]))"
      ]
     },
     "execution_count": 144,
     "metadata": {},
     "output_type": "execute_result"
    }
   ],
   "source": [
    "X, y = dataset[:]\n",
    "X.size(), y.size()"
   ]
  }
 ],
 "metadata": {
  "colab": {
   "collapsed_sections": [],
   "name": "blank_03_autograd_optim_nn_datasets.ipynb",
   "provenance": []
  },
  "kernelspec": {
   "display_name": "Python 3 (ipykernel)",
   "language": "python",
   "name": "python3"
  },
  "language_info": {
   "codemirror_mode": {
    "name": "ipython",
    "version": 3
   },
   "file_extension": ".py",
   "mimetype": "text/x-python",
   "name": "python",
   "nbconvert_exporter": "python",
   "pygments_lexer": "ipython3",
   "version": "3.9.7"
  }
 },
 "nbformat": 4,
 "nbformat_minor": 1
}
