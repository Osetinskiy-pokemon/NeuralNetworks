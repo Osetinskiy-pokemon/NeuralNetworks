{
 "cells": [
  {
   "cell_type": "markdown",
   "metadata": {},
   "source": [
    "# 2. Создание нейронной сети без использования готовых решений\n",
    "\n",
    "__Автор__: Никита Владимирович Блохин (NVBlokhin@fa.ru)\n",
    "\n",
    "Финансовый университет, 2020 г. "
   ]
  },
  {
   "cell_type": "code",
   "execution_count": 1,
   "metadata": {
    "id": "PqC4R7SGseKa"
   },
   "outputs": [],
   "source": [
    "import torch\n",
    "import torch.nn as nn\n",
    "from sklearn.datasets import make_regression"
   ]
  },
  {
   "cell_type": "markdown",
   "metadata": {
    "id": "0J2RM8f5wP33"
   },
   "source": [
    "## 1. Создание нейронов и полносвязных слоев"
   ]
  },
  {
   "cell_type": "markdown",
   "metadata": {
    "id": "_2ArJn_nsdZC"
   },
   "source": [
    "1.1. Используя операции над матрицами и векторами из библиотеки `torch`, реализовать нейрон с заданными весами `weights` и `bias`. Прогнать вектор `inputs` через нейрон и вывести результат. "
   ]
  },
  {
   "cell_type": "code",
   "execution_count": 2,
   "metadata": {
    "id": "f4agkY9WqPwe"
   },
   "outputs": [],
   "source": [
    "class Neuron:\n",
    "    def __init__(self, weights, bias):\n",
    "        self.weights = weights\n",
    "        self.bias = bias\n",
    "  \n",
    "    def forward(self, inputs):\n",
    "        return torch.matmul(self.weights, inputs) + self.bias"
   ]
  },
  {
   "cell_type": "code",
   "execution_count": 3,
   "metadata": {
    "id": "HJRkSkHHsb7u"
   },
   "outputs": [],
   "source": [
    "inputs = torch.tensor([1.0, 2.0, 3.0, 4.0])\n",
    "weights = torch.tensor([-0.2, 0.3, -0.5, 0.7])\n",
    "bias = torch.tensor(3.14)"
   ]
  },
  {
   "cell_type": "code",
   "execution_count": 4,
   "metadata": {},
   "outputs": [
    {
     "name": "stdout",
     "output_type": "stream",
     "text": [
      "Neuron forward: 4.840000152587891\n"
     ]
    }
   ],
   "source": [
    "neuron = Neuron(weights, bias)\n",
    "print(f'Neuron forward: {neuron.forward(inputs)}')"
   ]
  },
  {
   "cell_type": "markdown",
   "metadata": {
    "id": "1qJvnwiyty37"
   },
   "source": [
    "1.2 Используя операции над матрицами и векторами из библиотеки `torch`, реализовать полносвязный слой с заданными весами `weights` и `biases`. Прогнать вектор `inputs` через слой и вывести результат. "
   ]
  },
  {
   "cell_type": "code",
   "execution_count": 5,
   "metadata": {
    "id": "fVWF3a9vtx90"
   },
   "outputs": [],
   "source": [
    "class Linear:\n",
    "\n",
    "    def __init__(self, weights, biases):\n",
    "        self.weights = weights\n",
    "        self.biases = biases\n",
    "\n",
    "    def forward(self, inputs):\n",
    "        return torch.matmul(inputs, self.weights) + self.biases"
   ]
  },
  {
   "cell_type": "code",
   "execution_count": 6,
   "metadata": {
    "id": "Fo-JFnHPuFCS"
   },
   "outputs": [],
   "source": [
    "inputs = torch.tensor([1.0, 2.0, 3.0, 4.0])\n",
    "weights = torch.tensor([[-0.2, 0.3, -0.5, 0.7],\n",
    "                        [0.5, -0.91, 0.26, -0.5],\n",
    "                        [-0.26, -0.27, 0.17, 0.87]]).T\n",
    "\n",
    "biases = torch.tensor([3.14, 2.71, 7.2])"
   ]
  },
  {
   "cell_type": "code",
   "execution_count": 7,
   "metadata": {},
   "outputs": [
    {
     "name": "stdout",
     "output_type": "stream",
     "text": [
      "Linear forward:\n",
      "tensor([ 4.8400,  0.1700, 10.3900])\n"
     ]
    }
   ],
   "source": [
    "m = Linear(weights, biases)\n",
    "print(f'Linear forward:\\n{m.forward(inputs)}')"
   ]
  },
  {
   "cell_type": "markdown",
   "metadata": {
    "id": "mQtsJzcxuyGd"
   },
   "source": [
    "1.3 Реализовать полносвязный слой из __2.1.2__ таким образом, чтобы он мог принимать на вход матрицу (батч) с данными. Продемонстрировать работу.\n",
    "Результатом прогона сквозь слой должна быть матрица размера `batch_size` x `n_neurons`.\n"
   ]
  },
  {
   "cell_type": "code",
   "execution_count": 8,
   "metadata": {
    "id": "Z8IizmtsuhO1"
   },
   "outputs": [],
   "source": [
    "inputs = torch.tensor([[1, 2, 3, 2.5],\n",
    "                       [2, 5, -1, 2],\n",
    "                       [-1.5, 2.7, 3.3, -0.8]])"
   ]
  },
  {
   "cell_type": "code",
   "execution_count": 9,
   "metadata": {},
   "outputs": [
    {
     "name": "stdout",
     "output_type": "stream",
     "text": [
      "Linear forward:\n",
      "tensor([[ 3.7900,  0.9200,  9.0850],\n",
      "        [ 6.1400, -2.1000,  6.9000],\n",
      "        [ 2.0400,  0.7610,  6.7260]])\n"
     ]
    }
   ],
   "source": [
    "m = Linear(weights, biases)\n",
    "print(f'Linear forward:\\n{m.forward(inputs)}')"
   ]
  },
  {
   "cell_type": "markdown",
   "metadata": {
    "id": "OQ2OxH4_vBLu"
   },
   "source": [
    "1.4 Используя операции над матрицами и векторами из библиотеки `torch`, реализовать полносвязный слой из `n_neurons` нейронов с `n_features` весами у каждого нейрона (инициализируются из стандартного нормального распределения). Прогнать вектор `inputs` через слой и вывести результат. Результатом прогона сквозь слой должна быть матрица размера `batch_size` x `n_neurons`."
   ]
  },
  {
   "cell_type": "code",
   "execution_count": 10,
   "metadata": {
    "id": "IOv52EdovASs"
   },
   "outputs": [],
   "source": [
    "class Linear:\n",
    "\n",
    "    def __init__(self, n_features, n_neurons):\n",
    "        self.n_features = n_features\n",
    "        self.n_neurons = n_neurons\n",
    "\n",
    "        self.weights = torch.randn(n_neurons, n_features)\n",
    "        self.biases = torch.randn(n_neurons)\n",
    "\n",
    "    def forward(self, inputs):\n",
    "        return torch.matmul(inputs, self.weights.T) + self.biases"
   ]
  },
  {
   "cell_type": "code",
   "execution_count": 11,
   "metadata": {},
   "outputs": [
    {
     "data": {
      "text/plain": [
       "tensor([[ -5.0178,   0.5240,  -3.9319],\n",
       "        [  4.0738,  -6.7887,  -3.5657],\n",
       "        [-11.6052,  -0.3882,  -3.1959]])"
      ]
     },
     "execution_count": 11,
     "metadata": {},
     "output_type": "execute_result"
    }
   ],
   "source": [
    "torch.manual_seed(0)\n",
    "\n",
    "m = Linear(4, 3)\n",
    "m.forward(inputs)"
   ]
  },
  {
   "cell_type": "markdown",
   "metadata": {
    "id": "IPG4UqL4wajI"
   },
   "source": [
    "1.5 Используя решение из __1.4__, создать 2 полносвязных слоя и пропустить матрицу `inputs` последовательно через эти два слоя. Количество нейронов в первом слое выбрать произвольно, количество нейронов во втором слое выбрать так, чтобы результатом прогона являлась матрица (3x7). "
   ]
  },
  {
   "cell_type": "code",
   "execution_count": 12,
   "metadata": {
    "id": "RjjQIQlTxJE6"
   },
   "outputs": [],
   "source": [
    "inputs = torch.tensor([[1, 2, 3, 2.5],\n",
    "                       [2, 5, -1, 2],\n",
    "                       [-1.5, 2.7, 3.3, -0.8]])"
   ]
  },
  {
   "cell_type": "code",
   "execution_count": 13,
   "metadata": {},
   "outputs": [],
   "source": [
    "class NeuralNetwork:\n",
    "\n",
    "    def __init__(self):\n",
    "        self.h1 = Linear(4, 3)\n",
    "        self.o1 = Linear(3, 7)\n",
    "\n",
    "    def forward(self, inputs):\n",
    "        return self.o1.forward(self.h1.forward(inputs))"
   ]
  },
  {
   "cell_type": "code",
   "execution_count": 14,
   "metadata": {},
   "outputs": [
    {
     "data": {
      "text/plain": [
       "tensor([[  5.1553,   1.1916,  -4.7817,   3.6611,  -9.6546,   0.1692,   5.8099],\n",
       "        [ -0.8347,   0.0913,   3.1227,   3.5542,   5.4400,   4.9157,   8.2533],\n",
       "        [  8.8057,  -1.1342,  -7.8488,   6.7415, -11.1044,   5.1500,   5.6152]])"
      ]
     },
     "execution_count": 14,
     "metadata": {},
     "output_type": "execute_result"
    }
   ],
   "source": [
    "torch.manual_seed(0)\n",
    "\n",
    "m = NeuralNetwork()\n",
    "m.forward(inputs)"
   ]
  },
  {
   "cell_type": "markdown",
   "metadata": {
    "id": "cRVH_2K7xTBC"
   },
   "source": [
    "## 2. Создание функций активации"
   ]
  },
  {
   "cell_type": "markdown",
   "metadata": {
    "id": "B9kngE6Fxs9D"
   },
   "source": [
    "2.1 Используя операции над матрицами и векторами из библиотеки `torch`, реализовать функцию активации ReLU:\n",
    "\n",
    "![](https://wikimedia.org/api/rest_v1/media/math/render/svg/f4353f4e3e484130504049599d2e7b040793e1eb)\n",
    "\n",
    "Создать матрицу размера (4,3), заполненную числами из стандартного нормального распределения, и проверить работоспособность функции активации."
   ]
  },
  {
   "cell_type": "code",
   "execution_count": 15,
   "metadata": {
    "id": "jZLvMRByxSTC"
   },
   "outputs": [],
   "source": [
    "class ReLU:\n",
    "\n",
    "    def forward(self, inputs: torch.Tensor) -> torch.Tensor:\n",
    "        return torch.maximum(inputs, torch.tensor(0))"
   ]
  },
  {
   "cell_type": "code",
   "execution_count": 16,
   "metadata": {},
   "outputs": [
    {
     "data": {
      "text/plain": [
       "tensor([[ 1.5410, -0.2934, -2.1788],\n",
       "        [ 0.5684, -1.0845, -1.3986],\n",
       "        [ 0.4033,  0.8380, -0.7193],\n",
       "        [-0.4033, -0.5966,  0.1820]])"
      ]
     },
     "execution_count": 16,
     "metadata": {},
     "output_type": "execute_result"
    }
   ],
   "source": [
    "torch.manual_seed(0)\n",
    "\n",
    "inputs = torch.randn(4, 3)\n",
    "inputs"
   ]
  },
  {
   "cell_type": "code",
   "execution_count": 17,
   "metadata": {},
   "outputs": [
    {
     "name": "stdout",
     "output_type": "stream",
     "text": [
      "ReLU:\n",
      "tensor([[1.5410, 0.0000, 0.0000],\n",
      "        [0.5684, 0.0000, 0.0000],\n",
      "        [0.4033, 0.8380, 0.0000],\n",
      "        [0.0000, 0.0000, 0.1820]])\n"
     ]
    }
   ],
   "source": [
    "r = ReLU()\n",
    "print(f'ReLU:\\n{r.forward(inputs)}')"
   ]
  },
  {
   "cell_type": "markdown",
   "metadata": {
    "id": "puExCWiKyTtb"
   },
   "source": [
    "2.2 Используя операции над матрицами и векторами из библиотеки `torch`, реализовать функцию активации softmax:\n",
    "\n",
    "![](https://wikimedia.org/api/rest_v1/media/math/render/svg/6d7500d980c313da83e4117da701bf7c8f1982f5)\n",
    "\n",
    "Создать матрицу размера (4,3), заполненную числами из стандартного нормального распределения, и проверить работоспособность функции активации. Строки матрицы трактовать как выходы линейного слоя некоторого классификатора для 4 различных примеров."
   ]
  },
  {
   "cell_type": "code",
   "execution_count": 18,
   "metadata": {
    "id": "fXNcFlqqyKHl"
   },
   "outputs": [],
   "source": [
    "class Softmax:\n",
    "\n",
    "    def __init__(self, dim: int = 0):\n",
    "        assert dim == 0 or dim == 1\n",
    "        self.dim = dim\n",
    "\n",
    "    def forward(self, inputs: torch.Tensor) -> torch.Tensor:\n",
    "        e = torch.exp(inputs)\n",
    "        return e / torch.sum(e, dim=self.dim).unsqueeze(self.dim)"
   ]
  },
  {
   "cell_type": "code",
   "execution_count": 19,
   "metadata": {},
   "outputs": [
    {
     "data": {
      "text/plain": [
       "tensor([[-0.8567,  1.1006, -1.0712],\n",
       "        [ 0.1227, -0.5663,  0.3731],\n",
       "        [-0.8920, -1.5091,  0.3704],\n",
       "        [ 1.4565,  0.9398,  0.7748]])"
      ]
     },
     "execution_count": 19,
     "metadata": {},
     "output_type": "execute_result"
    }
   ],
   "source": [
    "inputs = torch.randn(4, 3)\n",
    "inputs"
   ]
  },
  {
   "cell_type": "code",
   "execution_count": 20,
   "metadata": {},
   "outputs": [
    {
     "name": "stdout",
     "output_type": "stream",
     "text": [
      "Softmax:\n",
      "tensor([[0.1125, 0.7967, 0.0908],\n",
      "        [0.3589, 0.1802, 0.4610],\n",
      "        [0.1971, 0.1063, 0.6966],\n",
      "        [0.4757, 0.2837, 0.2406]])\n"
     ]
    }
   ],
   "source": [
    "softmax = Softmax(dim=1)\n",
    "print(f'Softmax:\\n{softmax.forward(inputs)}')"
   ]
  },
  {
   "cell_type": "markdown",
   "metadata": {
    "id": "vxVK2TYez_Ye"
   },
   "source": [
    "2.3 Используя операции над матрицами и векторами из библиотеки `torch`, реализовать функцию активации ELU:\n",
    "\n",
    "![](https://wikimedia.org/api/rest_v1/media/math/render/svg/eb23becd37c3602c4838e53f532163279192e4fd)\n",
    "\n",
    "Создать матрицу размера (4,3), заполненную числами из стандартного нормального распределения, и проверить работоспособность функции активации."
   ]
  },
  {
   "cell_type": "code",
   "execution_count": 21,
   "metadata": {
    "id": "NzMz7HDLySxK"
   },
   "outputs": [],
   "source": [
    "class ELU:\n",
    "\n",
    "    def __init__(self, alpha: float = 1):\n",
    "        self.alpha = alpha\n",
    "\n",
    "    def forward(self, inputs: torch.Tensor) -> torch.Tensor:\n",
    "        return torch.where(inputs > 0, inputs, self.alpha * (torch.exp(inputs) - 1))"
   ]
  },
  {
   "cell_type": "code",
   "execution_count": 22,
   "metadata": {},
   "outputs": [
    {
     "data": {
      "text/plain": [
       "tensor([[ 0.1919,  1.2638, -1.2904],\n",
       "        [-0.7911, -0.0209, -0.7185],\n",
       "        [ 0.5186, -1.3125,  0.1920],\n",
       "        [ 0.5428, -2.2188,  0.2590]])"
      ]
     },
     "execution_count": 22,
     "metadata": {},
     "output_type": "execute_result"
    }
   ],
   "source": [
    "inputs = torch.randn(4, 3)\n",
    "inputs"
   ]
  },
  {
   "cell_type": "code",
   "execution_count": 23,
   "metadata": {},
   "outputs": [
    {
     "name": "stdout",
     "output_type": "stream",
     "text": [
      "ELU:\n",
      "tensor([[ 0.1919,  1.2638, -1.0213],\n",
      "        [-0.7702, -0.0291, -0.7221],\n",
      "        [ 0.5186, -1.0298,  0.1920],\n",
      "        [ 0.5428, -1.2558,  0.2590]])\n"
     ]
    }
   ],
   "source": [
    "elu = ELU(alpha=1.409)\n",
    "print(f'ELU:\\n{elu.forward(inputs)}')"
   ]
  },
  {
   "cell_type": "markdown",
   "metadata": {
    "id": "0peh8r-20Pof"
   },
   "source": [
    "## 3. Создание функции потерь"
   ]
  },
  {
   "cell_type": "markdown",
   "metadata": {
    "id": "EY-k3eEs0f7f"
   },
   "source": [
    "3.1 Используя операции над матрицами и векторами из библиотеки `torch`, реализовать функцию потерь MSE:\n",
    "\n",
    "![](https://wikimedia.org/api/rest_v1/media/math/render/svg/e258221518869aa1c6561bb75b99476c4734108e)\n",
    "\n",
    "Создать полносвязный слой с 1 нейроном, прогнать через него батч `inputs` и посчитать значение MSE, трактуя вектор `y` как вектор правильных ответов."
   ]
  },
  {
   "cell_type": "code",
   "execution_count": 24,
   "metadata": {
    "id": "f9-wdj5Tz-br"
   },
   "outputs": [],
   "source": [
    "class MSELoss:\n",
    "\n",
    "    def forward(self, y_pred: torch.Tensor, y_true: torch.Tensor) -> torch.Tensor:\n",
    "        return torch.mean((y_true - y_pred) ** 2)"
   ]
  },
  {
   "cell_type": "code",
   "execution_count": 25,
   "metadata": {
    "id": "NAyuDU9F1Vuz"
   },
   "outputs": [],
   "source": [
    "inputs = torch.tensor([[1, 2, 3, 2.5], \n",
    "                       [2, 5, -1, 2], \n",
    "                       [-1.5, 2.7, 3.3, -0.8]])\n",
    "\n",
    "y = torch.tensor([2, 3, 4]).unsqueeze(1)"
   ]
  },
  {
   "cell_type": "code",
   "execution_count": 26,
   "metadata": {},
   "outputs": [],
   "source": [
    "torch.manual_seed(0)\n",
    "\n",
    "layer = Linear(4, 1)\n",
    "y_pred = layer.forward(inputs)"
   ]
  },
  {
   "cell_type": "code",
   "execution_count": 27,
   "metadata": {},
   "outputs": [
    {
     "name": "stdout",
     "output_type": "stream",
     "text": [
      "MSELoss:\n",
      "101.30004119873047\n"
     ]
    }
   ],
   "source": [
    "mse = MSELoss()\n",
    "print(f'MSELoss:\\n{mse.forward(y_pred, y)}')"
   ]
  },
  {
   "cell_type": "markdown",
   "metadata": {
    "id": "uaR7rILd1eWR"
   },
   "source": [
    "3.2 Используя операции над матрицами и векторами из библиотеки `torch`, реализовать функцию потерь Categorical Cross-Entropy:\n",
    "\n",
    "<img src=\"https://i.ibb.co/93gy1dN/Screenshot-9.png\" width=\"200\">\n",
    "\n",
    "Создать полносвязный слой с 3 нейронами и прогнать через него батч `inputs`. Полученный результат пропустить через функцию активации softmax. Посчитать значение CCE, трактуя вектор `y` как вектор правильных ответов."
   ]
  },
  {
   "cell_type": "code",
   "execution_count": 28,
   "metadata": {
    "id": "hQl8pJsT3HcF"
   },
   "outputs": [],
   "source": [
    "class CategoricalCrossentropyLoss:\n",
    "\n",
    "    def forward(self, y_pred: torch.Tensor, y_true: torch.Tensor) -> torch.Tensor:\n",
    "        return -torch.sum(y_true * torch.log(y_pred), dim=1)"
   ]
  },
  {
   "cell_type": "code",
   "execution_count": 29,
   "metadata": {
    "id": "s7Qoupfo1ZGJ"
   },
   "outputs": [],
   "source": [
    "inputs = torch.tensor([[1, 2, 3, 2.5], \n",
    "                        [2, 5, -1, 2], \n",
    "                        [-1.5, 2.7, 3.3, -0.8]])\n",
    "y = torch.tensor([1, 0, 0])"
   ]
  },
  {
   "cell_type": "code",
   "execution_count": 30,
   "metadata": {},
   "outputs": [],
   "source": [
    "torch.manual_seed(0)\n",
    "\n",
    "layer = Linear(4, 3)\n",
    "softmax = Softmax()\n",
    "y_pred = softmax.forward(layer.forward(inputs))"
   ]
  },
  {
   "cell_type": "code",
   "execution_count": 31,
   "metadata": {},
   "outputs": [
    {
     "data": {
      "text/plain": [
       "tensor([9.0918e+00, 1.1272e-04, 1.5679e+01])"
      ]
     },
     "execution_count": 31,
     "metadata": {},
     "output_type": "execute_result"
    }
   ],
   "source": [
    "cce = CategoricalCrossentropyLoss()\n",
    "cce.forward(y_pred, y)"
   ]
  },
  {
   "cell_type": "markdown",
   "metadata": {
    "id": "fA6dbanf44_4"
   },
   "source": [
    "3.3 Модифицировать 2.3.1, добавив L2-регуляризацию.\n",
    "\n",
    "![](https://wikimedia.org/api/rest_v1/media/math/render/svg/d92ca2429275bfdc0474523babbafe014ca8b580)\n"
   ]
  },
  {
   "cell_type": "code",
   "execution_count": 32,
   "metadata": {
    "id": "ADsZxD-h4_Os"
   },
   "outputs": [],
   "source": [
    "class MSELossL2:\n",
    "\n",
    "    def __init__(self, lambda_: float, weights: torch.Tensor):\n",
    "        self.lambda_ = lambda_\n",
    "        self.weights = weights\n",
    "\n",
    "    def data_loss(self, y_pred: torch.Tensor, y_true: torch.Tensor) -> torch.Tensor:\n",
    "        return torch.sum((y_true - y_pred) ** 2)\n",
    "\n",
    "    def reg_loss(self) -> torch.Tensor:\n",
    "        return self.lambda_ * torch.sum(self.weights ** 2)\n",
    "\n",
    "    def forward(self, y_pred: torch.Tensor, y_true: torch.Tensor) -> torch.Tensor:\n",
    "        return self.data_loss(y_pred, y_true) + self.reg_loss()"
   ]
  },
  {
   "cell_type": "code",
   "execution_count": 33,
   "metadata": {},
   "outputs": [],
   "source": [
    "inputs = torch.tensor([[1, 2, 3, 2.5],\n",
    "                       [2, 5, -1, 2],\n",
    "                       [-1.5, 2.7, 3.3, -0.8]])\n",
    "\n",
    "y = torch.tensor([2, 3, 4]).unsqueeze(1)"
   ]
  },
  {
   "cell_type": "code",
   "execution_count": 34,
   "metadata": {},
   "outputs": [],
   "source": [
    "torch.manual_seed(0)\n",
    "\n",
    "layer = Linear(4, 1)\n",
    "y_pred = layer.forward(inputs)"
   ]
  },
  {
   "cell_type": "code",
   "execution_count": 35,
   "metadata": {},
   "outputs": [
    {
     "data": {
      "text/plain": [
       "tensor(314.5113)"
      ]
     },
     "execution_count": 35,
     "metadata": {},
     "output_type": "execute_result"
    }
   ],
   "source": [
    "mse_l2 = MSELossL2(lambda_=1.409, weights=layer.weights)\n",
    "mse_l2.forward(y_pred, y)"
   ]
  },
  {
   "cell_type": "markdown",
   "metadata": {
    "id": "w049ZSdR6qQi"
   },
   "source": [
    "## 4. Обратное распространение ошибки"
   ]
  },
  {
   "cell_type": "markdown",
   "metadata": {
    "id": "pBtCfSME9W7Q"
   },
   "source": [
    "4.1 Используя один нейрон и SGD (1 пример за шаг), решите задачу регрессии"
   ]
  },
  {
   "cell_type": "code",
   "execution_count": 36,
   "metadata": {
    "id": "4xmI-QJ66WAF"
   },
   "outputs": [],
   "source": [
    "X, y, coef = make_regression(n_features=4, n_informative=4, coef=True, bias=0.5, random_state=0)\n",
    "X = torch.tensor(X, dtype=torch.float32)\n",
    "y = torch.tensor(y, dtype=torch.float32).view(-1, 1)"
   ]
  },
  {
   "cell_type": "markdown",
   "metadata": {
    "id": "KpPSPYSpD9Ey"
   },
   "source": [
    "[Граф вычислений для этой задачи](https://i.ibb.co/2dhDxZx/photo-2021-02-15-17-18-04.jpg)"
   ]
  },
  {
   "cell_type": "markdown",
   "metadata": {
    "id": "Fc1sXtGd_J-y"
   },
   "source": [
    "4.1.1 Модифицируйте класс `MSELoss` из __2.3.1__, реализовав расчет производной относительно предыдущего слоя\n"
   ]
  },
  {
   "cell_type": "code",
   "execution_count": 37,
   "metadata": {
    "id": "llFigkqd_JRU"
   },
   "outputs": [],
   "source": [
    "class MSELoss:\n",
    "\n",
    "    def forward(self, y_pred: torch.Tensor, y_true: torch.Tensor):\n",
    "        return (y_pred - y_true) ** 2\n",
    "\n",
    "    def backward(self, y_pred: torch.Tensor, y_true: torch.Tensor):\n",
    "        self.dinput = 2 * (y_pred - y_true)"
   ]
  },
  {
   "cell_type": "markdown",
   "metadata": {
    "id": "GY7ForfM97UQ"
   },
   "source": [
    "4.1.2. Модифицируйте класс `Neuron` из __2.1.1__:\n",
    "\n",
    "  1) Сделайте так, чтобы веса нейрона инициализировались из стандартного нормального распределения\n",
    "\n",
    "  2) Реализуйте расчет градиента относительно весов `weights` и `bias`"
   ]
  },
  {
   "cell_type": "code",
   "execution_count": 38,
   "metadata": {
    "id": "L0KqxPJU9kAN"
   },
   "outputs": [],
   "source": [
    "class Neuron:\n",
    "    def __init__(self, n_inputs: int):\n",
    "        self.n_inputs = n_inputs\n",
    "        self.weights = torch.randn(n_inputs)\n",
    "        self.bias = torch.randn(1)\n",
    "  \n",
    "    def forward(self, inputs: torch.Tensor) -> torch.Tensor:\n",
    "        self.inputs = inputs\n",
    "        return (self.inputs * self.weights).sum() + self.bias\n",
    "  \n",
    "    def backward(self, dvalue):\n",
    "        # dvalue - значение производной, которое приходит нейрону от следующего слоя сети\n",
    "        # в данном случае это будет значение df/dc (созданное методом backwards у объекта MSELoss)\n",
    "        self.dweights = dvalue * self.inputs # df/dW\n",
    "        self.dinput =  dvalue * self.weights # df/wX\n",
    "        self.dbias = dvalue # df/db"
   ]
  },
  {
   "cell_type": "markdown",
   "metadata": {
    "id": "rKcO4zOLACxM"
   },
   "source": [
    "4.1.3 Допишите цикл для настройки весов нейрона\n",
    "\n",
    "[SGD](https://ru.wikipedia.org/wiki/%D0%A1%D1%82%D0%BE%D1%85%D0%B0%D1%81%D1%82%D0%B8%D1%87%D0%B5%D1%81%D0%BA%D0%B8%D0%B9_%D0%B3%D1%80%D0%B0%D0%B4%D0%B8%D0%B5%D0%BD%D1%82%D0%BD%D1%8B%D0%B9_%D1%81%D0%BF%D1%83%D1%81%D0%BA)\n",
    "\n",
    "![](https://wikimedia.org/api/rest_v1/media/math/render/svg/dda3670f8a8996a0d3bf80856bb4a166cc8db6d4)"
   ]
  },
  {
   "cell_type": "code",
   "execution_count": 39,
   "metadata": {},
   "outputs": [
    {
     "data": {
      "text/plain": [
       "<torch._C.Generator at 0x2e10a9b21f0>"
      ]
     },
     "execution_count": 39,
     "metadata": {},
     "output_type": "execute_result"
    }
   ],
   "source": [
    "torch.manual_seed(0)"
   ]
  },
  {
   "cell_type": "code",
   "execution_count": 40,
   "metadata": {
    "id": "_g_FvwvmALJd"
   },
   "outputs": [],
   "source": [
    "n_inputs = X.shape[1] # <размерность элемента выборки >\n",
    "learning_rate = 0.1 #  скорость обучения\n",
    "n_epoch = 100 #  количество эпох\n",
    "\n",
    "neuron = Neuron(n_inputs)\n",
    "loss = MSELoss()\n",
    "\n",
    "losses = []\n",
    "for epoch in range(100):\n",
    "    for x_example, y_example in zip(X, y):\n",
    "        # forward pass\n",
    "        y_pred =  neuron.forward(x_example) # <прогон через нейрон>\n",
    "        curr_loss = loss.forward(y_pred, y_example) # <прогон через функцию потерь>\n",
    "        losses.append(curr_loss)\n",
    "\n",
    "        # backprop\n",
    "        # <вызов методов backward>\n",
    "        # обратите внимание на последовательность вызовов: от конца к началу\n",
    "        loss.backward(y_pred, y_example)\n",
    "        neuron.backward(loss.dinput)\n",
    "\n",
    "        # <шаг оптимизации для весов (weights и bias) нейрона>\n",
    "        neuron.weights -= learning_rate * neuron.dweights\n",
    "        neuron.bias -= learning_rate * neuron.dbias"
   ]
  },
  {
   "cell_type": "code",
   "execution_count": 41,
   "metadata": {},
   "outputs": [
    {
     "data": {
      "text/plain": [
       "[tensor([1823.5259]),\n",
       " tensor([5.2387e-10]),\n",
       " tensor([5.2387e-10]),\n",
       " tensor([5.2387e-10]),\n",
       " tensor([5.2387e-10]),\n",
       " tensor([5.2387e-10]),\n",
       " tensor([5.2387e-10]),\n",
       " tensor([5.2387e-10]),\n",
       " tensor([5.2387e-10]),\n",
       " tensor([5.2387e-10])]"
      ]
     },
     "execution_count": 41,
     "metadata": {},
     "output_type": "execute_result"
    }
   ],
   "source": [
    "losses[::1000]"
   ]
  },
  {
   "cell_type": "code",
   "execution_count": 42,
   "metadata": {},
   "outputs": [
    {
     "data": {
      "text/plain": [
       "[tensor([1823.5259]),\n",
       " tensor([395.9471]),\n",
       " tensor([1.8823]),\n",
       " tensor([1.0514e-07]),\n",
       " tensor([3.2833e-06]),\n",
       " tensor([3.7814e-05]),\n",
       " tensor([1.7724e-06]),\n",
       " tensor([8.4052e-08]),\n",
       " tensor([1.3097e-10]),\n",
       " tensor([0.]),\n",
       " tensor([5.2387e-10]),\n",
       " tensor([0.]),\n",
       " tensor([5.8208e-11]),\n",
       " tensor([3.6380e-12]),\n",
       " tensor([3.6380e-12]),\n",
       " tensor([5.2387e-10]),\n",
       " tensor([0.]),\n",
       " tensor([5.8208e-11]),\n",
       " tensor([3.6380e-12]),\n",
       " tensor([3.6380e-12]),\n",
       " tensor([5.2387e-10]),\n",
       " tensor([0.]),\n",
       " tensor([5.8208e-11]),\n",
       " tensor([3.6380e-12]),\n",
       " tensor([3.6380e-12]),\n",
       " tensor([5.2387e-10]),\n",
       " tensor([0.]),\n",
       " tensor([5.8208e-11]),\n",
       " tensor([3.6380e-12]),\n",
       " tensor([3.6380e-12]),\n",
       " tensor([5.2387e-10]),\n",
       " tensor([0.]),\n",
       " tensor([5.8208e-11]),\n",
       " tensor([3.6380e-12]),\n",
       " tensor([3.6380e-12]),\n",
       " tensor([5.2387e-10]),\n",
       " tensor([0.]),\n",
       " tensor([5.8208e-11]),\n",
       " tensor([3.6380e-12]),\n",
       " tensor([3.6380e-12]),\n",
       " tensor([5.2387e-10]),\n",
       " tensor([0.]),\n",
       " tensor([5.8208e-11]),\n",
       " tensor([3.6380e-12]),\n",
       " tensor([3.6380e-12]),\n",
       " tensor([5.2387e-10]),\n",
       " tensor([0.]),\n",
       " tensor([5.8208e-11]),\n",
       " tensor([3.6380e-12]),\n",
       " tensor([3.6380e-12])]"
      ]
     },
     "execution_count": 42,
     "metadata": {},
     "output_type": "execute_result"
    }
   ],
   "source": [
    "losses[:1000:20]"
   ]
  },
  {
   "cell_type": "markdown",
   "metadata": {
    "id": "ebibge9VEgF7"
   },
   "source": [
    "4.2 Решите задачу 2.4.1, используя пакетный градиентный спуск"
   ]
  },
  {
   "cell_type": "markdown",
   "metadata": {
    "id": "as-QeWSdOELd"
   },
   "source": [
    "Вычисления для этой задачи: \n",
    "[1](https://i.ibb.co/rmtQT6P/photo-2021-02-15-18-00-43.jpg)\n",
    "[2](https://i.ibb.co/NmCFVnQ/photo-2021-02-15-18-01-17.jpg)"
   ]
  },
  {
   "cell_type": "markdown",
   "metadata": {
    "id": "dr9qq4H_J3zt"
   },
   "source": [
    "4.2.1 Модифицируйте класс `MSELoss` из __3.1__, реализовав расчет производной относительно предыдущего слоя с учетом того, что теперь работа ведется с батчами, а не с индивидуальными примерами\n",
    " "
   ]
  },
  {
   "cell_type": "code",
   "execution_count": 43,
   "metadata": {
    "id": "L8wjk9iPMQ4x"
   },
   "outputs": [],
   "source": [
    "class MSELoss:\n",
    "    def forward(self, y_pred, y_true):\n",
    "        return torch.mean((y_pred - y_true) ** 2)\n",
    "\n",
    "    def backward(self, y_pred, y_true):\n",
    "        self.dinput = 2 * (y_pred - y_true) / y_pred.shape[0] # df/dy^"
   ]
  },
  {
   "cell_type": "markdown",
   "metadata": {
    "id": "E3fSHCEtJjX8"
   },
   "source": [
    "4.2.2. Модифицируйте класс `Neuron` из __4.1.2__:\n",
    "\n",
    "  1) Реализуйте метод `forward` таким образом, чтобы он мог принимать на вход матрицу (батч) с данными. \n",
    "\n",
    "  2) Реализуйте расчет градиента относительно весов `weights` и `bias` с учетом того, что теперь работа ведется с батчами, а не с индивидуальными примерами"
   ]
  },
  {
   "cell_type": "code",
   "execution_count": 44,
   "metadata": {
    "id": "o_OpuAP0Jpz1"
   },
   "outputs": [],
   "source": [
    "class Neuron:\n",
    "    def __init__(self, n_inputs):\n",
    "        self.n_inputs = n_inputs\n",
    "        self.weights = torch.randn(1, n_inputs).T\n",
    "        self.bias = torch.randn(1)\n",
    "  \n",
    "    def forward(self, inputs):\n",
    "        self.inputs = inputs\n",
    "        return torch.matmul(inputs, self.weights) + self.bias\n",
    "  \n",
    "    def backward(self, dvalue):\n",
    "        # dvalue - значение градиента, которое приходит нейрону от следующего слоя сети\n",
    "        # в данном случае это будет градиент L по y^ (созданный методом backwards у объекта MSELoss)\n",
    "        self.dinputs = torch.matmul(dvalue, self.weights.T)\n",
    "        self.dweights = torch.matmul(self.inputs.T, dvalue) # df/dW\n",
    "        self.dbias = torch.sum(dvalue) # df/db"
   ]
  },
  {
   "cell_type": "markdown",
   "metadata": {
    "id": "zO-NZrgKMBFx"
   },
   "source": [
    "4.2.3 Допишите цикл для настройки весов нейрона"
   ]
  },
  {
   "cell_type": "code",
   "execution_count": 45,
   "metadata": {
    "id": "Zqwm_7eqJim1"
   },
   "outputs": [
    {
     "data": {
      "text/plain": [
       "[tensor(14431.3076),\n",
       " tensor(5.6856),\n",
       " tensor(0.0214),\n",
       " tensor(0.0001),\n",
       " tensor(5.2640e-07)]"
      ]
     },
     "execution_count": 45,
     "metadata": {},
     "output_type": "execute_result"
    }
   ],
   "source": [
    "n_inputs = X.shape[1] # <размерность элемента выборки >\n",
    "learning_rate = 0.1 #  скорость обучения\n",
    "n_epoch = 100 #  количество эпох\n",
    "\n",
    "neuron = Neuron(n_inputs)\n",
    "loss = MSELoss()\n",
    "\n",
    "losses = []\n",
    "\n",
    "for epoch in range(100):\n",
    "    # forward pass\n",
    "    y_pred = neuron.forward(X) # <прогон через нейрон>\n",
    "    curr_loss = loss.forward(y_pred, y) # <прогон через функцию потерь>\n",
    "    losses.append(curr_loss)\n",
    "\n",
    "    # backprop\n",
    "    # <вызов методов backward>\n",
    "    # обратите внимание на последовательность вызовов: от конца к началу\n",
    "    loss.backward(y_pred, y)\n",
    "    neuron.backward(loss.dinput)\n",
    "\n",
    "    # <шаг оптимизации для весов (weights и bias) нейрона>\n",
    "    neuron.weights -= learning_rate * neuron.dweights\n",
    "    neuron.bias -= learning_rate * neuron.dbias\n",
    "    \n",
    "losses[::20]"
   ]
  },
  {
   "cell_type": "markdown",
   "metadata": {
    "id": "16VtP159OdMk"
   },
   "source": [
    "4.3  Используя один полносвязный слой и  пакетный градиетный спуск, решите задачу регрессии из __2.4.1__"
   ]
  },
  {
   "cell_type": "markdown",
   "metadata": {
    "id": "uj5febreSSZ7"
   },
   "source": [
    "4.3.1 Модифицируйте класс `Linear` из __1.4__. ([вычисление градиентов](https://i.ibb.co/kgVR6m6/photo-2021-02-15-21-30-28.jpg))"
   ]
  },
  {
   "cell_type": "code",
   "execution_count": 46,
   "metadata": {
    "id": "9zWuhaLdSB2_"
   },
   "outputs": [],
   "source": [
    "class Linear:\n",
    "    def __init__(self, n_features: int, n_neurons: int):\n",
    "        # <создать атрибуты объекта weights и biases>\n",
    "        self.n_features = n_features\n",
    "        self.n_neurons = n_neurons\n",
    "        self.weights = torch.randn(n_neurons, n_features).T\n",
    "        self.biases = torch.randn(n_neurons)\n",
    "  \n",
    "    def forward(self, inputs: torch.Tensor):\n",
    "        self.inputs = inputs\n",
    "        return torch.matmul(inputs, self.weights) + self.biases # <реализовать логику слоя>\n",
    "\n",
    "    def backward(self, dvalues):\n",
    "        self.dweights = torch.matmul(self.inputs.T, dvalues) # df/dW\n",
    "        self.dbiases = torch.matmul(torch.ones(dvalues.shape[0]), dvalues) # df/db\n",
    "        self.dinputs = torch.matmul(dvalues, self.weights.T) # df/dX"
   ]
  },
  {
   "cell_type": "markdown",
   "metadata": {
    "id": "j3w1hT9MS_Lt"
   },
   "source": [
    "4.3.2 Создайте слой с одним нейроном. Используя класс MSELoss из 2.4.2, убедитесь, что модель обучается"
   ]
  },
  {
   "cell_type": "code",
   "execution_count": 47,
   "metadata": {},
   "outputs": [
    {
     "data": {
      "text/plain": [
       "[tensor(14291.7227),\n",
       " tensor(5.9440),\n",
       " tensor(0.0232),\n",
       " tensor(0.0001),\n",
       " tensor(5.7311e-07)]"
      ]
     },
     "execution_count": 47,
     "metadata": {},
     "output_type": "execute_result"
    }
   ],
   "source": [
    "n_inputs = X.shape[1]  # <размерность элемента выборки >\n",
    "learning_rate = 0.1  #  скорость обучения\n",
    "n_epoch = 100  #  количество эпох\n",
    "\n",
    "layer = Linear(n_inputs, 1)\n",
    "loss = MSELoss()\n",
    "\n",
    "losses = []\n",
    "\n",
    "for epoch in range(100):\n",
    "    # forward pass\n",
    "    y_pred = layer.forward(X)  # <прогон через нейрон>\n",
    "    curr_loss = loss.forward(y_pred, y)  # <прогон через функцию потерь>\n",
    "    losses.append(curr_loss)\n",
    "\n",
    "    # backprop\n",
    "    # <вызов методов backward>\n",
    "    # обратите внимание на последовательность вызовов: от конца к началу\n",
    "    loss.backward(y_pred, y)\n",
    "    layer.backward(loss.dinput)\n",
    "\n",
    "    # <шаг оптимизации для весов (weights и bias) нейрона>\n",
    "    layer.weights -= learning_rate * layer.dweights\n",
    "    layer.biases -= learning_rate * layer.dbiases\n",
    "\n",
    "losses[::20]"
   ]
  },
  {
   "cell_type": "markdown",
   "metadata": {
    "id": "RTkJV-F8TVuN"
   },
   "source": [
    "4.4 Используя наработки из 2.4, создайте нейросеть и решите задачу регрессии.\n",
    "\n",
    "Предлагаемая архитектура: \n",
    "1. Полносвязный слой с 10 нейронами\n",
    "2. Активация ReLU\n",
    "3. Полносвязный слой с 1 нейроном"
   ]
  },
  {
   "cell_type": "code",
   "execution_count": 48,
   "metadata": {
    "id": "axUjpPz-SvS1"
   },
   "outputs": [],
   "source": [
    "X = torch.linspace(-1, 1, 100).view(-1, 1)\n",
    "y = X.pow(2) + 0.2 * torch.rand(X.size())"
   ]
  },
  {
   "cell_type": "code",
   "execution_count": 49,
   "metadata": {
    "id": "LXoiNxkpTziV"
   },
   "outputs": [],
   "source": [
    "class Activation_ReLU:\n",
    "    def forward(self, inputs):\n",
    "        self.inputs = inputs\n",
    "        self.output = inputs.clip(min=0)\n",
    "        return self.output\n",
    "  \n",
    "    def backward(self, dvalues):\n",
    "        self.dinputs = dvalues.clone()\n",
    "        self.dinputs[self.inputs <= 0] = 0"
   ]
  },
  {
   "cell_type": "code",
   "execution_count": 50,
   "metadata": {
    "id": "tXhspwW6T44T"
   },
   "outputs": [
    {
     "name": "stdout",
     "output_type": "stream",
     "text": [
      "epoch 0 mean loss 3.801711320877075\n",
      "epoch 200 mean loss 0.008622542954981327\n",
      "epoch 400 mean loss 0.004638954997062683\n",
      "epoch 600 mean loss 0.004257592372596264\n",
      "epoch 800 mean loss 0.004040230065584183\n",
      "epoch 1000 mean loss 0.0038580906111747026\n",
      "epoch 1200 mean loss 0.0037435388658195734\n",
      "epoch 1400 mean loss 0.0036629228852689266\n",
      "epoch 1600 mean loss 0.0035958541557192802\n",
      "epoch 1800 mean loss 0.0035432714503258467\n",
      "epoch 2000 mean loss 0.003501574508845806\n"
     ]
    }
   ],
   "source": [
    "# создание компонентов сети\n",
    "fc1 = Linear(X.shape[1], 10)\n",
    "relu1 = Activation_ReLU()\n",
    "fc2 = Linear(10, 1)\n",
    "\n",
    "loss = MSELoss()\n",
    "lr = 0.02\n",
    "\n",
    "ys = []\n",
    "for epoch in range(2001):\n",
    "    # <forward pass>\n",
    "    # fc1 > relu1 > fc2 > loss\n",
    "    y_pred = fc2.forward(relu1.forward(fc1.forward(X)))\n",
    "\n",
    "    data_loss = loss.forward(y_pred, y) # <прогон через функцию потерь>\n",
    "\n",
    "    if epoch % 200 == 0:\n",
    "        print(f'epoch {epoch} mean loss {data_loss}')\n",
    "        ys.append(y_pred)\n",
    "  \n",
    "    # <backprop> \n",
    "    # loss > fc2 > relu1 > fc1\n",
    "    loss.backward(y_pred, y)\n",
    "    fc2.backward(loss.dinput)\n",
    "    relu1.backward(fc2.dinputs)\n",
    "    fc1.backward(relu1.dinputs)  \n",
    "\n",
    "    # <шаг оптимизации для fc1>\n",
    "    fc1.weights -= lr * fc1.dweights\n",
    "    fc1.biases -= lr * fc1.dbiases\n",
    "    \n",
    "    # <шаг оптимизации для fc2>\n",
    "    fc2.weights -= lr * fc2.dweights\n",
    "    fc2.biases -= lr * fc2.dbiases"
   ]
  },
  {
   "cell_type": "code",
   "execution_count": 51,
   "metadata": {
    "id": "kpKi0OfoUkwk"
   },
   "outputs": [
    {
     "data": {
      "image/png": "[encoded data removed]",
      "text/plain": [
       "<Figure size 720x2880 with 11 Axes>"
      ]
     },
     "metadata": {
      "needs_background": "light"
     },
     "output_type": "display_data"
    }
   ],
   "source": [
    "import matplotlib.pyplot as plt\n",
    "\n",
    "fig, axs = plt.subplots(len(ys), 1, figsize=(10, 40))\n",
    "for ax, y_ in zip(axs, ys):\n",
    "    ax.scatter(X.numpy(), y.numpy(), color=\"orange\")\n",
    "    ax.plot(X.numpy(), y_.numpy(), 'g-', lw=3)\n",
    "    ax.set_xlim(-1.05, 1.5)\n",
    "    ax.set_ylim(-0.25, 1.25)"
   ]
  }
 ],
 "metadata": {
  "colab": {
   "authorship_tag": "ABX9TyPDgJRHjuyArfKO8ZT68MsS",
   "name": "02_NN_blocks_backprop_v1.ipynb",
   "provenance": []
  },
  "kernelspec": {
   "display_name": "Python 3 (ipykernel)",
   "language": "python",
   "name": "python3"
  },
  "language_info": {
   "codemirror_mode": {
    "name": "ipython",
    "version": 3
   },
   "file_extension": ".py",
   "mimetype": "text/x-python",
   "name": "python",
   "nbconvert_exporter": "python",
   "pygments_lexer": "ipython3",
   "version": "3.9.7"
  }
 },
 "nbformat": 4,
 "nbformat_minor": 1
}
