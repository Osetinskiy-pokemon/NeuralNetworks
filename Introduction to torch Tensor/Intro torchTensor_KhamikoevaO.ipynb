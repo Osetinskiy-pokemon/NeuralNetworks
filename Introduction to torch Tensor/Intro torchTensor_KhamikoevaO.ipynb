{
 "cells": [
  {
   "cell_type": "markdown",
   "metadata": {
    "id": "_gE94V3G1RCx"
   },
   "source": [
    "# 01. Знакомство с `torch.Tensor`"
   ]
  },
  {
   "cell_type": "markdown",
   "metadata": {
    "id": "TlWOXn0f1RC7"
   },
   "source": [
    "---"
   ]
  },
  {
   "cell_type": "markdown",
   "metadata": {
    "id": "lZfJ1FRM1RC8"
   },
   "source": [
    "При решении данных задач не подразумевается использования циклов или генераторов Python, если в задании не сказано обратного. Решение должно опираться на использование функционала библиотеки `torch`.\n",
    "\n",
    "[PyTorch documentation](https://pytorch.org/docs/stable/#pytorch-documentation)"
   ]
  },
  {
   "cell_type": "code",
   "execution_count": 101,
   "metadata": {
    "id": "b3AW8rF-1RC9"
   },
   "outputs": [],
   "source": [
    "#Используемые библиотеки\n",
    "import torch\n",
    "from torch.nn import functional\n",
    "from scipy.spatial import distance\n",
    "from matplotlib import pyplot as plt\n",
    "\n",
    "import warnings\n",
    "warnings.filterwarnings('ignore')"
   ]
  },
  {
   "cell_type": "markdown",
   "metadata": {
    "id": "vow49PuE1RC9"
   },
   "source": [
    "## 1.1 Создание тензоров и выполнение базовых операций над ними\n",
    "\n",
    "[Документация по функциям для создания тензоров](https://pytorch.org/docs/stable/torch.html#creation-ops)\n",
    "\n",
    "[Документация по функциям для работы с индексами](https://pytorch.org/docs/stable/torch.html#indexing-slicing-joining-mutating-ops)"
   ]
  },
  {
   "cell_type": "markdown",
   "metadata": {
    "id": "wBIwO1SB1RC-"
   },
   "source": [
    "1.1.1 Создайте двумерный тензор размера (8, 8). Используя как можно меньше операций, добейтесь расстановки кодов \"шахматных фигур\".\n",
    "\n",
    "Ожидаемый результат:\n",
    "\n",
    "```\n",
    "[[-4., -3., -2., -6., -5., -2., -3., -4.],\n",
    " [-1., -1., -1., -1., -1., -1., -1., -1.],\n",
    " [0., 0., 0., 0., 0., 0., 0., 0.],\n",
    " [0., 0., 0., 0., 0., 0., 0., 0.],\n",
    " [0., 0., 0., 0., 0., 0., 0., 0.],\n",
    " [0., 0., 0., 0., 0., 0., 0., 0.],\n",
    " [1., 1., 1., 1., 1., 1., 1., 1.],\n",
    " [4., 3., 2., 6., 5., 2., 3., 4.]]\n",
    "\n",
    "```"
   ]
  },
  {
   "cell_type": "code",
   "execution_count": 4,
   "metadata": {},
   "outputs": [
    {
     "data": {
      "text/plain": [
       "tensor([[-4., -3., -2., -6., -5., -2., -3., -4.],\n",
       "        [-1., -1., -1., -1., -1., -1., -1., -1.],\n",
       "        [ 0.,  0.,  0.,  0.,  0.,  0.,  0.,  0.],\n",
       "        [ 0.,  0.,  0.,  0.,  0.,  0.,  0.,  0.],\n",
       "        [ 0.,  0.,  0.,  0.,  0.,  0.,  0.,  0.],\n",
       "        [ 0.,  0.,  0.,  0.,  0.,  0.,  0.,  0.],\n",
       "        [ 1.,  1.,  1.,  1.,  1.,  1.,  1.,  1.],\n",
       "        [ 4.,  3.,  2.,  6.,  5.,  2.,  3.,  4.]])"
      ]
     },
     "execution_count": 4,
     "metadata": {},
     "output_type": "execute_result"
    }
   ],
   "source": [
    "t = torch.zeros((8, 8)) #задаем тензор размерности 8 на 8 с нулями\n",
    "pawn = torch.ones((1, 8)) #пешки - единички\n",
    "not_pawn = torch.arange(2, 7, 1) #не пешки - различные фигуры от 2 до 6\n",
    "t[-2] = pawn #заполняем предпоследнюю строку пешками\n",
    "t[-1, :3] = not_pawn[:3].sort(descending=True)[0] #заполняем первые три эл-та в последней строке отсортированными 2, 3, 4\n",
    "t[-1, 5:] = not_pawn[:3].sort()[0] #заполняем последние три эл-та в последней строке отсортированными 2, 3, 4\n",
    "t[-1, 3:5] = not_pawn[3:].sort(descending=True)[0] #заполняем средние элементы 6 и 5\n",
    "t[:2] -= t[-2:].flip(0) #зеркалим это на верзнюю часть тензора\n",
    "t #итого"
   ]
  },
  {
   "cell_type": "markdown",
   "metadata": {
    "id": "20x5RE1V1RC_"
   },
   "source": [
    "1.1.2 Средствами `torch` рассчитать произведения четных чисел от 2 до 20 на ближайшие к ним бОльшие нечетные числа."
   ]
  },
  {
   "cell_type": "code",
   "execution_count": 5,
   "metadata": {},
   "outputs": [
    {
     "data": {
      "text/plain": [
       "tensor([  6,  20,  42,  72, 110, 156, 210, 272, 342, 420])"
      ]
     },
     "execution_count": 5,
     "metadata": {},
     "output_type": "execute_result"
    }
   ],
   "source": [
    "even_numb = torch.arange(2, 21, step=2) #берем тензор от 2 до 20\n",
    "result = even_numb * (even_numb + 1) #умножаем каждое четное на рядом стоящее справа нечетное\n",
    "result"
   ]
  },
  {
   "cell_type": "markdown",
   "metadata": {
    "id": "N_-t5GRM1RC_"
   },
   "source": [
    "1.1.3 Создать тензор размера 11x7 вида: [[1, 2, 3, ..., 7], [11, 12, 13, ..., 17], [21, 22, 23, ..., 27], ..., [101, 102, 103, ..., 107]]"
   ]
  },
  {
   "cell_type": "code",
   "execution_count": 6,
   "metadata": {},
   "outputs": [
    {
     "data": {
      "text/plain": [
       "tensor([[  1,   2,   3,   4,   5,   6,   7],\n",
       "        [ 11,  12,  13,  14,  15,  16,  17],\n",
       "        [ 21,  22,  23,  24,  25,  26,  27],\n",
       "        [ 31,  32,  33,  34,  35,  36,  37],\n",
       "        [ 41,  42,  43,  44,  45,  46,  47],\n",
       "        [ 51,  52,  53,  54,  55,  56,  57],\n",
       "        [ 61,  62,  63,  64,  65,  66,  67],\n",
       "        [ 71,  72,  73,  74,  75,  76,  77],\n",
       "        [ 81,  82,  83,  84,  85,  86,  87],\n",
       "        [ 91,  92,  93,  94,  95,  96,  97],\n",
       "        [101, 102, 103, 104, 105, 106, 107]])"
      ]
     },
     "execution_count": 6,
     "metadata": {},
     "output_type": "execute_result"
    }
   ],
   "source": [
    "tens = torch.arange(0, 101, step=10).reshape(-1, 1) #задаем десятки от 0 до 100\n",
    "units = torch.arange(1, 8) #задаем единицы от 1 до 7\n",
    "result = tens + units #складываем единицы и десятки\n",
    "result"
   ]
  },
  {
   "cell_type": "markdown",
   "metadata": {
    "id": "oxVeUiHR1RC_"
   },
   "source": [
    "1.1.4 Написать функцию, которая для целых значений `n` и `m` будет возвращать тензор размера `n`x`m`, заполненный текстурой размера 2x2, состоящей из следующих значений:\n",
    "\n",
    "```\n",
    "0 1\n",
    "\n",
    "2 3\n",
    "\n",
    "```\n",
    "\n",
    "Пример для n = 4 и m = 5:\n",
    "\n",
    "```\n",
    "0 1 0 1 0\n",
    "\n",
    "2 3 2 3 2\n",
    "\n",
    "0 1 0 1 0\n",
    "\n",
    "2 3 2 3 2\n",
    "```"
   ]
  },
  {
   "cell_type": "code",
   "execution_count": 7,
   "metadata": {
    "code_folding": []
   },
   "outputs": [],
   "source": [
    "def filling_texture(n: int, m: int) -> torch.Tensor:\n",
    "    rep = torch.tensor([[0, 1], [2, 3]]) #конструкция, которая будет повторться\n",
    "    return rep.repeat(n, m)[:n, :m] #повторяет конструкцию вдоль заданных размерностей, обрезаем по необходимое нам количество"
   ]
  },
  {
   "cell_type": "code",
   "execution_count": 8,
   "metadata": {},
   "outputs": [
    {
     "data": {
      "text/plain": [
       "tensor([[0, 1, 0, 1, 0],\n",
       "        [2, 3, 2, 3, 2],\n",
       "        [0, 1, 0, 1, 0],\n",
       "        [2, 3, 2, 3, 2]])"
      ]
     },
     "execution_count": 8,
     "metadata": {},
     "output_type": "execute_result"
    }
   ],
   "source": [
    "filling_texture(4, 5)"
   ]
  },
  {
   "cell_type": "markdown",
   "metadata": {
    "id": "WH9hxJse1RDA"
   },
   "source": [
    "1.1.5 Сгенерировать двумерный тензор `t` размерности (4, 7), состоящий из случайных действительных чисел, равномерно распределенных в дипазоне от 0 до 20. Нормализовать значения массива с помощью преобразования вида $ax+b$ так, что после нормализации максимальный элемент масива будет равен 1.0, минимальный 0.0"
   ]
  },
  {
   "cell_type": "code",
   "execution_count": 9,
   "metadata": {},
   "outputs": [
    {
     "data": {
      "text/plain": [
       "tensor([[ 9.9629,  9.9688, 17.0343,  8.0765,  3.4820,  4.3170,  1.3933],\n",
       "        [ 6.9464, 19.3550,  6.6567,  3.2923,  0.7401,  0.5051, 16.6031],\n",
       "        [11.6096,  1.5761,  7.9130, 19.7442,  5.2277, 14.7087, 11.0919],\n",
       "        [18.1492,  2.0974,  4.5691,  9.3791,  3.1859, 12.0660, 19.0707]])"
      ]
     },
     "execution_count": 9,
     "metadata": {},
     "output_type": "execute_result"
    }
   ],
   "source": [
    "t = torch.Tensor\n",
    "t = torch.empty(4, 7).uniform_(0, 20) #генерируем тензор из случайных действительных равн.распр. чисел\n",
    "t"
   ]
  },
  {
   "cell_type": "code",
   "execution_count": 10,
   "metadata": {},
   "outputs": [
    {
     "data": {
      "text/plain": [
       "tensor([[0.4916, 0.4919, 0.8591, 0.3935, 0.1547, 0.1981, 0.0462],\n",
       "        [0.3348, 0.9798, 0.3197, 0.1449, 0.0122, 0.0000, 0.8367],\n",
       "        [0.5772, 0.0557, 0.3850, 1.0000, 0.2455, 0.7383, 0.5503],\n",
       "        [0.9171, 0.0828, 0.2112, 0.4612, 0.1393, 0.6009, 0.9650]])"
      ]
     },
     "execution_count": 10,
     "metadata": {},
     "output_type": "execute_result"
    }
   ],
   "source": [
    "# это наше максмин преобразование\n",
    "(t - t.min()) / (t.max() - t.min())"
   ]
  },
  {
   "cell_type": "markdown",
   "metadata": {
    "id": "vPqIeewXB-mM"
   },
   "source": [
    "[Random Sampling](https://pytorch.org/docs/stable/torch.html#random-sampling)\n",
    "\n",
    "[Distributions](https://pytorch.org/docs/stable/distributions.html)"
   ]
  },
  {
   "cell_type": "markdown",
   "metadata": {
    "id": "K_R6cwq11RDE"
   },
   "source": [
    "1.1.6 Задать два двумерных тензора `ar1` и `ar2` размерности (4, 7), состоящих из случайных целых чисел в пределах от 0 до 10. Построить двумерный тензор размерности (4, 7), каждый элемент которого представляет собой максимум из двух значений, находящихся на аналогичной позиции в массивах `ar1`, `ar2`.\n",
    "\n",
    "[Reductions ops](https://pytorch.org/docs/stable/torch.html#reduction-ops)"
   ]
  },
  {
   "cell_type": "code",
   "execution_count": 11,
   "metadata": {},
   "outputs": [],
   "source": [
    "ar1 = torch.randint(0, 10, (4, 7)) #задаем 2 двумерных тензора с цел.числами от 0 до 10\n",
    "ar2 = torch.randint(0, 10, (4, 7))"
   ]
  },
  {
   "cell_type": "code",
   "execution_count": 12,
   "metadata": {},
   "outputs": [
    {
     "data": {
      "text/plain": [
       "tensor([[5, 6, 4, 6, 9, 6, 2],\n",
       "        [5, 3, 2, 9, 2, 9, 9],\n",
       "        [7, 8, 3, 3, 0, 9, 7],\n",
       "        [5, 9, 6, 6, 7, 5, 0]])"
      ]
     },
     "execution_count": 12,
     "metadata": {},
     "output_type": "execute_result"
    }
   ],
   "source": [
    "ar1"
   ]
  },
  {
   "cell_type": "code",
   "execution_count": 13,
   "metadata": {},
   "outputs": [
    {
     "data": {
      "text/plain": [
       "tensor([[0, 4, 4, 2, 6, 1, 7],\n",
       "        [3, 3, 2, 0, 4, 2, 9],\n",
       "        [3, 8, 5, 2, 4, 0, 4],\n",
       "        [2, 5, 6, 8, 1, 0, 0]])"
      ]
     },
     "execution_count": 13,
     "metadata": {},
     "output_type": "execute_result"
    }
   ],
   "source": [
    "ar2"
   ]
  },
  {
   "cell_type": "code",
   "execution_count": 14,
   "metadata": {},
   "outputs": [
    {
     "data": {
      "text/plain": [
       "tensor([[5, 6, 4, 6, 9, 6, 7],\n",
       "        [5, 3, 2, 9, 4, 9, 9],\n",
       "        [7, 8, 5, 3, 4, 9, 7],\n",
       "        [5, 9, 6, 8, 7, 5, 0]])"
      ]
     },
     "execution_count": 14,
     "metadata": {},
     "output_type": "execute_result"
    }
   ],
   "source": [
    "result = torch.max(ar1, ar2) #попарно сравнивает и выбирает максимальное из двух значений\n",
    "result"
   ]
  },
  {
   "cell_type": "markdown",
   "metadata": {
    "id": "x6zmMhyKBPWQ"
   },
   "source": [
    "1.1.7 Создать тензор из 20 случайных целых чисел от 0 до 100. Получить второе сверху значение в тензоре. Определить индекс этого значения."
   ]
  },
  {
   "cell_type": "code",
   "execution_count": 15,
   "metadata": {},
   "outputs": [
    {
     "data": {
      "text/plain": [
       "tensor([19,  9, 11, 94, 45, 50, 57, 87, 95, 10, 64, 36,  0, 79, 40, 78, 98, 40,\n",
       "        83,  2])"
      ]
     },
     "execution_count": 15,
     "metadata": {},
     "output_type": "execute_result"
    }
   ],
   "source": [
    "t20 = torch.randint(0, 100, size=(20, )) #генерируем тензор\n",
    "t20"
   ]
  },
  {
   "cell_type": "code",
   "execution_count": 19,
   "metadata": {},
   "outputs": [
    {
     "data": {
      "text/plain": [
       "tensor(8)"
      ]
     },
     "execution_count": 19,
     "metadata": {},
     "output_type": "execute_result"
    }
   ],
   "source": [
    "#Определяем индекс нужного значения\n",
    "max2 = t20.argsort()[-2] #сортируем и берем предпоследнее значение\n",
    "max2"
   ]
  },
  {
   "cell_type": "code",
   "execution_count": 20,
   "metadata": {},
   "outputs": [
    {
     "data": {
      "text/plain": [
       "tensor(95)"
      ]
     },
     "execution_count": 20,
     "metadata": {},
     "output_type": "execute_result"
    }
   ],
   "source": [
    "#берем само это значение\n",
    "result = t20[max2]\n",
    "result"
   ]
  },
  {
   "cell_type": "markdown",
   "metadata": {
    "id": "Xshsy8fD1RDE"
   },
   "source": [
    "## 1.2 Распространение"
   ]
  },
  {
   "cell_type": "markdown",
   "metadata": {
    "id": "jlP22HAJCo28"
   },
   "source": [
    "[Numpy broadcasting](https://numpy.org/devdocs/user/theory.broadcasting.html)\n",
    "\n",
    "[Torch broadcasting](https://pytorch.org/docs/stable/notes/broadcasting.html)"
   ]
  },
  {
   "cell_type": "markdown",
   "metadata": {
    "id": "uRD6-8Gd1RDF"
   },
   "source": [
    "1.2.1 Создать тензор 11x7 вида: `[[1, 2, 3, ..., 7], [11, 12, 13, ..., 17], [21, 22, 23, ..., 27], ..., [101, 102, 103, ..., 107]]`. При решении задачи применить технику распространения."
   ]
  },
  {
   "cell_type": "code",
   "execution_count": 21,
   "metadata": {},
   "outputs": [
    {
     "data": {
      "text/plain": [
       "tensor([[  1,   2,   3,   4,   5,   6,   7],\n",
       "        [ 11,  12,  13,  14,  15,  16,  17],\n",
       "        [ 21,  22,  23,  24,  25,  26,  27],\n",
       "        [ 31,  32,  33,  34,  35,  36,  37],\n",
       "        [ 41,  42,  43,  44,  45,  46,  47],\n",
       "        [ 51,  52,  53,  54,  55,  56,  57],\n",
       "        [ 61,  62,  63,  64,  65,  66,  67],\n",
       "        [ 71,  72,  73,  74,  75,  76,  77],\n",
       "        [ 81,  82,  83,  84,  85,  86,  87],\n",
       "        [ 91,  92,  93,  94,  95,  96,  97],\n",
       "        [101, 102, 103, 104, 105, 106, 107]])"
      ]
     },
     "execution_count": 21,
     "metadata": {},
     "output_type": "execute_result"
    }
   ],
   "source": [
    "tens = torch.arange(0, 101, step=10).reshape(-1, 1) # десятки по столбцам\n",
    "units = torch.arange(1, 8) #единицы\n",
    "result = tens + units #складываем десятки и единицы\n",
    "result"
   ]
  },
  {
   "cell_type": "markdown",
   "metadata": {
    "id": "iSY9Iday1RDF"
   },
   "source": [
    "1.2.2 Вычесть одномерный тензор `b_1d` из двухмерного тензора `a_2d`, так, чтобы каждый элемент одномерного тензора вычитался из всех элементов соответствующих строк двумерного тензора.\n",
    "\n",
    "_Пример:_\n",
    "\n",
    "Для входа:\n",
    "```python\n",
    "a_2d = np.array([[3,3,3],[4,4,4],[5,5,5]])\n",
    "b_1d = np.array([1,2,3])\n",
    "```\n",
    "\n",
    "Ожидается резульат:\n",
    "\n",
    "```python\n",
    "[[2 2 2]\n",
    " [2 2 2]\n",
    " [2 2 2]]\n",
    "```"
   ]
  },
  {
   "cell_type": "code",
   "execution_count": 28,
   "metadata": {},
   "outputs": [],
   "source": [
    "def broadcast_subtraction(t1: torch.Tensor, t2: torch.Tensor) -> torch.Tensor:\n",
    "    #меняем его размер с (1, 3) на (3, 1), то есть меняем кол-во строк и столбцов \n",
    "    return t1 - t2.reshape(-1, 1) #и вычитаем из первого"
   ]
  },
  {
   "cell_type": "code",
   "execution_count": 29,
   "metadata": {},
   "outputs": [
    {
     "data": {
      "text/plain": [
       "tensor([[2, 2, 2],\n",
       "        [2, 2, 2],\n",
       "        [2, 2, 2]])"
      ]
     },
     "execution_count": 29,
     "metadata": {},
     "output_type": "execute_result"
    }
   ],
   "source": [
    "a_2d = torch.tensor([[3, 3, 3], [4, 4, 4], [5, 5, 5]])\n",
    "b_1d = torch.tensor([1, 2, 3])\n",
    "broadcast_subtraction(a_2d, b_1d)"
   ]
  },
  {
   "cell_type": "markdown",
   "metadata": {
    "id": "dFTvPsY91RDF"
   },
   "source": [
    "## 1.3 Индексы, маскирование и прихотливое индексирование\n",
    "\n",
    "[Документация по функциям для работы с индексами](https://pytorch.org/docs/stable/torch.html#indexing-slicing-joining-mutating-ops)"
   ]
  },
  {
   "cell_type": "markdown",
   "metadata": {
    "id": "McYtDYhH1RDG"
   },
   "source": [
    "1.3.1 Получить индексы, для которых элементы тензоров `a` и `b` совпадают.\n",
    "\n",
    "_Пример:_\n",
    "\n",
    "Для входа:\n",
    "```python\n",
    "a = np.array([1,2,3,2,3,4,3,4,5,6])\n",
    "b = np.array([7,2,10,2,7,4,9,4,9,8])\n",
    "```\n",
    "\n",
    "Ожидается резульат:\n",
    "\n",
    "```python\n",
    "array([1, 3, 5, 7])\n",
    "```"
   ]
  },
  {
   "cell_type": "code",
   "execution_count": 30,
   "metadata": {},
   "outputs": [],
   "source": [
    "def same_element(t1: torch.Tensor, t2: torch.Tensor) -> torch.Tensor:\n",
    "    return (t1 == t2).nonzero(as_tuple=True)[0] #вернет кортеж (точнее его 0 эл-т) списка индексов True объектов"
   ]
  },
  {
   "cell_type": "code",
   "execution_count": 31,
   "metadata": {},
   "outputs": [
    {
     "data": {
      "text/plain": [
       "tensor([1, 3, 5, 7])"
      ]
     },
     "execution_count": 31,
     "metadata": {},
     "output_type": "execute_result"
    }
   ],
   "source": [
    "a = torch.tensor([1, 2, 3, 2, 3, 4, 3, 4, 5, 6]) # задаем тензоры\n",
    "b = torch.tensor([7, 2, 10, 2, 7, 4, 9, 4, 9, 8])\n",
    "\n",
    "same_element(a, b)"
   ]
  },
  {
   "cell_type": "markdown",
   "metadata": {
    "id": "MnBq3nfy1RDG"
   },
   "source": [
    "1.3.2 Инвертировать порядок элементов в двумерном тензоре `torch.arange(9).view(3,3)`.\n",
    "\n",
    "Ожидаемый результат:\n",
    "\n",
    "\n",
    "```python\n",
    "array([[8, 7, 6],\n",
    "       [5, 4, 3],\n",
    "       [2, 1, 0]])\n",
    "```"
   ]
  },
  {
   "cell_type": "code",
   "execution_count": 32,
   "metadata": {},
   "outputs": [
    {
     "data": {
      "text/plain": [
       "tensor([[0, 1, 2],\n",
       "        [3, 4, 5],\n",
       "        [6, 7, 8]])"
      ]
     },
     "execution_count": 32,
     "metadata": {},
     "output_type": "execute_result"
    }
   ],
   "source": [
    "t = torch.arange(9).view(3,3) #задаем тензор\n",
    "t"
   ]
  },
  {
   "cell_type": "code",
   "execution_count": 33,
   "metadata": {},
   "outputs": [
    {
     "data": {
      "text/plain": [
       "tensor([[8, 7, 6],\n",
       "        [5, 4, 3],\n",
       "        [2, 1, 0]])"
      ]
     },
     "execution_count": 33,
     "metadata": {},
     "output_type": "execute_result"
    }
   ],
   "source": [
    "t.flip([0, 1]) #меняем порядок вдоль заданной оси, в данном случае и строка, и столбец"
   ]
  },
  {
   "cell_type": "markdown",
   "metadata": {
    "id": "tANsLnOC1RDH"
   },
   "source": [
    "1.3.3 Из входного тензора a получить только элементы, находящиеся в диапазоне от 5 до 10.\n",
    "\n",
    "_Пример:_\n",
    "\n",
    "Для входа:\n",
    "```python\n",
    "a = np.array([2, 6, 1, 9, 10, 3, 27])\n",
    "```\n",
    "\n",
    "Ожидается резульат:\n",
    "\n",
    "```python\n",
    "array([6, 9, 10])\n",
    "```"
   ]
  },
  {
   "cell_type": "code",
   "execution_count": 34,
   "metadata": {},
   "outputs": [],
   "source": [
    "def more_than_ten(t: torch.Tensor) -> torch.Tensor:\n",
    "    return t[(t >=5) & (t <= 10)] #возвращаем элементы из указанного диапазона"
   ]
  },
  {
   "cell_type": "code",
   "execution_count": 35,
   "metadata": {},
   "outputs": [
    {
     "data": {
      "text/plain": [
       "tensor([ 6,  9, 10])"
      ]
     },
     "execution_count": 35,
     "metadata": {},
     "output_type": "execute_result"
    }
   ],
   "source": [
    "a = torch.tensor([2, 6, 1, 9, 10, 3, 27])\n",
    "more_than_ten(a)"
   ]
  },
  {
   "cell_type": "code",
   "execution_count": 36,
   "metadata": {},
   "outputs": [
    {
     "data": {
      "text/plain": [
       "tensor([10,  5])"
      ]
     },
     "execution_count": 36,
     "metadata": {},
     "output_type": "execute_result"
    }
   ],
   "source": [
    "a = torch.tensor([10, 12, 5])\n",
    "more_than_ten(a)"
   ]
  },
  {
   "cell_type": "markdown",
   "metadata": {
    "id": "3vlK0gV21RDH"
   },
   "source": [
    "1.3.4 Поменять местами столбец 1 и 2 тензора `np.arange(9).reshape(3,3)`"
   ]
  },
  {
   "cell_type": "code",
   "execution_count": 37,
   "metadata": {},
   "outputs": [
    {
     "data": {
      "text/plain": [
       "tensor([[0, 1, 2],\n",
       "        [3, 4, 5],\n",
       "        [6, 7, 8]])"
      ]
     },
     "execution_count": 37,
     "metadata": {},
     "output_type": "execute_result"
    }
   ],
   "source": [
    "t = torch.arange(9).reshape(3, 3)\n",
    "t"
   ]
  },
  {
   "cell_type": "code",
   "execution_count": 38,
   "metadata": {},
   "outputs": [
    {
     "data": {
      "text/plain": [
       "tensor([[1, 0, 2],\n",
       "        [4, 3, 5],\n",
       "        [7, 6, 8]])"
      ]
     },
     "execution_count": 38,
     "metadata": {},
     "output_type": "execute_result"
    }
   ],
   "source": [
    "t[:, [0, 1]] = t[:, [1, 0]] #явно меняем местами с помощью значений по индексу\n",
    "t"
   ]
  },
  {
   "cell_type": "markdown",
   "metadata": {
    "id": "cheFtWhU1RDH"
   },
   "source": [
    "1.3.5 Создать тензор 8 на 10 из случайных целых чисел из диапазона от 0 до 10 и найти в ней строку (ее индекс и вывести саму строку), в которой сумма значений минимальна."
   ]
  },
  {
   "cell_type": "code",
   "execution_count": null,
   "metadata": {},
   "outputs": [],
   "source": [
    "t = torch.randint(0, 11, size=(8, 10))\n",
    "t"
   ]
  },
  {
   "cell_type": "code",
   "execution_count": null,
   "metadata": {},
   "outputs": [],
   "source": [
    "i = t.sum(1).argmin() #находим сначала суммы по строке, затем индекс минимума из них с помощью argmin\n",
    "s = t[i]\n",
    "print(f'Строка с минимальной суммой: {s}, \\nИндекс строки: {i}')"
   ]
  },
  {
   "cell_type": "markdown",
   "metadata": {
    "id": "grOCNU4XFE2B"
   },
   "source": [
    "1.3.6 Cоздать тензор из 20 случайных целых чисел от 0 до 100. Обрезать значения тензора (заменить значения, выходящие за диапазон, на крайние значения) снизу по значению 30, сверху по значению 70."
   ]
  },
  {
   "cell_type": "code",
   "execution_count": 39,
   "metadata": {},
   "outputs": [
    {
     "data": {
      "text/plain": [
       "tensor([29, 66,  3, 93, 41, 46, 89, 92, 78, 16, 77,  3,  8, 55,  2, 47, 64, 93,\n",
       "        59, 43])"
      ]
     },
     "execution_count": 39,
     "metadata": {},
     "output_type": "execute_result"
    }
   ],
   "source": [
    "t = torch.randint(0, 101, size=(20, ))\n",
    "t"
   ]
  },
  {
   "cell_type": "code",
   "execution_count": 40,
   "metadata": {},
   "outputs": [
    {
     "data": {
      "text/plain": [
       "tensor([30, 66, 30, 70, 41, 46, 70, 70, 70, 30, 70, 30, 30, 55, 30, 47, 64, 70,\n",
       "        59, 43])"
      ]
     },
     "execution_count": 40,
     "metadata": {},
     "output_type": "execute_result"
    }
   ],
   "source": [
    "torch.clamp(t, min=30, max=70) #если значение меньше 30, то подставляется 30, если больше 70, то - 70"
   ]
  },
  {
   "cell_type": "markdown",
   "metadata": {
    "id": "HNfQjY8P1RDI"
   },
   "source": [
    "1.3.7 Создать два тензора размера 30 на 3 из случайных целых чисел из диапазона от 0 до 10 и найти все значения первого тензора, которые больше соответсвующих (по расположению) значений второго тензора. Подсчитать сумму этих значений."
   ]
  },
  {
   "cell_type": "code",
   "execution_count": 41,
   "metadata": {
    "scrolled": true
   },
   "outputs": [
    {
     "data": {
      "text/plain": [
       "tensor([[ 2,  0,  2],\n",
       "        [ 0,  1,  4],\n",
       "        [ 5, 10,  7],\n",
       "        [ 1, 10,  4],\n",
       "        [ 2,  1,  6],\n",
       "        [ 8,  9,  6],\n",
       "        [ 1,  0,  3],\n",
       "        [ 0,  5, 10],\n",
       "        [ 2,  1,  6],\n",
       "        [ 2, 10,  1],\n",
       "        [ 1,  9, 10],\n",
       "        [10,  7,  8],\n",
       "        [ 3,  0,  4],\n",
       "        [ 8,  8,  3],\n",
       "        [ 5,  0,  9],\n",
       "        [ 4,  3,  8],\n",
       "        [ 2,  9,  4],\n",
       "        [ 3,  7,  9],\n",
       "        [ 6,  8,  8],\n",
       "        [10,  7,  5],\n",
       "        [ 2,  0,  5],\n",
       "        [ 2,  5,  9],\n",
       "        [ 9,  7,  8],\n",
       "        [ 9,  0,  4],\n",
       "        [ 9,  7,  6],\n",
       "        [10,  9,  3],\n",
       "        [ 8,  7,  3],\n",
       "        [ 7,  3,  5],\n",
       "        [ 5,  4,  2],\n",
       "        [ 5,  7,  5]])"
      ]
     },
     "execution_count": 41,
     "metadata": {},
     "output_type": "execute_result"
    }
   ],
   "source": [
    "t1 = torch.randint(0, 11, size=(30, 3))\n",
    "t1"
   ]
  },
  {
   "cell_type": "code",
   "execution_count": 42,
   "metadata": {
    "scrolled": true
   },
   "outputs": [
    {
     "data": {
      "text/plain": [
       "tensor([[ 7,  8,  7],\n",
       "        [ 8,  3,  9],\n",
       "        [ 7,  1,  5],\n",
       "        [ 8,  5,  1],\n",
       "        [ 9,  6, 10],\n",
       "        [ 6,  7,  3],\n",
       "        [ 8,  9,  6],\n",
       "        [ 3,  4,  1],\n",
       "        [ 2,  4,  1],\n",
       "        [10,  4,  6],\n",
       "        [ 4,  4,  4],\n",
       "        [ 6,  3,  7],\n",
       "        [ 8,  9,  5],\n",
       "        [ 1, 10,  6],\n",
       "        [10,  8,  6],\n",
       "        [ 5,  8,  5],\n",
       "        [ 8,  8,  5],\n",
       "        [ 9,  7,  7],\n",
       "        [ 8,  4,  1],\n",
       "        [ 5,  4,  2],\n",
       "        [10,  8,  0],\n",
       "        [ 6,  6,  9],\n",
       "        [ 7,  0,  7],\n",
       "        [ 7,  9,  3],\n",
       "        [ 5,  2,  6],\n",
       "        [ 3,  8,  0],\n",
       "        [ 1,  4,  7],\n",
       "        [ 4,  3,  4],\n",
       "        [ 9,  0,  7],\n",
       "        [ 3,  8,  6]])"
      ]
     },
     "execution_count": 42,
     "metadata": {},
     "output_type": "execute_result"
    }
   ],
   "source": [
    "t2 = torch.randint(0, 11, size = (30, 3))\n",
    "t2"
   ]
  },
  {
   "cell_type": "code",
   "execution_count": 43,
   "metadata": {
    "scrolled": true
   },
   "outputs": [
    {
     "data": {
      "text/plain": [
       "tensor([[False, False, False],\n",
       "        [False, False, False],\n",
       "        [False,  True,  True],\n",
       "        [False,  True,  True],\n",
       "        [False, False, False],\n",
       "        [ True,  True,  True],\n",
       "        [False, False, False],\n",
       "        [False,  True,  True],\n",
       "        [False, False,  True],\n",
       "        [False,  True, False],\n",
       "        [False,  True,  True],\n",
       "        [ True,  True,  True],\n",
       "        [False, False, False],\n",
       "        [ True, False, False],\n",
       "        [False, False,  True],\n",
       "        [False, False,  True],\n",
       "        [False,  True, False],\n",
       "        [False, False,  True],\n",
       "        [False,  True,  True],\n",
       "        [ True,  True,  True],\n",
       "        [False, False,  True],\n",
       "        [False, False, False],\n",
       "        [ True,  True,  True],\n",
       "        [ True, False,  True],\n",
       "        [ True,  True, False],\n",
       "        [ True,  True,  True],\n",
       "        [ True,  True, False],\n",
       "        [ True, False,  True],\n",
       "        [False,  True, False],\n",
       "        [ True, False, False]])"
      ]
     },
     "execution_count": 43,
     "metadata": {},
     "output_type": "execute_result"
    }
   ],
   "source": [
    "t1>t2 #маска, по которой будет считаться сумма"
   ]
  },
  {
   "cell_type": "code",
   "execution_count": 44,
   "metadata": {},
   "outputs": [
    {
     "data": {
      "text/plain": [
       "tensor(326)"
      ]
     },
     "execution_count": 44,
     "metadata": {},
     "output_type": "execute_result"
    }
   ],
   "source": [
    "t1[t1>t2].sum()"
   ]
  },
  {
   "cell_type": "markdown",
   "metadata": {
    "id": "doBCxYJA1RDI"
   },
   "source": [
    "1.3.8 При помощи прихотливого индексирования для двухмерного массива размерности (20, 20), состоящего из случайных целых чисел в пределах от 0 до 10 получить массив элементов находящихся на диагонали, проходящей над основной диагональю."
   ]
  },
  {
   "cell_type": "code",
   "execution_count": 45,
   "metadata": {
    "scrolled": true
   },
   "outputs": [
    {
     "data": {
      "text/plain": [
       "tensor([[ 2, 10,  3, 10, 10,  5, 10, 10,  4,  0,  2,  6,  4,  9,  3,  7,  8,  9,\n",
       "          5,  9],\n",
       "        [ 3,  7,  4,  4,  3,  5,  5,  4,  9, 10,  8, 10,  0,  8,  7,  4,  0,  5,\n",
       "          1,  4],\n",
       "        [ 5,  2,  5, 10, 10,  5,  6,  9,  0,  7,  7,  1,  5,  7,  2,  3,  5,  4,\n",
       "          0,  1],\n",
       "        [ 6,  8, 10,  5,  8,  5,  9,  6,  6,  3,  5,  1,  4,  2,  5,  3,  1,  6,\n",
       "          6,  2],\n",
       "        [ 1,  4,  2,  3,  5,  4,  4,  4,  1,  9,  6,  1,  8,  8,  2,  8,  8,  3,\n",
       "         10,  4],\n",
       "        [ 0, 10, 10,  9,  0,  2,  9,  6,  3,  8,  9,  7,  7,  4,  8, 10,  2,  2,\n",
       "          7,  5],\n",
       "        [ 4,  2, 10,  1,  7,  2,  0,  5, 10, 10,  3,  6, 10,  4,  7, 10,  0,  9,\n",
       "          7,  3],\n",
       "        [ 8,  0,  1,  9,  8,  3,  2,  1,  2,  4,  8,  3,  6,  3,  1,  7, 10,  1,\n",
       "          1,  9],\n",
       "        [ 1,  0,  7,  7,  6,  6,  2,  6,  0,  6,  7,  6, 10,  4,  8,  9,  4,  2,\n",
       "          8,  5],\n",
       "        [ 8,  3, 10,  3,  3,  8,  0,  3,  0,  3,  7,  7,  9,  2, 10, 10,  0, 10,\n",
       "          3,  2],\n",
       "        [10,  8,  2,  5,  1, 10,  3,  1,  9,  6,  1,  5,  3,  1,  4,  4,  1,  1,\n",
       "          3, 10],\n",
       "        [ 8,  2,  0,  3,  7,  1,  3,  6,  2,  4,  8, 10,  7,  5,  5,  8,  6,  4,\n",
       "          7,  2],\n",
       "        [ 7,  2,  6,  1,  6,  9,  3,  8,  8,  7,  8,  1,  8,  8,  9, 10,  7,  5,\n",
       "          8,  7],\n",
       "        [10,  2,  5,  4,  9,  0,  5,  4,  0,  4,  6,  9,  7,  0, 10,  2,  2,  1,\n",
       "          9,  5],\n",
       "        [ 4,  2,  0,  3,  0,  6,  1,  0,  5,  5,  2,  1,  1,  5,  3,  6,  7,  6,\n",
       "          9,  1],\n",
       "        [ 8,  2,  0,  6,  4, 10,  7,  4,  0,  5,  8,  9,  9,  8,  0,  6, 10,  1,\n",
       "          2,  4],\n",
       "        [ 4,  2, 10,  2,  6,  8, 10,  5,  1,  3,  3,  3,  8,  7, 10,  8,  5,  1,\n",
       "          2,  7],\n",
       "        [ 2,  6,  9,  6,  3,  6,  5,  9,  6,  7,  9,  4,  8,  6,  4,  4,  2,  2,\n",
       "          7,  3],\n",
       "        [ 1,  3,  8,  7,  1,  2,  3,  0,  0,  0,  4,  7,  7,  3,  9,  5,  9,  9,\n",
       "          9,  8],\n",
       "        [ 4,  7,  5, 10, 10,  7,  6,  1,  6,  8,  3,  1, 10,  1,  0,  0,  9,  1,\n",
       "          0,  3]])"
      ]
     },
     "execution_count": 45,
     "metadata": {},
     "output_type": "execute_result"
    }
   ],
   "source": [
    "t = torch.randint(0, 11, size=(20, 20))\n",
    "t"
   ]
  },
  {
   "cell_type": "code",
   "execution_count": 46,
   "metadata": {},
   "outputs": [
    {
     "data": {
      "text/plain": [
       "tensor([10,  4, 10,  8,  4,  9,  5,  2,  6,  7,  5,  7,  8, 10,  6, 10,  1,  7,\n",
       "         8])"
      ]
     },
     "execution_count": 46,
     "metadata": {},
     "output_type": "execute_result"
    }
   ],
   "source": [
    "t[torch.arange(0, t.shape[0] - 1), torch.arange(1, t.shape[0])] #то есть берем парами строка-столбец и сдвигаем их на 1 попарно\n",
    "#то есть мы берем сначала 0 строка и 1 столб., затем 1 строка и 2 столб. и т.д."
   ]
  },
  {
   "cell_type": "markdown",
   "metadata": {
    "id": "6M1lkfLp1RDJ"
   },
   "source": [
    "1.3.9 Задать два двухмерных тензора `ar1` и `ar2` размерности (5, 10), состоящих из случайных целых чисел в пределах от 0 до 10. Удвоить все значения `ar1`, которые совпадают со значениями `ar2`, расположенными на аналогичных позициях."
   ]
  },
  {
   "cell_type": "code",
   "execution_count": 47,
   "metadata": {},
   "outputs": [
    {
     "data": {
      "text/plain": [
       "tensor([[ 2,  0,  1,  9,  1,  6,  0,  0, 10,  6],\n",
       "        [ 5, 10, 10,  0,  0,  2,  3,  8,  5,  3],\n",
       "        [10,  5,  6,  2,  7,  1,  3, 10,  9,  1],\n",
       "        [ 1,  8,  6,  5,  8,  5,  7,  7,  1,  1],\n",
       "        [ 2,  0,  8,  9,  2,  6,  7,  3,  8,  4]])"
      ]
     },
     "execution_count": 47,
     "metadata": {},
     "output_type": "execute_result"
    }
   ],
   "source": [
    "ar1 = torch.randint(0, 11, size=(5, 10))\n",
    "ar1"
   ]
  },
  {
   "cell_type": "code",
   "execution_count": 48,
   "metadata": {},
   "outputs": [
    {
     "data": {
      "text/plain": [
       "tensor([[ 4,  8,  5,  0,  6,  6,  9,  9, 10,  0],\n",
       "        [ 9,  9,  1,  5,  5,  9,  3,  6,  9,  2],\n",
       "        [10,  7,  2,  8,  2,  8,  4,  5,  5,  6],\n",
       "        [ 0, 10,  0,  3,  5,  7,  1,  1, 10,  5],\n",
       "        [ 0,  7, 10,  5,  0,  8,  1,  3, 10,  4]])"
      ]
     },
     "execution_count": 48,
     "metadata": {},
     "output_type": "execute_result"
    }
   ],
   "source": [
    "ar2 = torch.randint(0, 11, size=(5, 10))\n",
    "ar2"
   ]
  },
  {
   "cell_type": "code",
   "execution_count": 49,
   "metadata": {},
   "outputs": [
    {
     "data": {
      "text/plain": [
       "tensor([[ 2,  0,  1,  9,  1, 12,  0,  0, 20,  6],\n",
       "        [ 5, 10, 10,  0,  0,  2,  6,  8,  5,  3],\n",
       "        [20,  5,  6,  2,  7,  1,  3, 10,  9,  1],\n",
       "        [ 1,  8,  6,  5,  8,  5,  7,  7,  1,  1],\n",
       "        [ 2,  0,  8,  9,  2,  6,  7,  6,  8,  8]])"
      ]
     },
     "execution_count": 49,
     "metadata": {},
     "output_type": "execute_result"
    }
   ],
   "source": [
    "ar1[ar1==ar2] *= 2 #если значение совпадает, то удваиваем\n",
    "ar1"
   ]
  },
  {
   "cell_type": "markdown",
   "metadata": {
    "id": "Qe2oVr4p1RDJ"
   },
   "source": [
    "1.3.10 Заданы три двухмерных тензора `ar1`, `ar2` и `ar3` размерности (4, 7), состоящие из случайных целых чисел в пределах от 0 до 10. Обнулить все элементы `ar1`, которые больше соответствующих (находящихся в соответствующих позициях) элементов `ar2` и меньше соответствующих элементов `ar3`."
   ]
  },
  {
   "cell_type": "code",
   "execution_count": 50,
   "metadata": {},
   "outputs": [
    {
     "data": {
      "text/plain": [
       "tensor([[ 5,  0,  6,  1,  5,  5, 10],\n",
       "        [ 8,  6,  5,  4,  6,  9,  3],\n",
       "        [ 5,  8,  3,  0, 10,  4, 10],\n",
       "        [ 8,  9,  0,  1,  8,  5,  2]])"
      ]
     },
     "execution_count": 50,
     "metadata": {},
     "output_type": "execute_result"
    }
   ],
   "source": [
    "ar1 = torch.randint(0, 11, size=(4, 7))\n",
    "ar1"
   ]
  },
  {
   "cell_type": "code",
   "execution_count": 51,
   "metadata": {},
   "outputs": [
    {
     "data": {
      "text/plain": [
       "tensor([[ 7,  7,  7,  3,  8,  6,  9],\n",
       "        [ 7,  8,  4, 10,  0,  5,  1],\n",
       "        [ 4,  2,  6,  8,  6,  3,  3],\n",
       "        [ 4, 10, 10,  1,  2,  1,  5]])"
      ]
     },
     "execution_count": 51,
     "metadata": {},
     "output_type": "execute_result"
    }
   ],
   "source": [
    "ar2 = torch.randint(0, 11, size=(4, 7))\n",
    "ar2"
   ]
  },
  {
   "cell_type": "code",
   "execution_count": 52,
   "metadata": {},
   "outputs": [
    {
     "data": {
      "text/plain": [
       "tensor([[ 3,  7,  7,  9,  2, 10, 10],\n",
       "        [ 4,  2,  3,  5,  1,  8,  0],\n",
       "        [ 1,  1,  0,  0,  3,  7,  7],\n",
       "        [ 4,  9,  6, 10,  6,  8,  3]])"
      ]
     },
     "execution_count": 52,
     "metadata": {},
     "output_type": "execute_result"
    }
   ],
   "source": [
    "ar3 = torch.randint(0, 11, size=(4, 7))\n",
    "ar3"
   ]
  },
  {
   "cell_type": "code",
   "execution_count": 53,
   "metadata": {},
   "outputs": [
    {
     "data": {
      "text/plain": [
       "tensor([[ 5,  0,  6,  1,  5,  5, 10],\n",
       "        [ 8,  6,  5,  4,  6,  9,  3],\n",
       "        [ 5,  8,  3,  0, 10,  0, 10],\n",
       "        [ 8,  9,  0,  1,  8,  0,  2]])"
      ]
     },
     "execution_count": 53,
     "metadata": {},
     "output_type": "execute_result"
    }
   ],
   "source": [
    "ar1[(ar1>ar2) & (ar1<ar3)] = 0 #согласно условию (больше, чем во втором, но меньше, чем в третьем) обнуляем\n",
    "ar1"
   ]
  },
  {
   "cell_type": "markdown",
   "metadata": {
    "id": "BTcRVeYh1RDK"
   },
   "source": [
    "1.3.11 Задан двумерный тензор `ar1` размерности (20, 5), состоящий из случайных целых чисел в пределах от 0 до 20. Определить, в каких столбцах не менее 5 раз встречается значение, максимальное по своей строке."
   ]
  },
  {
   "cell_type": "code",
   "execution_count": 54,
   "metadata": {},
   "outputs": [
    {
     "data": {
      "text/plain": [
       "tensor([[16,  0, 19, 15, 19],\n",
       "        [ 8,  2,  7,  4,  2],\n",
       "        [10,  9,  8,  6, 10],\n",
       "        [ 2,  9,  6,  8, 18],\n",
       "        [ 6, 14, 19, 20,  2],\n",
       "        [ 1,  3,  5, 11,  7],\n",
       "        [12, 20, 11,  2,  1],\n",
       "        [ 4, 11, 10,  6, 19],\n",
       "        [14, 19, 12, 17, 13],\n",
       "        [ 1,  1,  2, 16,  6],\n",
       "        [16,  7, 11, 17, 12],\n",
       "        [10, 16,  6,  6, 10],\n",
       "        [20, 16, 11,  3,  7],\n",
       "        [ 5,  7, 13, 17, 20],\n",
       "        [20,  5, 20,  1, 15],\n",
       "        [ 3,  0, 20,  6, 12],\n",
       "        [ 0,  5, 11,  8,  3],\n",
       "        [10,  4, 12, 17,  7],\n",
       "        [16, 17, 15, 15,  9],\n",
       "        [ 3,  6, 14, 19,  6]])"
      ]
     },
     "execution_count": 54,
     "metadata": {},
     "output_type": "execute_result"
    }
   ],
   "source": [
    "ar1 = torch.randint(0, 21, size=(20, 5)) #генерируем тензор\n",
    "ar1"
   ]
  },
  {
   "cell_type": "code",
   "execution_count": 55,
   "metadata": {},
   "outputs": [
    {
     "data": {
      "text/plain": [
       "tensor([2, 0, 0, 4, 3, 3, 1, 4, 1, 3, 3, 1, 0, 4, 0, 2, 2, 3, 1, 3])"
      ]
     },
     "execution_count": 55,
     "metadata": {},
     "output_type": "execute_result"
    }
   ],
   "source": [
    "max_inds = ar1.argmax(1) #берем индексы максимальных значений в каждой строке\n",
    "max_inds"
   ]
  },
  {
   "cell_type": "code",
   "execution_count": 56,
   "metadata": {},
   "outputs": [],
   "source": [
    "i, n = max_inds.unique(return_counts=True) #составляем пары сколько раз каждый индек встречался"
   ]
  },
  {
   "cell_type": "code",
   "execution_count": 57,
   "metadata": {},
   "outputs": [
    {
     "data": {
      "text/plain": [
       "tensor([3])"
      ]
     },
     "execution_count": 57,
     "metadata": {},
     "output_type": "execute_result"
    }
   ],
   "source": [
    "i[n >= 5] # определяем, в каких столбцах не менее 5 раз встречается значение, максимальное по своей строке"
   ]
  },
  {
   "cell_type": "markdown",
   "metadata": {
    "id": "ZeYlNWNE1RDK"
   },
   "source": [
    "1.3.12 Задан двумерный тензор `ar1` размерности (4, 7), состоящий из случайных  чисел в пределах от 0 до 1. Обнулить все значения в массиве, расположенные строго правее и ниже максимального элемента массива. "
   ]
  },
  {
   "cell_type": "code",
   "execution_count": 58,
   "metadata": {},
   "outputs": [
    {
     "data": {
      "text/plain": [
       "tensor([[0.3546, 0.3814, 0.4680, 0.5804, 0.4665, 0.1247, 0.5216],\n",
       "        [0.9694, 0.3433, 0.0401, 0.4519, 0.7936, 0.1168, 0.8644],\n",
       "        [0.5195, 0.2105, 0.0925, 0.1681, 0.3505, 0.9217, 0.3702],\n",
       "        [0.9604, 0.6535, 0.9669, 0.7492, 0.4546, 0.5759, 0.6183]])"
      ]
     },
     "execution_count": 58,
     "metadata": {},
     "output_type": "execute_result"
    }
   ],
   "source": [
    "ar1 = torch.rand(4, 7) #генерируем тензор с числами от 0 до 1\n",
    "ar1"
   ]
  },
  {
   "cell_type": "code",
   "execution_count": 60,
   "metadata": {},
   "outputs": [
    {
     "data": {
      "text/plain": [
       "(tensor(0.9694), tensor(7))"
      ]
     },
     "execution_count": 60,
     "metadata": {},
     "output_type": "execute_result"
    }
   ],
   "source": [
    "ar1.max(), ar1.argmax()  #берем максимальное число и его индекс"
   ]
  },
  {
   "cell_type": "code",
   "execution_count": 64,
   "metadata": {},
   "outputs": [
    {
     "data": {
      "text/plain": [
       "tensor([[0.3546, 0.3814, 0.4680, 0.5804, 0.4665, 0.1247, 0.5216],\n",
       "        [0.9694, 0.3433, 0.0401, 0.4519, 0.7936, 0.1168, 0.8644],\n",
       "        [0.5195, 0.0000, 0.0000, 0.0000, 0.0000, 0.0000, 0.0000],\n",
       "        [0.9604, 0.0000, 0.0000, 0.0000, 0.0000, 0.0000, 0.0000]])"
      ]
     },
     "execution_count": 64,
     "metadata": {},
     "output_type": "execute_result"
    }
   ],
   "source": [
    "i = ar1.argmax() // ar1.shape[1] #Находим строку (делим максимальный индекс на количество столбцов нацело)\n",
    "j = ar1.argmax() % ar1.shape[1] #находим столбец (находим остаток от деления у максимального индекса на количество столбцов) \n",
    "ar1[i + 1:, j + 1:] = 0 #ниже этой строки и правее этого столбца обнуляем\n",
    "ar1"
   ]
  },
  {
   "cell_type": "markdown",
   "metadata": {
    "id": "pYxX90B11RDL"
   },
   "source": [
    "1.3.13 Построить \"one-hot encoding\" для одномерного тензора, содержащего целые числа (длина вектора заранее неизвестна, набор значений заранее неизвестен, при этом в итоговой матрице должны присутствовать столбцы для всех натуральных чисел вплоть до максимального встречающегося в исходном массиве).\n",
    "\n",
    "Пример:\n",
    "\n",
    "для тензора `torch.tensor([2, 3, 2, 2, 2, 1])`.\n",
    "\n",
    "Ожидается результат:\n",
    "\n",
    "```python\n",
    "tensor([[0., 1., 0.],\n",
    "        [0., 0., 1.],\n",
    "        [0., 1., 0.],\n",
    "        [0., 1., 0.],\n",
    "        [0., 1., 0.],\n",
    "        [1., 0., 0.]])\n",
    "```"
   ]
  },
  {
   "cell_type": "code",
   "execution_count": 65,
   "metadata": {},
   "outputs": [],
   "source": [
    "def one_hot_enc(t: torch.Tensor) -> torch.Tensor:\n",
    "    return functional.one_hot(t-1) #если не -1, то он добавляет столбец с идеальным 0, куда будет стремиться"
   ]
  },
  {
   "cell_type": "code",
   "execution_count": 66,
   "metadata": {},
   "outputs": [
    {
     "data": {
      "text/plain": [
       "tensor([[0, 1, 0],\n",
       "        [0, 0, 1],\n",
       "        [0, 1, 0],\n",
       "        [0, 1, 0],\n",
       "        [0, 1, 0],\n",
       "        [1, 0, 0]])"
      ]
     },
     "execution_count": 66,
     "metadata": {},
     "output_type": "execute_result"
    }
   ],
   "source": [
    "t = torch.tensor([2, 3, 2, 2, 2, 1])\n",
    "one_hot_enc(t)"
   ]
  },
  {
   "cell_type": "markdown",
   "metadata": {
    "id": "GYU8DmNTDLN8"
   },
   "source": [
    "1.3.14 Создать тензор `arr` из 20 случайных целых чисел от 0 до 100. Найти самое частое значение в тензоре. \n",
    "Найти индексы в тензоре, соответствующие самому частому значению. Проверить, как работет алгоритм при двух значениях, имеющих наибольшую встречаемость, предложить приемлемое поведение алгоритма для этого случая. "
   ]
  },
  {
   "cell_type": "code",
   "execution_count": 69,
   "metadata": {},
   "outputs": [
    {
     "data": {
      "text/plain": [
       "tensor([25, 54,  3, 87, 17, 21, 20, 15, 56, 29, 37, 21, 95,  0,  1,  7, 81, 10,\n",
       "        66, 99])"
      ]
     },
     "execution_count": 69,
     "metadata": {},
     "output_type": "execute_result"
    }
   ],
   "source": [
    "arr = torch.randint(0, 101, size=(20, )) #задаем тензор\n",
    "arr"
   ]
  },
  {
   "cell_type": "code",
   "execution_count": 70,
   "metadata": {},
   "outputs": [
    {
     "data": {
      "text/plain": [
       "tensor(21)"
      ]
     },
     "execution_count": 70,
     "metadata": {},
     "output_type": "execute_result"
    }
   ],
   "source": [
    "mode = torch.mode(arr)[0] #находим самое частое значение\n",
    "mode"
   ]
  },
  {
   "cell_type": "code",
   "execution_count": 71,
   "metadata": {},
   "outputs": [
    {
     "data": {
      "text/plain": [
       "tensor([ 5, 11])"
      ]
     },
     "execution_count": 71,
     "metadata": {},
     "output_type": "execute_result"
    }
   ],
   "source": [
    "(arr == mode).nonzero(as_tuple=True)[0] #индексы, где встречается"
   ]
  },
  {
   "cell_type": "markdown",
   "metadata": {
    "id": "UenAEfEG1RDN"
   },
   "source": [
    "## 1.4 Математические задачи"
   ]
  },
  {
   "cell_type": "markdown",
   "metadata": {
    "id": "6weDrqJR1RDN"
   },
   "source": [
    "1.4.1 Приблизительно (с погрешностью порядка 1%) рассчитать на какой части интервала от 0 до 10 значение функции x * sin(x) больше 0.5."
   ]
  },
  {
   "cell_type": "code",
   "execution_count": 102,
   "metadata": {},
   "outputs": [
    {
     "data": {
      "text/plain": [
       "tensor(0.5200)"
      ]
     },
     "execution_count": 102,
     "metadata": {},
     "output_type": "execute_result"
    }
   ],
   "source": [
    "x = torch.linspace(0, 10, 100) #задаем значения x\n",
    "y = x * torch.sin(x)\n",
    "result = (y > 0.5).sum() / 100\n",
    "result"
   ]
  },
  {
   "cell_type": "markdown",
   "metadata": {
    "id": "B9xAv8TR1RDN"
   },
   "source": [
    "1.4.2 Найти все простые числа в пределах ста. (Для решения предлагается использовать Решето Эратосфена) Использовать не более 1 цикла (желательно)."
   ]
  },
  {
   "cell_type": "code",
   "execution_count": 78,
   "metadata": {},
   "outputs": [
    {
     "data": {
      "text/plain": [
       "tensor([ 2,  3,  5,  7, 11, 13, 17, 19, 23, 29, 31, 37, 41, 43, 47, 53, 59, 61,\n",
       "        67, 71, 73, 79, 83, 89, 97])"
      ]
     },
     "execution_count": 78,
     "metadata": {},
     "output_type": "execute_result"
    }
   ],
   "source": [
    "n = torch.tensor(100) #так как в пределах 100\n",
    "nums = torch.arange(2, 101) #генерируем тензор всех чисел\n",
    "\n",
    "#далее согласно правилам в Решете Эратосфена\n",
    "p = 2 #первое простое число = 2\n",
    "colander = torch.full(nums.size(), fill_value=True) #берем максу, где изначально все числа - простые\n",
    "#Далее согласно правилам имеет смысл вычеркивать не простые числа в таблице до тех пор, пока значение p**2 < n\n",
    "while p < torch.sqrt(n) + 1: #то есть пока p < 11\n",
    "    colander[2 * p - 2::p] = False #берем значения кратные p (2p, 3p, 4p) отнимаем 2 и с шагом p - это не простые числа\n",
    "    p = nums[colander & (nums > p)][0] #берем следующее незачеркнутое число\n",
    "nums[colander] #и числа, которые остались не зачеркнутыми, выводим"
   ]
  },
  {
   "cell_type": "markdown",
   "metadata": {
    "id": "AHupFoTR1RDN"
   },
   "source": [
    "1.4.3 Найти евклидово расстояние между двумя одномерными тензорами одинаковой размерности, не используя готовые решения из библиотек."
   ]
  },
  {
   "cell_type": "code",
   "execution_count": 79,
   "metadata": {},
   "outputs": [
    {
     "name": "stdout",
     "output_type": "stream",
     "text": [
      "Евклидово расстояние без помощи билиотеки: 22.360679626464844\n",
      "Евклидово расстояние с помощью билиотеки: 22.360679626464844\n"
     ]
    }
   ],
   "source": [
    "t1 = torch.tensor([1, 2, 3, 4, 5], dtype=torch.float) #задаем тензоры\n",
    "t2 = torch.tensor([11, 12, 13, 14, 15], dtype=torch.float)\n",
    "e_dist_1 = torch.sqrt(torch.sum((t1 - t2) ** 2)) #по формуле находим евклидово расстояние\n",
    "e_dist_2 = distance.euclidean(t1, t2) #проверяем встроенной библиотекой\n",
    "print(f'Евклидово расстояние без помощи билиотеки: {e_dist_1}\\n'\n",
    "      f'Евклидово расстояние с помощью билиотеки: {e_dist_2}')"
   ]
  },
  {
   "cell_type": "markdown",
   "metadata": {
    "id": "j-ZvjWDKDVMQ"
   },
   "source": [
    "1.4.4 Создать двумерный тензор 20 на 3, содержащий случайные целые числа от 0 до 100. \n",
    "Интерпретируя тензор как 20 векторов из 3х компонент, отсортировать его по длине векторов."
   ]
  },
  {
   "cell_type": "code",
   "execution_count": 80,
   "metadata": {},
   "outputs": [
    {
     "data": {
      "text/plain": [
       "tensor([[13, 76, 38],\n",
       "        [ 7, 66, 74],\n",
       "        [75, 24, 28],\n",
       "        [31, 40, 41],\n",
       "        [24, 55, 62],\n",
       "        [92, 20,  3],\n",
       "        [26,  2, 40],\n",
       "        [ 1, 24, 98],\n",
       "        [35, 87, 32],\n",
       "        [31, 25, 94],\n",
       "        [56, 62, 73],\n",
       "        [76, 68, 59],\n",
       "        [47,  2, 30],\n",
       "        [ 7, 46, 79],\n",
       "        [53, 12, 53],\n",
       "        [30, 78, 41],\n",
       "        [83,  6, 56],\n",
       "        [83, 41, 47],\n",
       "        [ 6, 54, 40],\n",
       "        [45, 42, 59]])"
      ]
     },
     "execution_count": 80,
     "metadata": {},
     "output_type": "execute_result"
    }
   ],
   "source": [
    "t = torch.randint(0, 100, size=(20, 3)) #формируем тензор\n",
    "t"
   ]
  },
  {
   "cell_type": "code",
   "execution_count": 81,
   "metadata": {},
   "outputs": [
    {
     "data": {
      "text/plain": [
       "tensor([[26,  2, 40],\n",
       "        [47,  2, 30],\n",
       "        [31, 40, 41],\n",
       "        [ 6, 54, 40],\n",
       "        [53, 12, 53],\n",
       "        [75, 24, 28],\n",
       "        [45, 42, 59],\n",
       "        [13, 76, 38],\n",
       "        [24, 55, 62],\n",
       "        [ 7, 46, 79],\n",
       "        [30, 78, 41],\n",
       "        [92, 20,  3],\n",
       "        [35, 87, 32],\n",
       "        [ 7, 66, 74],\n",
       "        [83,  6, 56],\n",
       "        [ 1, 24, 98],\n",
       "        [31, 25, 94],\n",
       "        [83, 41, 47],\n",
       "        [56, 62, 73],\n",
       "        [76, 68, 59]])"
      ]
     },
     "execution_count": 81,
     "metadata": {},
     "output_type": "execute_result"
    }
   ],
   "source": [
    "t[torch.sqrt((t**2).sum(1)).argsort()] #Длина вектора - корень из суммы квадратов координат"
   ]
  },
  {
   "cell_type": "markdown",
   "metadata": {
    "id": "IkBRFTKa1RDO"
   },
   "source": [
    "1.4.5 Найти \"локальные максимумы\" в одномерном тензоре (т.е. значения, большие предыдущего и последующего) `torch.tensor([1, 3, 7, 1, 2, 6, 0, 1])` и вывести их индексы."
   ]
  },
  {
   "cell_type": "code",
   "execution_count": 83,
   "metadata": {},
   "outputs": [
    {
     "name": "stdout",
     "output_type": "stream",
     "text": [
      "Значения Локальных максимумов: tensor([7, 6, 1])\n",
      "Их индексы: tensor([2, 5, 7])\"\n"
     ]
    }
   ],
   "source": [
    "t = torch.tensor([1, 3, 7, 1, 2, 6, 0, 1])\n",
    "r = torch.roll(t, -1) #сворачиваем до [3, 7, 1, 2, 6, 0, 1, 1], подвинуть влево на одну, т.е. берем все правые\n",
    "l = torch.roll(t, 1) #сворачиваем до [1, 1, 3, 7, 1, 2, 6, 0], подвинуть вправо на одну, т.е. берем все левые\n",
    "\n",
    "cond = (t > l) & (t > r) #лок макс по условию\n",
    "#края считаем отдельно:\n",
    "cond[0] = t[0] > t[1] #левый край\n",
    "cond[-1] = t[-1] > t[-2] #правый край\n",
    "\n",
    "inds = cond.nonzero(as_tuple=True) #индексы\n",
    "print(f'Значения Локальных максимумов: {t[inds]}\\nИх индексы: {inds[0]}\"')"
   ]
  },
  {
   "cell_type": "markdown",
   "metadata": {
    "id": "VXD58rlc1RDP"
   },
   "source": [
    "1.4.6 Задан произвольный массив numpy (например массив из 100 случайных числе от 0 до 1). Необходимо найти в нем число наиболее близкое к заданному."
   ]
  },
  {
   "cell_type": "code",
   "execution_count": 89,
   "metadata": {},
   "outputs": [],
   "source": [
    "def find_number(t: torch.Tensor, n: float):\n",
    "    #то есть будем смотреть минимаальную разность между числами по модулю\n",
    "    print(f'Задано число: {n}\\nБлижайшее к заданному числу: {t[(t-n).abs().argmin()]}\\nИндекс ближайшего числа: {(t-n).abs().argmin()}')"
   ]
  },
  {
   "cell_type": "code",
   "execution_count": 90,
   "metadata": {},
   "outputs": [
    {
     "name": "stdout",
     "output_type": "stream",
     "text": [
      "Задано число: 0.6\n",
      "Ближайшее к заданному числу: 0.5907866954803467\n",
      "Индекс ближайшего числа: 47\n"
     ]
    }
   ],
   "source": [
    "t = torch.rand(100, )\n",
    "find_number(t, 0.6)"
   ]
  },
  {
   "cell_type": "code",
   "execution_count": 91,
   "metadata": {},
   "outputs": [
    {
     "name": "stdout",
     "output_type": "stream",
     "text": [
      "Задано число: 0.01\n",
      "Ближайшее к заданному числу: 0.006974458694458008\n",
      "Индекс ближайшего числа: 88\n"
     ]
    }
   ],
   "source": [
    "find_number(t, 0.01)"
   ]
  },
  {
   "cell_type": "code",
   "execution_count": 92,
   "metadata": {},
   "outputs": [
    {
     "name": "stdout",
     "output_type": "stream",
     "text": [
      "Задано число: 0.9\n",
      "Ближайшее к заданному числу: 0.8970754146575928\n",
      "Индекс ближайшего числа: 36\n"
     ]
    }
   ],
   "source": [
    "find_number(t, 0.9)"
   ]
  },
  {
   "cell_type": "code",
   "execution_count": 93,
   "metadata": {},
   "outputs": [
    {
     "name": "stdout",
     "output_type": "stream",
     "text": [
      "Задано число: 1\n",
      "Ближайшее к заданному числу: 0.999396562576294\n",
      "Индекс ближайшего числа: 26\n"
     ]
    }
   ],
   "source": [
    "find_number(t, 1)"
   ]
  },
  {
   "cell_type": "markdown",
   "metadata": {
    "id": "81F_B2ij1RDP"
   },
   "source": [
    "1.4.7 Решить матричное уравнение `A*X*B=-C` - найти матрицу X. Где `A = [[-1, 2, 4], [-3, 1, 2], [-3, 0, 1]]`, `B=[[3, -1], [2, 1]]`, `C=[[7, 21], [11, 8], [8, 4]]`."
   ]
  },
  {
   "cell_type": "code",
   "execution_count": 94,
   "metadata": {},
   "outputs": [
    {
     "data": {
      "text/plain": [
       "tensor([[ 1.0000e+00,  5.9605e-08],\n",
       "        [-2.0000e+00,  1.0000e+00],\n",
       "        [ 3.0000e+00, -4.0000e+00]])"
      ]
     },
     "execution_count": 94,
     "metadata": {},
     "output_type": "execute_result"
    }
   ],
   "source": [
    "A = torch.tensor([[-1, 2, 4],[-3, 1, 2],[-3, 0, 1],], dtype=torch.float)\n",
    "B = torch.tensor([[3, -1],[2, 1],], dtype=torch.float)\n",
    "C = torch.tensor([[7, 21],[11, 8],[8, 4],], dtype=torch.float)\n",
    "\n",
    "# torch.inverse - вычисление обратной матрицы\n",
    "# torch.matmul - вычисление матричного произведения\n",
    "# Нам надо найти -A * -C * -B\n",
    "X = torch.matmul(torch.matmul(torch.inverse(A), -C), torch.inverse(B))\n",
    "X"
   ]
  },
  {
   "cell_type": "markdown",
   "metadata": {
    "id": "1P7O19bj1RDP"
   },
   "source": [
    "1.4.8 Проверить, является ли система векторов a1 = (3; −3; 0; 7),\n",
    "a2 = (2; 2; 4; 7), a3 = (1; 2; 3; 4), a4 = (5; −4; 1; 3) линейно зависимой?"
   ]
  },
  {
   "cell_type": "code",
   "execution_count": 95,
   "metadata": {},
   "outputs": [],
   "source": [
    "a1 = torch.tensor([3, -3, 0, 7], dtype=torch.float) #задаем тензоры\n",
    "a2 = torch.tensor([2, 2, 4, 7], dtype=torch.float)\n",
    "a3 = torch.tensor([1, 2, 3, 4], dtype=torch.float)\n",
    "a4 = torch.tensor([5, -4, 1, 3], dtype=torch.float)"
   ]
  },
  {
   "cell_type": "code",
   "execution_count": 96,
   "metadata": {},
   "outputs": [
    {
     "data": {
      "text/plain": [
       "tensor([[ 3., -3.,  0.,  7.],\n",
       "        [ 2.,  2.,  4.,  7.],\n",
       "        [ 1.,  2.,  3.,  4.],\n",
       "        [ 5., -4.,  1.,  3.]])"
      ]
     },
     "execution_count": 96,
     "metadata": {},
     "output_type": "execute_result"
    }
   ],
   "source": [
    "m = torch.vstack([a1, a2, a3, a4]) #объединим по вертикали\n",
    "m"
   ]
  },
  {
   "cell_type": "code",
   "execution_count": 98,
   "metadata": {},
   "outputs": [
    {
     "name": "stdout",
     "output_type": "stream",
     "text": [
      "Система векторов не является линейно независимой.\n"
     ]
    }
   ],
   "source": [
    "if torch.linalg.matrix_rank(m) == m.shape[0]: #если ранг матрицы совпадает с количеством векторов, то линейно независимая\n",
    "    print(\"Система векторов является линейно независимой.\")\n",
    "else:\n",
    "    print(\"Система векторов не является линейно независимой.\")"
   ]
  },
  {
   "cell_type": "markdown",
   "metadata": {
    "id": "Jg_bzMVS1RDQ"
   },
   "source": [
    "1.4.9 Сгенирировать тензор из 200 случайных целых чисел, нормально распрделенных cо стандартным отклонением $\\sigma = 10$ и матожиданием $\\mu = 0$. Построить тензор гистограммы с 20 бинами. "
   ]
  },
  {
   "cell_type": "code",
   "execution_count": 99,
   "metadata": {},
   "outputs": [
    {
     "data": {
      "text/plain": [
       "torch.return_types.histogram(\n",
       "hist=tensor([ 3.,  1.,  3.,  6.,  5., 17., 13., 11., 20., 24., 26., 14., 12., 17.,\n",
       "         8.,  9.,  5.,  3.,  1.,  2.]),\n",
       "bin_edges=tensor([-24.5768, -22.0740, -19.5712, -17.0684, -14.5655, -12.0627,  -9.5599,\n",
       "         -7.0571,  -4.5543,  -2.0515,   0.4514,   2.9542,   5.4570,   7.9598,\n",
       "         10.4626,  12.9654,  15.4682,  17.9711,  20.4739,  22.9767,  25.4795]))"
      ]
     },
     "execution_count": 99,
     "metadata": {},
     "output_type": "execute_result"
    }
   ],
   "source": [
    "t = torch.normal(mean=0, std=10, size=(200,)) #Задаем тензор с условиями задания\n",
    "torch.histogram(t, bins=20) #строим, указам бины"
   ]
  },
  {
   "cell_type": "code",
   "execution_count": 100,
   "metadata": {},
   "outputs": [
    {
     "data": {
      "text/plain": [
       "tensor([ 3.,  1.,  3.,  6.,  5., 17., 13., 11., 20., 24., 26., 14., 12., 17.,\n",
       "         8.,  9.,  5.,  3.,  1.,  2.])"
      ]
     },
     "execution_count": 100,
     "metadata": {},
     "output_type": "execute_result"
    }
   ],
   "source": [
    "# Если только гистограмму, то можно использовать это, min и max по умолчанию 0, чтоб использовались max и min из данных\n",
    "torch.histc(t, bins=20)"
   ]
  }
 ],
 "metadata": {
  "colab": {
   "name": "01_tensor_v1_blank.ipynb",
   "provenance": [],
   "toc_visible": true
  },
  "kernelspec": {
   "display_name": "Python 3 (ipykernel)",
   "language": "python",
   "name": "python3"
  },
  "language_info": {
   "codemirror_mode": {
    "name": "ipython",
    "version": 3
   },
   "file_extension": ".py",
   "mimetype": "text/x-python",
   "name": "python",
   "nbconvert_exporter": "python",
   "pygments_lexer": "ipython3",
   "version": "3.9.7"
  }
 },
 "nbformat": 4,
 "nbformat_minor": 1
}
